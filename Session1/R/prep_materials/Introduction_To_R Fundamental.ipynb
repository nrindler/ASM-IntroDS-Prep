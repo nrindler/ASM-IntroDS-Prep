{
 "cells": [
  {
   "cell_type": "markdown",
   "metadata": {},
   "source": [
    "# R Programming\n",
    "\n",
    "- R is a software environment for data analysis, statistical computing, and graphics. \n",
    "- It is also a programming language. \n",
    "- Like Python, R is free and open-source. \n",
    "- Compared to Python, R's syntax is more natural to use and allows you to complete data analyses in fewer lines of code.\n",
    "\n",
    "# Fundamentals\n",
    "\n",
    "- First appeared in 1992 \n",
    "- Provides Statistical and AI techniques\n",
    "- Gives Visualization capabilities \n",
    "- It's highly extensible\n",
    "\n",
    "\n",
    "- It comes with <b>base</b> package and the rest should be installed\n",
    "- Around 4000 packages are available in CRAN\n",
    "\n",
    "# Installation\n",
    "\n",
    "- conda install -c r r-essentials\n",
    "\n",
    "\n",
    "# Basics\n",
    "\n"
   ]
  },
  {
   "cell_type": "code",
   "execution_count": 1,
   "metadata": {
    "scrolled": true
   },
   "outputs": [
    {
     "data": {
      "text/html": [
       "'C:/Users/nadav.rindler/Documents/DataViz/DSPL Sept2017/Pre-Course R'"
      ],
      "text/latex": [
       "'C:/Users/nadav.rindler/Documents/DataViz/DSPL Sept2017/Pre-Course R'"
      ],
      "text/markdown": [
       "'C:/Users/nadav.rindler/Documents/DataViz/DSPL Sept2017/Pre-Course R'"
      ],
      "text/plain": [
       "[1] \"C:/Users/nadav.rindler/Documents/DataViz/DSPL Sept2017/Pre-Course R\""
      ]
     },
     "metadata": {},
     "output_type": "display_data"
    }
   ],
   "source": [
    "# To get Working Directory\n",
    "getwd()"
   ]
  },
  {
   "cell_type": "code",
   "execution_count": 2,
   "metadata": {
    "collapsed": true,
    "scrolled": false
   },
   "outputs": [],
   "source": [
    "# To assign values to an object\n",
    "num1 <- 5\n",
    "name = 'John'\n",
    "\n",
    "x = 1:20"
   ]
  },
  {
   "cell_type": "code",
   "execution_count": 3,
   "metadata": {
    "scrolled": true
   },
   "outputs": [
    {
     "name": "stdout",
     "output_type": "stream",
     "text": [
      "[1] 5\n",
      "[1] \"John\"\n",
      " [1]  1  2  3  4  5  6  7  8  9 10 11 12 13 14 15 16 17 18 19 20\n"
     ]
    }
   ],
   "source": [
    "# To print values and strings\n",
    "print (num1)\n",
    "print (name)\n",
    "print (x)"
   ]
  },
  {
   "cell_type": "code",
   "execution_count": 4,
   "metadata": {
    "scrolled": true
   },
   "outputs": [
    {
     "name": "stdout",
     "output_type": "stream",
     "text": [
      "[1] \"Hello  John !!\"\n"
     ]
    }
   ],
   "source": [
    "# To concatinate two or more strings\n",
    "greeting = paste('Hello ', name, '!!')\n",
    "print (greeting)"
   ]
  },
  {
   "cell_type": "code",
   "execution_count": 5,
   "metadata": {
    "scrolled": true
   },
   "outputs": [
    {
     "data": {
      "text/html": [
       "<ol class=list-inline>\n",
       "\t<li>'greeting'</li>\n",
       "\t<li>'name'</li>\n",
       "\t<li>'num1'</li>\n",
       "\t<li>'x'</li>\n",
       "</ol>\n"
      ],
      "text/latex": [
       "\\begin{enumerate*}\n",
       "\\item 'greeting'\n",
       "\\item 'name'\n",
       "\\item 'num1'\n",
       "\\item 'x'\n",
       "\\end{enumerate*}\n"
      ],
      "text/markdown": [
       "1. 'greeting'\n",
       "2. 'name'\n",
       "3. 'num1'\n",
       "4. 'x'\n",
       "\n",
       "\n"
      ],
      "text/plain": [
       "[1] \"greeting\" \"name\"     \"num1\"     \"x\"       "
      ]
     },
     "metadata": {},
     "output_type": "display_data"
    },
    {
     "data": {
      "text/html": [
       "<ol class=list-inline>\n",
       "\t<li>'greeting'</li>\n",
       "\t<li>'name'</li>\n",
       "\t<li>'num1'</li>\n",
       "\t<li>'num2'</li>\n",
       "\t<li>'x'</li>\n",
       "</ol>\n"
      ],
      "text/latex": [
       "\\begin{enumerate*}\n",
       "\\item 'greeting'\n",
       "\\item 'name'\n",
       "\\item 'num1'\n",
       "\\item 'num2'\n",
       "\\item 'x'\n",
       "\\end{enumerate*}\n"
      ],
      "text/markdown": [
       "1. 'greeting'\n",
       "2. 'name'\n",
       "3. 'num1'\n",
       "4. 'num2'\n",
       "5. 'x'\n",
       "\n",
       "\n"
      ],
      "text/plain": [
       "[1] \"greeting\" \"name\"     \"num1\"     \"num2\"     \"x\"       "
      ]
     },
     "metadata": {},
     "output_type": "display_data"
    }
   ],
   "source": [
    "# To show a list of defined objects\n",
    "ls()\n",
    "x = 1\n",
    "num2 = -13\n",
    "ls()"
   ]
  },
  {
   "cell_type": "markdown",
   "metadata": {},
   "source": [
    "# I. Data Structures\n",
    "\n",
    "- Base data structures can be organized by their dimensionality and \n",
    "  whether they are homogeneous or heterogeneous\n",
    "  - <font color=blue><b>Homogeneous</b></font>: all elements must be of the same type\n",
    "  - <font color=blue><b>Heterogeneous</b></font>: the elements can be of diﬀerent type\n",
    "  \n",
    "## 1. Vector\n",
    "\n",
    "- A vector is a series of values, stored toghether as a single object. \n",
    "- Vectors can be created in R using the <b>c()</b> function, which stands for combine.\n",
    "\n",
    "Note: All elements of a vector should be of one data-type."
   ]
  },
  {
   "cell_type": "code",
   "execution_count": 6,
   "metadata": {
    "scrolled": true
   },
   "outputs": [
    {
     "name": "stdout",
     "output_type": "stream",
     "text": [
      "[1] \"Malaysia\"  \"Japan\"     \"Iran\"      \"Singapore\" \"Germany\"  \n",
      "[1]  4.00  2.00  0.00  8.65 93.00  4.00  9.00  3.00\n"
     ]
    }
   ],
   "source": [
    "# To define a vector\n",
    "weights = c(4, 2, 0, 8.65, 93, 4, 9, 3)\n",
    "countries = c(\"Malaysia\", \"Japan\", \"Iran\", \"Singapore\", \"Germany\")\n",
    "\n",
    "print (countries)\n",
    "print (weights)"
   ]
  },
  {
   "cell_type": "code",
   "execution_count": 7,
   "metadata": {
    "scrolled": true
   },
   "outputs": [
    {
     "data": {
      "text/html": [
       "'Iran'"
      ],
      "text/latex": [
       "'Iran'"
      ],
      "text/markdown": [
       "'Iran'"
      ],
      "text/plain": [
       "[1] \"Iran\""
      ]
     },
     "metadata": {},
     "output_type": "display_data"
    }
   ],
   "source": [
    "countries[3]"
   ]
  },
  {
   "cell_type": "code",
   "execution_count": 8,
   "metadata": {
    "scrolled": true
   },
   "outputs": [
    {
     "data": {
      "text/html": [
       "<ol class=list-inline>\n",
       "\t<li>'Japan'</li>\n",
       "\t<li>'Iran'</li>\n",
       "\t<li>'Singapore'</li>\n",
       "</ol>\n"
      ],
      "text/latex": [
       "\\begin{enumerate*}\n",
       "\\item 'Japan'\n",
       "\\item 'Iran'\n",
       "\\item 'Singapore'\n",
       "\\end{enumerate*}\n"
      ],
      "text/markdown": [
       "1. 'Japan'\n",
       "2. 'Iran'\n",
       "3. 'Singapore'\n",
       "\n",
       "\n"
      ],
      "text/plain": [
       "[1] \"Japan\"     \"Iran\"      \"Singapore\""
      ]
     },
     "metadata": {},
     "output_type": "display_data"
    },
    {
     "data": {
      "text/html": [
       "<ol class=list-inline>\n",
       "\t<li>'Singapore'</li>\n",
       "\t<li>'Iran'</li>\n",
       "\t<li>'Japan'</li>\n",
       "</ol>\n"
      ],
      "text/latex": [
       "\\begin{enumerate*}\n",
       "\\item 'Singapore'\n",
       "\\item 'Iran'\n",
       "\\item 'Japan'\n",
       "\\end{enumerate*}\n"
      ],
      "text/markdown": [
       "1. 'Singapore'\n",
       "2. 'Iran'\n",
       "3. 'Japan'\n",
       "\n",
       "\n"
      ],
      "text/plain": [
       "[1] \"Singapore\" \"Iran\"      \"Japan\"    "
      ]
     },
     "metadata": {},
     "output_type": "display_data"
    }
   ],
   "source": [
    "countries[2:4]\n",
    "countries[4:2]"
   ]
  },
  {
   "cell_type": "code",
   "execution_count": 9,
   "metadata": {
    "scrolled": true
   },
   "outputs": [
    {
     "data": {
      "text/html": [
       "<ol class=list-inline>\n",
       "\t<li>4</li>\n",
       "\t<li>8.65</li>\n",
       "</ol>\n"
      ],
      "text/latex": [
       "\\begin{enumerate*}\n",
       "\\item 4\n",
       "\\item 8.65\n",
       "\\end{enumerate*}\n"
      ],
      "text/markdown": [
       "1. 4\n",
       "2. 8.65\n",
       "\n",
       "\n"
      ],
      "text/plain": [
       "[1] 4.00 8.65"
      ]
     },
     "metadata": {},
     "output_type": "display_data"
    }
   ],
   "source": [
    "# To show 1st and 4th elements of weights\n",
    "weights[c(1, 4)]"
   ]
  },
  {
   "cell_type": "code",
   "execution_count": 10,
   "metadata": {
    "scrolled": true
   },
   "outputs": [
    {
     "data": {
      "text/html": [
       "<ol class=list-inline>\n",
       "\t<li>'Japan'</li>\n",
       "\t<li>'Iran'</li>\n",
       "\t<li>'Germany'</li>\n",
       "</ol>\n"
      ],
      "text/latex": [
       "\\begin{enumerate*}\n",
       "\\item 'Japan'\n",
       "\\item 'Iran'\n",
       "\\item 'Germany'\n",
       "\\end{enumerate*}\n"
      ],
      "text/markdown": [
       "1. 'Japan'\n",
       "2. 'Iran'\n",
       "3. 'Germany'\n",
       "\n",
       "\n"
      ],
      "text/plain": [
       "[1] \"Japan\"   \"Iran\"    \"Germany\""
      ]
     },
     "metadata": {},
     "output_type": "display_data"
    }
   ],
   "source": [
    "#To show all elements of countries except 1st and 4th\n",
    "countries[-c(1, 4)]"
   ]
  },
  {
   "cell_type": "code",
   "execution_count": 11,
   "metadata": {
    "scrolled": true
   },
   "outputs": [
    {
     "data": {
      "text/html": [
       "'double'"
      ],
      "text/latex": [
       "'double'"
      ],
      "text/markdown": [
       "'double'"
      ],
      "text/plain": [
       "[1] \"double\""
      ]
     },
     "metadata": {},
     "output_type": "display_data"
    },
    {
     "data": {
      "text/html": [
       "'character'"
      ],
      "text/latex": [
       "'character'"
      ],
      "text/markdown": [
       "'character'"
      ],
      "text/plain": [
       "[1] \"character\""
      ]
     },
     "metadata": {},
     "output_type": "display_data"
    },
    {
     "name": "stdout",
     "output_type": "stream",
     "text": [
      "[1] \"=================\"\n",
      "[1] \"Number of elements in countries:  5\"\n"
     ]
    }
   ],
   "source": [
    "# To take more information about an object\n",
    "\n",
    "# What Data Type?\n",
    "typeof(weights)\n",
    "typeof(countries)\n",
    "print (\"=================\")\n",
    "\n",
    "# How many elements\n",
    "print (paste(\"Number of elements in countries: \", length(countries)))"
   ]
  },
  {
   "cell_type": "code",
   "execution_count": 12,
   "metadata": {
    "scrolled": true
   },
   "outputs": [
    {
     "data": {
      "text/html": [
       "FALSE"
      ],
      "text/latex": [
       "FALSE"
      ],
      "text/markdown": [
       "FALSE"
      ],
      "text/plain": [
       "[1] FALSE"
      ]
     },
     "metadata": {},
     "output_type": "display_data"
    },
    {
     "data": {
      "text/html": [
       "TRUE"
      ],
      "text/latex": [
       "TRUE"
      ],
      "text/markdown": [
       "TRUE"
      ],
      "text/plain": [
       "[1] TRUE"
      ]
     },
     "metadata": {},
     "output_type": "display_data"
    },
    {
     "data": {
      "text/html": [
       "'======================='"
      ],
      "text/latex": [
       "'======================='"
      ],
      "text/markdown": [
       "'======================='"
      ],
      "text/plain": [
       "[1] \"=======================\""
      ]
     },
     "metadata": {},
     "output_type": "display_data"
    },
    {
     "data": {
      "text/html": [
       "TRUE"
      ],
      "text/latex": [
       "TRUE"
      ],
      "text/markdown": [
       "TRUE"
      ],
      "text/plain": [
       "[1] TRUE"
      ]
     },
     "metadata": {},
     "output_type": "display_data"
    },
    {
     "data": {
      "text/html": [
       "TRUE"
      ],
      "text/latex": [
       "TRUE"
      ],
      "text/markdown": [
       "TRUE"
      ],
      "text/plain": [
       "[1] TRUE"
      ]
     },
     "metadata": {},
     "output_type": "display_data"
    }
   ],
   "source": [
    "# To check data type of an object\n",
    "is.double(countries)\n",
    "is.character(countries)\n",
    "\"=======================\"\n",
    "is.double(weights)\n",
    "is.numeric(weights)"
   ]
  },
  {
   "cell_type": "code",
   "execution_count": 13,
   "metadata": {
    "scrolled": true
   },
   "outputs": [
    {
     "data": {
      "text/html": [
       "'numeric'"
      ],
      "text/latex": [
       "'numeric'"
      ],
      "text/markdown": [
       "'numeric'"
      ],
      "text/plain": [
       "[1] \"numeric\""
      ]
     },
     "metadata": {},
     "output_type": "display_data"
    }
   ],
   "source": [
    "#Double and numeric both refer to the same data type, however 'numeric' also refers to the class\n",
    "class(weights)"
   ]
  },
  {
   "cell_type": "code",
   "execution_count": 14,
   "metadata": {
    "scrolled": true
   },
   "outputs": [
    {
     "data": {
      "text/html": [
       "<dl class=dl-horizontal>\n",
       "\t<dt>Apple</dt>\n",
       "\t\t<dd>4</dd>\n",
       "\t<dt>Orange</dt>\n",
       "\t\t<dd>2</dd>\n",
       "\t<dt>Kivi</dt>\n",
       "\t\t<dd>0</dd>\n",
       "\t<dt>Watermelon</dt>\n",
       "\t\t<dd>8.65</dd>\n",
       "\t<dt>Strawberry</dt>\n",
       "\t\t<dd>93</dd>\n",
       "\t<dt>Blueberry</dt>\n",
       "\t\t<dd>4</dd>\n",
       "\t<dt>Banana</dt>\n",
       "\t\t<dd>9</dd>\n",
       "\t<dt>Durian</dt>\n",
       "\t\t<dd>3</dd>\n",
       "</dl>\n"
      ],
      "text/latex": [
       "\\begin{description*}\n",
       "\\item[Apple] 4\n",
       "\\item[Orange] 2\n",
       "\\item[Kivi] 0\n",
       "\\item[Watermelon] 8.65\n",
       "\\item[Strawberry] 93\n",
       "\\item[Blueberry] 4\n",
       "\\item[Banana] 9\n",
       "\\item[Durian] 3\n",
       "\\end{description*}\n"
      ],
      "text/markdown": [
       "Apple\n",
       ":   4Orange\n",
       ":   2Kivi\n",
       ":   0Watermelon\n",
       ":   8.65Strawberry\n",
       ":   93Blueberry\n",
       ":   4Banana\n",
       ":   9Durian\n",
       ":   3\n",
       "\n"
      ],
      "text/plain": [
       "     Apple     Orange       Kivi Watermelon Strawberry  Blueberry     Banana \n",
       "      4.00       2.00       0.00       8.65      93.00       4.00       9.00 \n",
       "    Durian \n",
       "      3.00 "
      ]
     },
     "metadata": {},
     "output_type": "display_data"
    },
    {
     "data": {
      "text/html": [
       "<strong>Watermelon:</strong> 8.65"
      ],
      "text/latex": [
       "\\textbf{Watermelon:} 8.65"
      ],
      "text/markdown": [
       "**Watermelon:** 8.65"
      ],
      "text/plain": [
       "Watermelon \n",
       "      8.65 "
      ]
     },
     "metadata": {},
     "output_type": "display_data"
    }
   ],
   "source": [
    "# To name elements of a vector\n",
    "names(weights) = c(\"Apple\", \"Orange\", \"Kivi\", \"Watermelon\", \"Strawberry\", \"Blueberry\", \"Banana\", \"Durian\")\n",
    "\n",
    "weights\n",
    "weights[\"Watermelon\"]"
   ]
  },
  {
   "cell_type": "code",
   "execution_count": 17,
   "metadata": {
    "scrolled": true
   },
   "outputs": [
    {
     "data": {
      "text/html": [
       "8.65"
      ],
      "text/latex": [
       "8.65"
      ],
      "text/markdown": [
       "8.65"
      ],
      "text/plain": [
       "[1] 8.65"
      ]
     },
     "metadata": {},
     "output_type": "display_data"
    }
   ],
   "source": [
    "#get *just* the value of the element named Watermelon\n",
    "weights[\"Watermelon\"][[1]]"
   ]
  },
  {
   "cell_type": "code",
   "execution_count": 18,
   "metadata": {
    "scrolled": true
   },
   "outputs": [
    {
     "data": {
      "text/html": [
       "TRUE"
      ],
      "text/latex": [
       "TRUE"
      ],
      "text/markdown": [
       "TRUE"
      ],
      "text/plain": [
       "[1] TRUE"
      ]
     },
     "metadata": {},
     "output_type": "display_data"
    },
    {
     "data": {
      "text/html": [
       "<dl class=dl-horizontal>\n",
       "\t<dt>Lion</dt>\n",
       "\t\t<dd>3</dd>\n",
       "\t<dt>Horse</dt>\n",
       "\t\t<dd>12</dd>\n",
       "\t<dt>Fish</dt>\n",
       "\t\t<dd>53</dd>\n",
       "\t<dt>Eagle</dt>\n",
       "\t\t<dd>6</dd>\n",
       "</dl>\n"
      ],
      "text/latex": [
       "\\begin{description*}\n",
       "\\item[Lion] 3\n",
       "\\item[Horse] 12\n",
       "\\item[Fish] 53\n",
       "\\item[Eagle] 6\n",
       "\\end{description*}\n"
      ],
      "text/markdown": [
       "Lion\n",
       ":   3Horse\n",
       ":   12Fish\n",
       ":   53Eagle\n",
       ":   6\n",
       "\n"
      ],
      "text/plain": [
       " Lion Horse  Fish Eagle \n",
       "    3    12    53     6 "
      ]
     },
     "metadata": {},
     "output_type": "display_data"
    }
   ],
   "source": [
    "animals = c(Lion = 3, Horse = 12, Fish = 53, Eagle = 6)\n",
    "is.vector(animals)\n",
    "animals"
   ]
  },
  {
   "cell_type": "code",
   "execution_count": 19,
   "metadata": {
    "scrolled": true
   },
   "outputs": [
    {
     "data": {
      "text/html": [
       "<dl class=dl-horizontal>\n",
       "\t<dt>Horse</dt>\n",
       "\t\t<dd>12</dd>\n",
       "\t<dt>Fish</dt>\n",
       "\t\t<dd>53</dd>\n",
       "</dl>\n"
      ],
      "text/latex": [
       "\\begin{description*}\n",
       "\\item[Horse] 12\n",
       "\\item[Fish] 53\n",
       "\\end{description*}\n"
      ],
      "text/markdown": [
       "Horse\n",
       ":   12Fish\n",
       ":   53\n",
       "\n"
      ],
      "text/plain": [
       "Horse  Fish \n",
       "   12    53 "
      ]
     },
     "metadata": {},
     "output_type": "display_data"
    }
   ],
   "source": [
    "animals[!animals < 10]"
   ]
  },
  {
   "cell_type": "code",
   "execution_count": 20,
   "metadata": {
    "scrolled": true
   },
   "outputs": [
    {
     "name": "stdout",
     "output_type": "stream",
     "text": [
      " int [1:11] 20 21 22 23 24 25 26 27 28 29 ...\n",
      " num [1:11] 1 1.5 2 2.5 3 3.5 4 4.5 5 5.5 ...\n",
      " num [1:5] 1 3 5 7 9\n"
     ]
    }
   ],
   "source": [
    "# Computations on vectors are performed element-wise\n",
    "a = seq(20, 30)\n",
    "b = seq(1, 6, by = 0.5)\n",
    "c = seq(1, 10, by = 2)\n",
    "\n",
    "str(a)\n",
    "str(b)\n",
    "str(c)"
   ]
  },
  {
   "cell_type": "code",
   "execution_count": 21,
   "metadata": {
    "scrolled": true
   },
   "outputs": [
    {
     "data": {
      "text/html": [
       "<ol class=list-inline>\n",
       "\t<li>19</li>\n",
       "\t<li>19.5</li>\n",
       "\t<li>20</li>\n",
       "\t<li>20.5</li>\n",
       "\t<li>21</li>\n",
       "\t<li>21.5</li>\n",
       "\t<li>22</li>\n",
       "\t<li>22.5</li>\n",
       "\t<li>23</li>\n",
       "\t<li>23.5</li>\n",
       "\t<li>24</li>\n",
       "</ol>\n"
      ],
      "text/latex": [
       "\\begin{enumerate*}\n",
       "\\item 19\n",
       "\\item 19.5\n",
       "\\item 20\n",
       "\\item 20.5\n",
       "\\item 21\n",
       "\\item 21.5\n",
       "\\item 22\n",
       "\\item 22.5\n",
       "\\item 23\n",
       "\\item 23.5\n",
       "\\item 24\n",
       "\\end{enumerate*}\n"
      ],
      "text/markdown": [
       "1. 19\n",
       "2. 19.5\n",
       "3. 20\n",
       "4. 20.5\n",
       "5. 21\n",
       "6. 21.5\n",
       "7. 22\n",
       "8. 22.5\n",
       "9. 23\n",
       "10. 23.5\n",
       "11. 24\n",
       "\n",
       "\n"
      ],
      "text/plain": [
       " [1] 19.0 19.5 20.0 20.5 21.0 21.5 22.0 22.5 23.0 23.5 24.0"
      ]
     },
     "metadata": {},
     "output_type": "display_data"
    },
    {
     "data": {
      "text/html": [
       "'============'"
      ],
      "text/latex": [
       "'============'"
      ],
      "text/markdown": [
       "'============'"
      ],
      "text/plain": [
       "[1] \"============\""
      ]
     },
     "metadata": {},
     "output_type": "display_data"
    },
    {
     "name": "stderr",
     "output_type": "stream",
     "text": [
      "Warning message in a + c:\n",
      "\"longer object length is not a multiple of shorter object length\""
     ]
    },
    {
     "data": {
      "text/html": [
       "<ol class=list-inline>\n",
       "\t<li>21</li>\n",
       "\t<li>24</li>\n",
       "\t<li>27</li>\n",
       "\t<li>30</li>\n",
       "\t<li>33</li>\n",
       "\t<li>26</li>\n",
       "\t<li>29</li>\n",
       "\t<li>32</li>\n",
       "\t<li>35</li>\n",
       "\t<li>38</li>\n",
       "\t<li>31</li>\n",
       "</ol>\n"
      ],
      "text/latex": [
       "\\begin{enumerate*}\n",
       "\\item 21\n",
       "\\item 24\n",
       "\\item 27\n",
       "\\item 30\n",
       "\\item 33\n",
       "\\item 26\n",
       "\\item 29\n",
       "\\item 32\n",
       "\\item 35\n",
       "\\item 38\n",
       "\\item 31\n",
       "\\end{enumerate*}\n"
      ],
      "text/markdown": [
       "1. 21\n",
       "2. 24\n",
       "3. 27\n",
       "4. 30\n",
       "5. 33\n",
       "6. 26\n",
       "7. 29\n",
       "8. 32\n",
       "9. 35\n",
       "10. 38\n",
       "11. 31\n",
       "\n",
       "\n"
      ],
      "text/plain": [
       " [1] 21 24 27 30 33 26 29 32 35 38 31"
      ]
     },
     "metadata": {},
     "output_type": "display_data"
    }
   ],
   "source": [
    "# Computations on vectors are performed element-wise - Continue\n",
    "a - b\n",
    "\"============\"\n",
    "a + c"
   ]
  },
  {
   "cell_type": "code",
   "execution_count": 22,
   "metadata": {
    "scrolled": true
   },
   "outputs": [
    {
     "data": {
      "text/html": [
       "<ol class=list-inline>\n",
       "\t<li>1</li>\n",
       "\t<li>3</li>\n",
       "\t<li>5</li>\n",
       "\t<li>7</li>\n",
       "\t<li>9</li>\n",
       "</ol>\n"
      ],
      "text/latex": [
       "\\begin{enumerate*}\n",
       "\\item 1\n",
       "\\item 3\n",
       "\\item 5\n",
       "\\item 7\n",
       "\\item 9\n",
       "\\end{enumerate*}\n"
      ],
      "text/markdown": [
       "1. 1\n",
       "2. 3\n",
       "3. 5\n",
       "4. 7\n",
       "5. 9\n",
       "\n",
       "\n"
      ],
      "text/plain": [
       "[1] 1 3 5 7 9"
      ]
     },
     "metadata": {},
     "output_type": "display_data"
    },
    {
     "data": {
      "text/html": [
       "<ol class=list-inline>\n",
       "\t<li>3</li>\n",
       "\t<li>9</li>\n",
       "\t<li>15</li>\n",
       "\t<li>21</li>\n",
       "\t<li>27</li>\n",
       "</ol>\n"
      ],
      "text/latex": [
       "\\begin{enumerate*}\n",
       "\\item 3\n",
       "\\item 9\n",
       "\\item 15\n",
       "\\item 21\n",
       "\\item 27\n",
       "\\end{enumerate*}\n"
      ],
      "text/markdown": [
       "1. 3\n",
       "2. 9\n",
       "3. 15\n",
       "4. 21\n",
       "5. 27\n",
       "\n",
       "\n"
      ],
      "text/plain": [
       "[1]  3  9 15 21 27"
      ]
     },
     "metadata": {},
     "output_type": "display_data"
    },
    {
     "data": {
      "text/html": [
       "25"
      ],
      "text/latex": [
       "25"
      ],
      "text/markdown": [
       "25"
      ],
      "text/plain": [
       "[1] 25"
      ]
     },
     "metadata": {},
     "output_type": "display_data"
    },
    {
     "data": {
      "text/html": [
       "75"
      ],
      "text/latex": [
       "75"
      ],
      "text/markdown": [
       "75"
      ],
      "text/plain": [
       "[1] 75"
      ]
     },
     "metadata": {},
     "output_type": "display_data"
    }
   ],
   "source": [
    "# Computations on vectors are performed element-wise - Continue\n",
    "d = c * 3\n",
    "c\n",
    "d\n",
    "sum(c)\n",
    "sum(d)"
   ]
  },
  {
   "cell_type": "markdown",
   "metadata": {},
   "source": [
    "### 1.1. Appending values to a vector\n",
    "\n",
    "- append {base} function\n",
    "- <b>append(x, values, after = length(x))</b>\n",
    "    - x is the target vector\n",
    "    - values is the list a value(s)\n",
    "    - after is index of the location we want to append after."
   ]
  },
  {
   "cell_type": "code",
   "execution_count": 23,
   "metadata": {
    "scrolled": false
   },
   "outputs": [
    {
     "data": {
      "text/html": [
       "<ol class=list-inline>\n",
       "\t<li>'Malaysia'</li>\n",
       "\t<li>'Japan'</li>\n",
       "\t<li>'Iran'</li>\n",
       "\t<li>'Singapore'</li>\n",
       "\t<li>'Germany'</li>\n",
       "</ol>\n"
      ],
      "text/latex": [
       "\\begin{enumerate*}\n",
       "\\item 'Malaysia'\n",
       "\\item 'Japan'\n",
       "\\item 'Iran'\n",
       "\\item 'Singapore'\n",
       "\\item 'Germany'\n",
       "\\end{enumerate*}\n"
      ],
      "text/markdown": [
       "1. 'Malaysia'\n",
       "2. 'Japan'\n",
       "3. 'Iran'\n",
       "4. 'Singapore'\n",
       "5. 'Germany'\n",
       "\n",
       "\n"
      ],
      "text/plain": [
       "[1] \"Malaysia\"  \"Japan\"     \"Iran\"      \"Singapore\" \"Germany\"  "
      ]
     },
     "metadata": {},
     "output_type": "display_data"
    },
    {
     "data": {
      "text/html": [
       "'==================================================================='"
      ],
      "text/latex": [
       "'==================================================================='"
      ],
      "text/markdown": [
       "'==================================================================='"
      ],
      "text/plain": [
       "[1] \"===================================================================\""
      ]
     },
     "metadata": {},
     "output_type": "display_data"
    },
    {
     "data": {
      "text/html": [
       "<ol class=list-inline>\n",
       "\t<li>'Malaysia'</li>\n",
       "\t<li>'Japan'</li>\n",
       "\t<li>'Korea'</li>\n",
       "\t<li>'Russia'</li>\n",
       "\t<li>'Iran'</li>\n",
       "\t<li>'Singapore'</li>\n",
       "\t<li>'Germany'</li>\n",
       "</ol>\n"
      ],
      "text/latex": [
       "\\begin{enumerate*}\n",
       "\\item 'Malaysia'\n",
       "\\item 'Japan'\n",
       "\\item 'Korea'\n",
       "\\item 'Russia'\n",
       "\\item 'Iran'\n",
       "\\item 'Singapore'\n",
       "\\item 'Germany'\n",
       "\\end{enumerate*}\n"
      ],
      "text/markdown": [
       "1. 'Malaysia'\n",
       "2. 'Japan'\n",
       "3. 'Korea'\n",
       "4. 'Russia'\n",
       "5. 'Iran'\n",
       "6. 'Singapore'\n",
       "7. 'Germany'\n",
       "\n",
       "\n"
      ],
      "text/plain": [
       "[1] \"Malaysia\"  \"Japan\"     \"Korea\"     \"Russia\"    \"Iran\"      \"Singapore\"\n",
       "[7] \"Germany\"  "
      ]
     },
     "metadata": {},
     "output_type": "display_data"
    },
    {
     "data": {
      "text/html": [
       "'==================================================================='"
      ],
      "text/latex": [
       "'==================================================================='"
      ],
      "text/markdown": [
       "'==================================================================='"
      ],
      "text/plain": [
       "[1] \"===================================================================\""
      ]
     },
     "metadata": {},
     "output_type": "display_data"
    },
    {
     "data": {
      "text/html": [
       "<ol class=list-inline>\n",
       "\t<li>'Malaysia'</li>\n",
       "\t<li>'Japan'</li>\n",
       "\t<li>'Korea'</li>\n",
       "\t<li>'Russia'</li>\n",
       "\t<li>'Iran'</li>\n",
       "\t<li>'Singapore'</li>\n",
       "\t<li>'Germany'</li>\n",
       "\t<li>'Brazil'</li>\n",
       "</ol>\n"
      ],
      "text/latex": [
       "\\begin{enumerate*}\n",
       "\\item 'Malaysia'\n",
       "\\item 'Japan'\n",
       "\\item 'Korea'\n",
       "\\item 'Russia'\n",
       "\\item 'Iran'\n",
       "\\item 'Singapore'\n",
       "\\item 'Germany'\n",
       "\\item 'Brazil'\n",
       "\\end{enumerate*}\n"
      ],
      "text/markdown": [
       "1. 'Malaysia'\n",
       "2. 'Japan'\n",
       "3. 'Korea'\n",
       "4. 'Russia'\n",
       "5. 'Iran'\n",
       "6. 'Singapore'\n",
       "7. 'Germany'\n",
       "8. 'Brazil'\n",
       "\n",
       "\n"
      ],
      "text/plain": [
       "[1] \"Malaysia\"  \"Japan\"     \"Korea\"     \"Russia\"    \"Iran\"      \"Singapore\"\n",
       "[7] \"Germany\"   \"Brazil\"   "
      ]
     },
     "metadata": {},
     "output_type": "display_data"
    },
    {
     "ename": "ERROR",
     "evalue": "Error in rm(countries, 2): ... must contain names or character strings\n",
     "output_type": "error",
     "traceback": [
      "Error in rm(countries, 2): ... must contain names or character strings\nTraceback:\n",
      "1. rm(countries, 2)",
      "2. stop(\"... must contain names or character strings\")"
     ]
    }
   ],
   "source": [
    "countries = c(\"Malaysia\", \"Japan\", \"Iran\", \"Singapore\", \"Germany\")\n",
    "countries\n",
    "\"===================================================================\"\n",
    "countries = append(countries, c(\"Korea\", \"Russia\"), 2)\n",
    "countries\n",
    "\"===================================================================\"\n",
    "countries = append(countries, \"Brazil\")\n",
    "countries\n",
    "\n",
    "rm(countries, 2)\n",
    "countries"
   ]
  },
  {
   "cell_type": "markdown",
   "metadata": {},
   "source": [
    "## 2. List\n",
    "\n",
    "- A list can be considered a vector that its elements can be of any data type, including lists.\n",
    "- Lists can be defined by <b>list()</b> function.\n",
    "- Lists sometimes called “recursive” vectors, because a list can contain other lists.\n",
    "- <b>[[ and $ to subset and extend lists</b>"
   ]
  },
  {
   "cell_type": "code",
   "execution_count": 24,
   "metadata": {
    "scrolled": true
   },
   "outputs": [
    {
     "data": {
      "text/html": [
       "<ol class=list-inline>\n",
       "\t<li>'attr1'</li>\n",
       "\t<li>'attr2'</li>\n",
       "\t<li>'attr3'</li>\n",
       "\t<li>'attr4'</li>\n",
       "</ol>\n"
      ],
      "text/latex": [
       "\\begin{enumerate*}\n",
       "\\item 'attr1'\n",
       "\\item 'attr2'\n",
       "\\item 'attr3'\n",
       "\\item 'attr4'\n",
       "\\end{enumerate*}\n"
      ],
      "text/markdown": [
       "1. 'attr1'\n",
       "2. 'attr2'\n",
       "3. 'attr3'\n",
       "4. 'attr4'\n",
       "\n",
       "\n"
      ],
      "text/plain": [
       "[1] \"attr1\" \"attr2\" \"attr3\" \"attr4\""
      ]
     },
     "metadata": {},
     "output_type": "display_data"
    },
    {
     "data": {
      "text/html": [
       "'============'"
      ],
      "text/latex": [
       "'============'"
      ],
      "text/markdown": [
       "'============'"
      ],
      "text/plain": [
       "[1] \"============\""
      ]
     },
     "metadata": {},
     "output_type": "display_data"
    },
    {
     "data": {
      "text/html": [
       "3"
      ],
      "text/latex": [
       "3"
      ],
      "text/markdown": [
       "3"
      ],
      "text/plain": [
       "[1] 3"
      ]
     },
     "metadata": {},
     "output_type": "display_data"
    },
    {
     "data": {
      "text/html": [
       "3"
      ],
      "text/latex": [
       "3"
      ],
      "text/markdown": [
       "3"
      ],
      "text/plain": [
       "[1] 3"
      ]
     },
     "metadata": {},
     "output_type": "display_data"
    },
    {
     "data": {
      "text/html": [
       "<strong>$attr1</strong> = 3"
      ],
      "text/latex": [
       "\\textbf{\\$attr1} = 3"
      ],
      "text/markdown": [
       "**$attr1** = 3"
      ],
      "text/plain": [
       "$attr1\n",
       "[1] 3\n"
      ]
     },
     "metadata": {},
     "output_type": "display_data"
    },
    {
     "data": {
      "text/html": [
       "'============'"
      ],
      "text/latex": [
       "'============'"
      ],
      "text/markdown": [
       "'============'"
      ],
      "text/plain": [
       "[1] \"============\""
      ]
     },
     "metadata": {},
     "output_type": "display_data"
    },
    {
     "data": {
      "text/html": [
       "'Kuala Lumpur'"
      ],
      "text/latex": [
       "'Kuala Lumpur'"
      ],
      "text/markdown": [
       "'Kuala Lumpur'"
      ],
      "text/plain": [
       "[1] \"Kuala Lumpur\""
      ]
     },
     "metadata": {},
     "output_type": "display_data"
    },
    {
     "data": {
      "text/html": [
       "'Kuala Lumpur'"
      ],
      "text/latex": [
       "'Kuala Lumpur'"
      ],
      "text/markdown": [
       "'Kuala Lumpur'"
      ],
      "text/plain": [
       "[1] \"Kuala Lumpur\""
      ]
     },
     "metadata": {},
     "output_type": "display_data"
    },
    {
     "data": {
      "text/html": [
       "<strong>$attr4</strong> = 'Kuala Lumpur'"
      ],
      "text/latex": [
       "\\textbf{\\$attr4} = 'Kuala Lumpur'"
      ],
      "text/markdown": [
       "**$attr4** = 'Kuala Lumpur'"
      ],
      "text/plain": [
       "$attr4\n",
       "[1] \"Kuala Lumpur\"\n"
      ]
     },
     "metadata": {},
     "output_type": "display_data"
    }
   ],
   "source": [
    "mylist = list(attr1 = 3, attr2 = TRUE, attr3 = NA, attr4 = \"Kuala Lumpur\")\n",
    "\n",
    "names(mylist)\n",
    "'============'\n",
    "mylist$attr1\n",
    "mylist[[1]]\n",
    "mylist[1]\n",
    "'============'\n",
    "mylist$attr4\n",
    "mylist[[4]]\n",
    "mylist[4]"
   ]
  },
  {
   "cell_type": "code",
   "execution_count": 25,
   "metadata": {
    "scrolled": true
   },
   "outputs": [
    {
     "data": {
      "text/html": [
       "<dl>\n",
       "\t<dt>$attr1</dt>\n",
       "\t\t<dd>3</dd>\n",
       "\t<dt>$attr2</dt>\n",
       "\t\t<dd>TRUE</dd>\n",
       "\t<dt>$attr3</dt>\n",
       "\t\t<dd>&lt;NA&gt;</dd>\n",
       "\t<dt>$attr4</dt>\n",
       "\t\t<dd>'Kuala Lumpur'</dd>\n",
       "\t<dt>$city</dt>\n",
       "\t\t<dd><dl>\n",
       "\t<dt>$city1</dt>\n",
       "\t\t<dd>'KL'</dd>\n",
       "\t<dt>$city2</dt>\n",
       "\t\t<dd>'PJ'</dd>\n",
       "\t<dt>$city3</dt>\n",
       "\t\t<dd>'JB'</dd>\n",
       "</dl>\n",
       "</dd>\n",
       "</dl>\n"
      ],
      "text/latex": [
       "\\begin{description}\n",
       "\\item[\\$attr1] 3\n",
       "\\item[\\$attr2] TRUE\n",
       "\\item[\\$attr3] <NA>\n",
       "\\item[\\$attr4] 'Kuala Lumpur'\n",
       "\\item[\\$city] \\begin{description}\n",
       "\\item[\\$city1] 'KL'\n",
       "\\item[\\$city2] 'PJ'\n",
       "\\item[\\$city3] 'JB'\n",
       "\\end{description}\n",
       "\n",
       "\\end{description}\n"
      ],
      "text/markdown": [
       "$attr1\n",
       ":   3\n",
       "$attr2\n",
       ":   TRUE\n",
       "$attr3\n",
       ":   &lt;NA&gt;\n",
       "$attr4\n",
       ":   'Kuala Lumpur'\n",
       "$city\n",
       ":   $city1\n",
       ":   'KL'\n",
       "$city2\n",
       ":   'PJ'\n",
       "$city3\n",
       ":   'JB'\n",
       "\n",
       "\n",
       "\n",
       "\n",
       "\n"
      ],
      "text/plain": [
       "$attr1\n",
       "[1] 3\n",
       "\n",
       "$attr2\n",
       "[1] TRUE\n",
       "\n",
       "$attr3\n",
       "[1] NA\n",
       "\n",
       "$attr4\n",
       "[1] \"Kuala Lumpur\"\n",
       "\n",
       "$city\n",
       "$city$city1\n",
       "[1] \"KL\"\n",
       "\n",
       "$city$city2\n",
       "[1] \"PJ\"\n",
       "\n",
       "$city$city3\n",
       "[1] \"JB\"\n",
       "\n"
      ]
     },
     "metadata": {},
     "output_type": "display_data"
    },
    {
     "data": {
      "text/html": [
       "'=============='"
      ],
      "text/latex": [
       "'=============='"
      ],
      "text/markdown": [
       "'=============='"
      ],
      "text/plain": [
       "[1] \"==============\""
      ]
     },
     "metadata": {},
     "output_type": "display_data"
    }
   ],
   "source": [
    "mylist2 = list(attr1 = 3, attr2 = TRUE, attr3 = NA, attr4 = \"Kuala Lumpur\", city=list(city1=\"KL\", city2=\"PJ\", city3=\"JB\"))\n",
    "mylist2\n",
    "\"==============\""
   ]
  },
  {
   "cell_type": "code",
   "execution_count": 26,
   "metadata": {
    "scrolled": true
   },
   "outputs": [
    {
     "data": {
      "text/html": [
       "'PJ'"
      ],
      "text/latex": [
       "'PJ'"
      ],
      "text/markdown": [
       "'PJ'"
      ],
      "text/plain": [
       "[1] \"PJ\""
      ]
     },
     "metadata": {},
     "output_type": "display_data"
    }
   ],
   "source": [
    "mylist2$city$city2"
   ]
  },
  {
   "cell_type": "markdown",
   "metadata": {},
   "source": [
    "## 3. Matrix\n",
    "\n",
    "A matrix is a collection of data elements of the <font color=red>same data type</font> arranged in a <b>two-dimensional rectangular layout</b>.<br>\n",
    "In mathematics, a matrix is shown by its name followed by Nrows * Ncols (e.g. A2 ** 3).<br>\n",
    "R can hold a matrix using <b>matrix()</b> function."
   ]
  },
  {
   "cell_type": "code",
   "execution_count": 27,
   "metadata": {
    "scrolled": true
   },
   "outputs": [
    {
     "data": {
      "text/html": [
       "<table>\n",
       "<tbody>\n",
       "\t<tr><td> 4 </td><td>-5 </td><td>5  </td><td>103</td></tr>\n",
       "\t<tr><td> 7 </td><td> 6 </td><td>7  </td><td> 21</td></tr>\n",
       "\t<tr><td>12 </td><td> 0 </td><td>1  </td><td> -9</td></tr>\n",
       "</tbody>\n",
       "</table>\n"
      ],
      "text/latex": [
       "\\begin{tabular}{llll}\n",
       "\t  4  & -5  & 5   & 103\\\\\n",
       "\t  7  &  6  & 7   &  21\\\\\n",
       "\t 12  &  0  & 1   &  -9\\\\\n",
       "\\end{tabular}\n"
      ],
      "text/markdown": [
       "\n",
       "|  4  | -5  | 5   | 103 | \n",
       "|  7  |  6  | 7   |  21 | \n",
       "| 12  |  0  | 1   |  -9 | \n",
       "\n",
       "\n"
      ],
      "text/plain": [
       "     [,1] [,2] [,3] [,4]\n",
       "[1,]  4   -5   5    103 \n",
       "[2,]  7    6   7     21 \n",
       "[3,] 12    0   1     -9 "
      ]
     },
     "metadata": {},
     "output_type": "display_data"
    }
   ],
   "source": [
    "# How to save a matrix?\n",
    "m = matrix(c(4, 7, 12, -5, 6, 0, 5, 7, 1, 103, 21, -9), \n",
    "           nrow = 3, \n",
    "           ncol = 4)\n",
    "m"
   ]
  },
  {
   "cell_type": "code",
   "execution_count": 28,
   "metadata": {
    "scrolled": true
   },
   "outputs": [
    {
     "data": {
      "text/html": [
       "<table>\n",
       "<tbody>\n",
       "\t<tr><td>4  </td><td>  7</td><td>12 </td><td>-5 </td></tr>\n",
       "\t<tr><td>6  </td><td>  0</td><td> 5 </td><td> 7 </td></tr>\n",
       "\t<tr><td>1  </td><td>103</td><td>21 </td><td>-9 </td></tr>\n",
       "</tbody>\n",
       "</table>\n"
      ],
      "text/latex": [
       "\\begin{tabular}{llll}\n",
       "\t 4   &   7 & 12  & -5 \\\\\n",
       "\t 6   &   0 &  5  &  7 \\\\\n",
       "\t 1   & 103 & 21  & -9 \\\\\n",
       "\\end{tabular}\n"
      ],
      "text/markdown": [
       "\n",
       "| 4   |   7 | 12  | -5  | \n",
       "| 6   |   0 |  5  |  7  | \n",
       "| 1   | 103 | 21  | -9  | \n",
       "\n",
       "\n"
      ],
      "text/plain": [
       "     [,1] [,2] [,3] [,4]\n",
       "[1,] 4      7  12   -5  \n",
       "[2,] 6      0   5    7  \n",
       "[3,] 1    103  21   -9  "
      ]
     },
     "metadata": {},
     "output_type": "display_data"
    }
   ],
   "source": [
    "m = matrix(c(4, 7, 12, -5, 6, 0, 5, 7, 1, 103, 21, -9), \n",
    "           nrow = 3, \n",
    "           ncol = 4,\n",
    "           byrow = TRUE)\n",
    "m"
   ]
  },
  {
   "cell_type": "code",
   "execution_count": 29,
   "metadata": {
    "scrolled": true
   },
   "outputs": [
    {
     "data": {
      "text/html": [
       "<table>\n",
       "<thead><tr><th></th><th scope=col>col1</th><th scope=col>col2</th><th scope=col>col3</th><th scope=col>col4</th></tr></thead>\n",
       "<tbody>\n",
       "\t<tr><th scope=row>r1</th><td>4  </td><td>  7</td><td>12 </td><td>-5 </td></tr>\n",
       "\t<tr><th scope=row>r2</th><td>6  </td><td>  0</td><td> 5 </td><td> 7 </td></tr>\n",
       "\t<tr><th scope=row>r3</th><td>1  </td><td>103</td><td>21 </td><td>-9 </td></tr>\n",
       "</tbody>\n",
       "</table>\n"
      ],
      "text/latex": [
       "\\begin{tabular}{r|llll}\n",
       "  & col1 & col2 & col3 & col4\\\\\n",
       "\\hline\n",
       "\tr1 & 4   &   7 & 12  & -5 \\\\\n",
       "\tr2 & 6   &   0 &  5  &  7 \\\\\n",
       "\tr3 & 1   & 103 & 21  & -9 \\\\\n",
       "\\end{tabular}\n"
      ],
      "text/markdown": [
       "\n",
       "| <!--/--> | col1 | col2 | col3 | col4 | \n",
       "|---|---|---|\n",
       "| r1 | 4   |   7 | 12  | -5  | \n",
       "| r2 | 6   |   0 |  5  |  7  | \n",
       "| r3 | 1   | 103 | 21  | -9  | \n",
       "\n",
       "\n"
      ],
      "text/plain": [
       "   col1 col2 col3 col4\n",
       "r1 4      7  12   -5  \n",
       "r2 6      0   5    7  \n",
       "r3 1    103  21   -9  "
      ]
     },
     "metadata": {},
     "output_type": "display_data"
    }
   ],
   "source": [
    "# To name dimensions\n",
    "dimnames(m) = list(\n",
    "                    c('r1', 'r2', 'r3'),\n",
    "                    c('col1', 'col2', 'col3', 'col4'))\n",
    "m"
   ]
  },
  {
   "cell_type": "code",
   "execution_count": 30,
   "metadata": {
    "scrolled": true
   },
   "outputs": [
    {
     "data": {
      "text/html": [
       "5"
      ],
      "text/latex": [
       "5"
      ],
      "text/markdown": [
       "5"
      ],
      "text/plain": [
       "[1] 5"
      ]
     },
     "metadata": {},
     "output_type": "display_data"
    },
    {
     "data": {
      "text/html": [
       "<dl class=dl-horizontal>\n",
       "\t<dt>col1</dt>\n",
       "\t\t<dd>6</dd>\n",
       "\t<dt>col2</dt>\n",
       "\t\t<dd>0</dd>\n",
       "\t<dt>col3</dt>\n",
       "\t\t<dd>5</dd>\n",
       "\t<dt>col4</dt>\n",
       "\t\t<dd>7</dd>\n",
       "</dl>\n"
      ],
      "text/latex": [
       "\\begin{description*}\n",
       "\\item[col1] 6\n",
       "\\item[col2] 0\n",
       "\\item[col3] 5\n",
       "\\item[col4] 7\n",
       "\\end{description*}\n"
      ],
      "text/markdown": [
       "col1\n",
       ":   6col2\n",
       ":   0col3\n",
       ":   5col4\n",
       ":   7\n",
       "\n"
      ],
      "text/plain": [
       "col1 col2 col3 col4 \n",
       "   6    0    5    7 "
      ]
     },
     "metadata": {},
     "output_type": "display_data"
    },
    {
     "data": {
      "text/html": [
       "<dl class=dl-horizontal>\n",
       "\t<dt>r1</dt>\n",
       "\t\t<dd>12</dd>\n",
       "\t<dt>r2</dt>\n",
       "\t\t<dd>5</dd>\n",
       "\t<dt>r3</dt>\n",
       "\t\t<dd>21</dd>\n",
       "</dl>\n"
      ],
      "text/latex": [
       "\\begin{description*}\n",
       "\\item[r1] 12\n",
       "\\item[r2] 5\n",
       "\\item[r3] 21\n",
       "\\end{description*}\n"
      ],
      "text/markdown": [
       "r1\n",
       ":   12r2\n",
       ":   5r3\n",
       ":   21\n",
       "\n"
      ],
      "text/plain": [
       "r1 r2 r3 \n",
       "12  5 21 "
      ]
     },
     "metadata": {},
     "output_type": "display_data"
    },
    {
     "data": {
      "text/html": [
       "<table>\n",
       "<thead><tr><th></th><th scope=col>col1</th><th scope=col>col4</th></tr></thead>\n",
       "<tbody>\n",
       "\t<tr><th scope=row>r2</th><td>6 </td><td> 7</td></tr>\n",
       "\t<tr><th scope=row>r3</th><td>1 </td><td>-9</td></tr>\n",
       "</tbody>\n",
       "</table>\n"
      ],
      "text/latex": [
       "\\begin{tabular}{r|ll}\n",
       "  & col1 & col4\\\\\n",
       "\\hline\n",
       "\tr2 & 6  &  7\\\\\n",
       "\tr3 & 1  & -9\\\\\n",
       "\\end{tabular}\n"
      ],
      "text/markdown": [
       "\n",
       "| <!--/--> | col1 | col4 | \n",
       "|---|---|\n",
       "| r2 | 6  |  7 | \n",
       "| r3 | 1  | -9 | \n",
       "\n",
       "\n"
      ],
      "text/plain": [
       "   col1 col4\n",
       "r2 6     7  \n",
       "r3 1    -9  "
      ]
     },
     "metadata": {},
     "output_type": "display_data"
    }
   ],
   "source": [
    "# to show an element located in m-th row and n-th columns\n",
    "m[2, 3]\n",
    "\n",
    "# to show sub-matrix\n",
    "m[2,]\n",
    "m[, 3]\n",
    "m[c(2, 3), c(1, 4)]"
   ]
  },
  {
   "cell_type": "code",
   "execution_count": 31,
   "metadata": {
    "scrolled": true
   },
   "outputs": [
    {
     "data": {
      "text/html": [
       "<table>\n",
       "<thead><tr><th></th><th scope=col>r1</th><th scope=col>r2</th><th scope=col>r3</th></tr></thead>\n",
       "<tbody>\n",
       "\t<tr><th scope=row>col1</th><td> 4 </td><td>6  </td><td>  1</td></tr>\n",
       "\t<tr><th scope=row>col2</th><td> 7 </td><td>0  </td><td>103</td></tr>\n",
       "\t<tr><th scope=row>col3</th><td>12 </td><td>5  </td><td> 21</td></tr>\n",
       "\t<tr><th scope=row>col4</th><td>-5 </td><td>7  </td><td> -9</td></tr>\n",
       "</tbody>\n",
       "</table>\n"
      ],
      "text/latex": [
       "\\begin{tabular}{r|lll}\n",
       "  & r1 & r2 & r3\\\\\n",
       "\\hline\n",
       "\tcol1 &  4  & 6   &   1\\\\\n",
       "\tcol2 &  7  & 0   & 103\\\\\n",
       "\tcol3 & 12  & 5   &  21\\\\\n",
       "\tcol4 & -5  & 7   &  -9\\\\\n",
       "\\end{tabular}\n"
      ],
      "text/markdown": [
       "\n",
       "| <!--/--> | r1 | r2 | r3 | \n",
       "|---|---|---|---|\n",
       "| col1 |  4  | 6   |   1 | \n",
       "| col2 |  7  | 0   | 103 | \n",
       "| col3 | 12  | 5   |  21 | \n",
       "| col4 | -5  | 7   |  -9 | \n",
       "\n",
       "\n"
      ],
      "text/plain": [
       "     r1 r2 r3 \n",
       "col1  4 6    1\n",
       "col2  7 0  103\n",
       "col3 12 5   21\n",
       "col4 -5 7   -9"
      ]
     },
     "metadata": {},
     "output_type": "display_data"
    }
   ],
   "source": [
    "# To find Transpose of a matrix\n",
    "t(m)"
   ]
  },
  {
   "cell_type": "code",
   "execution_count": 32,
   "metadata": {
    "scrolled": true
   },
   "outputs": [
    {
     "data": {
      "text/html": [
       "<table>\n",
       "<thead><tr><th></th><th scope=col>r1</th><th scope=col>r2</th><th scope=col>r3</th></tr></thead>\n",
       "<tbody>\n",
       "\t<tr><th scope=row>r1</th><td> 234 </td><td> 49  </td><td> 1022</td></tr>\n",
       "\t<tr><th scope=row>r2</th><td>  49 </td><td>110  </td><td>   48</td></tr>\n",
       "\t<tr><th scope=row>r3</th><td>1022 </td><td> 48  </td><td>11132</td></tr>\n",
       "</tbody>\n",
       "</table>\n"
      ],
      "text/latex": [
       "\\begin{tabular}{r|lll}\n",
       "  & r1 & r2 & r3\\\\\n",
       "\\hline\n",
       "\tr1 &  234  &  49   &  1022\\\\\n",
       "\tr2 &   49  & 110   &    48\\\\\n",
       "\tr3 & 1022  &  48   & 11132\\\\\n",
       "\\end{tabular}\n"
      ],
      "text/markdown": [
       "\n",
       "| <!--/--> | r1 | r2 | r3 | \n",
       "|---|---|---|\n",
       "| r1 |  234  |  49   |  1022 | \n",
       "| r2 |   49  | 110   |    48 | \n",
       "| r3 | 1022  |  48   | 11132 | \n",
       "\n",
       "\n"
      ],
      "text/plain": [
       "   r1   r2  r3   \n",
       "r1  234  49  1022\n",
       "r2   49 110    48\n",
       "r3 1022  48 11132"
      ]
     },
     "metadata": {},
     "output_type": "display_data"
    }
   ],
   "source": [
    "# To perform Matrix Multiplication\n",
    "\n",
    "m %*% t(m)"
   ]
  },
  {
   "cell_type": "markdown",
   "metadata": {},
   "source": [
    "## 4. Factor\n",
    "\n",
    "Factors are used to represent <b>categorical variables</b>.<br>\n",
    "Factors are integer vectors.\n",
    "<br><b><font color=red>R sorts levels alphabetically</font></b>\n",
    "<br><b>factor()</b> function is being used in R to make a factor."
   ]
  },
  {
   "cell_type": "code",
   "execution_count": 33,
   "metadata": {
    "scrolled": true
   },
   "outputs": [
    {
     "data": {
      "text/html": [
       "<ol class=list-inline>\n",
       "\t<li>Mon</li>\n",
       "\t<li>Tue</li>\n",
       "\t<li>Wed</li>\n",
       "\t<li>Thu</li>\n",
       "\t<li>Fri</li>\n",
       "\t<li>Sat</li>\n",
       "\t<li>Sun</li>\n",
       "</ol>\n"
      ],
      "text/latex": [
       "\\begin{enumerate*}\n",
       "\\item Mon\n",
       "\\item Tue\n",
       "\\item Wed\n",
       "\\item Thu\n",
       "\\item Fri\n",
       "\\item Sat\n",
       "\\item Sun\n",
       "\\end{enumerate*}\n"
      ],
      "text/markdown": [
       "1. Mon\n",
       "2. Tue\n",
       "3. Wed\n",
       "4. Thu\n",
       "5. Fri\n",
       "6. Sat\n",
       "7. Sun\n",
       "\n",
       "\n"
      ],
      "text/plain": [
       "[1] Mon Tue Wed Thu Fri Sat Sun\n",
       "Levels: Fri Mon Sat Sun Thu Tue Wed"
      ]
     },
     "metadata": {},
     "output_type": "display_data"
    },
    {
     "name": "stdout",
     "output_type": "stream",
     "text": [
      " Factor w/ 7 levels \"Fri\",\"Mon\",\"Sat\",..: 2 6 7 5 1 3 4\n"
     ]
    }
   ],
   "source": [
    "# How to make a vector in accordance to a vector of strings?\n",
    "day <- c('Mon', 'Tue', 'Wed', 'Thu', 'Fri', 'Sat', 'Sun') \n",
    "day_factor = factor(day) \n",
    "day_factor\n",
    "str(day_factor)"
   ]
  },
  {
   "cell_type": "code",
   "execution_count": 34,
   "metadata": {
    "scrolled": true
   },
   "outputs": [
    {
     "data": {
      "text/html": [
       "<ol class=list-inline>\n",
       "\t<li>Mon</li>\n",
       "\t<li>Tue</li>\n",
       "\t<li>Wed</li>\n",
       "\t<li>Thu</li>\n",
       "\t<li>Fri</li>\n",
       "\t<li>Sat</li>\n",
       "\t<li>Sun</li>\n",
       "</ol>\n"
      ],
      "text/latex": [
       "\\begin{enumerate*}\n",
       "\\item Mon\n",
       "\\item Tue\n",
       "\\item Wed\n",
       "\\item Thu\n",
       "\\item Fri\n",
       "\\item Sat\n",
       "\\item Sun\n",
       "\\end{enumerate*}\n"
      ],
      "text/markdown": [
       "1. Mon\n",
       "2. Tue\n",
       "3. Wed\n",
       "4. Thu\n",
       "5. Fri\n",
       "6. Sat\n",
       "7. Sun\n",
       "\n",
       "\n"
      ],
      "text/plain": [
       "[1] Mon Tue Wed Thu Fri Sat Sun\n",
       "Levels: Mon Tue Wed Thu Fri Sat Sun"
      ]
     },
     "metadata": {},
     "output_type": "display_data"
    },
    {
     "name": "stdout",
     "output_type": "stream",
     "text": [
      " Factor w/ 7 levels \"Mon\",\"Tue\",\"Wed\",..: 1 2 3 4 5 6 7\n"
     ]
    }
   ],
   "source": [
    "# To make the vector values sorted as we want\n",
    "day <- c('Mon', 'Tue', 'Wed', 'Thu', 'Fri', 'Sat', 'Sun') \n",
    "day_factor = factor(day, levels = day) \n",
    "day_factor\n",
    "str(day_factor)"
   ]
  },
  {
   "cell_type": "code",
   "execution_count": 35,
   "metadata": {
    "scrolled": true
   },
   "outputs": [
    {
     "name": "stderr",
     "output_type": "stream",
     "text": [
      "Warning message in Ops.factor(day_factor[1], day_factor[2]):\n",
      "\"'<' not meaningful for factors\""
     ]
    },
    {
     "data": {
      "text/html": [
       "&lt;NA&gt;"
      ],
      "text/latex": [
       "<NA>"
      ],
      "text/markdown": [
       "&lt;NA&gt;"
      ],
      "text/plain": [
       "[1] NA"
      ]
     },
     "metadata": {},
     "output_type": "display_data"
    }
   ],
   "source": [
    "day_factor[1] < day_factor[2]"
   ]
  },
  {
   "cell_type": "markdown",
   "metadata": {},
   "source": [
    "- To solve this problem we need to pass TRUE to 'ordered' parameter:"
   ]
  },
  {
   "cell_type": "code",
   "execution_count": 36,
   "metadata": {
    "scrolled": true
   },
   "outputs": [
    {
     "data": {
      "text/html": [
       "<ol class=list-inline>\n",
       "\t<li>Mon</li>\n",
       "\t<li>Tue</li>\n",
       "\t<li>Wed</li>\n",
       "\t<li>Thu</li>\n",
       "\t<li>Fri</li>\n",
       "\t<li>Sat</li>\n",
       "\t<li>Sun</li>\n",
       "</ol>\n"
      ],
      "text/latex": [
       "\\begin{enumerate*}\n",
       "\\item Mon\n",
       "\\item Tue\n",
       "\\item Wed\n",
       "\\item Thu\n",
       "\\item Fri\n",
       "\\item Sat\n",
       "\\item Sun\n",
       "\\end{enumerate*}\n"
      ],
      "text/markdown": [
       "1. Mon\n",
       "2. Tue\n",
       "3. Wed\n",
       "4. Thu\n",
       "5. Fri\n",
       "6. Sat\n",
       "7. Sun\n",
       "\n",
       "\n"
      ],
      "text/plain": [
       "[1] Mon Tue Wed Thu Fri Sat Sun\n",
       "Levels: Mon < Tue < Wed < Thu < Fri < Sat < Sun"
      ]
     },
     "metadata": {},
     "output_type": "display_data"
    },
    {
     "name": "stdout",
     "output_type": "stream",
     "text": [
      " Ord.factor w/ 7 levels \"Mon\"<\"Tue\"<\"Wed\"<..: 1 2 3 4 5 6 7\n"
     ]
    },
    {
     "data": {
      "text/html": [
       "'==============='"
      ],
      "text/latex": [
       "'==============='"
      ],
      "text/markdown": [
       "'==============='"
      ],
      "text/plain": [
       "[1] \"===============\""
      ]
     },
     "metadata": {},
     "output_type": "display_data"
    },
    {
     "data": {
      "text/html": [
       "TRUE"
      ],
      "text/latex": [
       "TRUE"
      ],
      "text/markdown": [
       "TRUE"
      ],
      "text/plain": [
       "[1] TRUE"
      ]
     },
     "metadata": {},
     "output_type": "display_data"
    }
   ],
   "source": [
    "day_factor = factor(day, levels = day, ordered=TRUE)\n",
    "day_factor\n",
    "str(day_factor)\n",
    "\"===============\"\n",
    "day_factor[1] < day_factor[2]"
   ]
  },
  {
   "cell_type": "markdown",
   "metadata": {},
   "source": [
    "## 5. DataFrame\n",
    "\n",
    "- To hold observations (entities) data, stronger data structure is needed.\n",
    "- <b>A DataFrame is used for storing data tables. \n",
    "- It is a list of vectors of equal length. </b>\n",
    "- In fact, we can create a DataFrame by combining vectors.\n",
    "- DataFrames are suitable to work with DataSets.\n",
    "\n",
    "In DataFrames:\n",
    "- every row represents an obsservation (entity)\n",
    "- every column represents value of an attribute of an observation (e.g. name, age, Gender, etc)\n",
    "- Can contain elements of diﬀerent types but elements in same column have the same type"
   ]
  },
  {
   "cell_type": "code",
   "execution_count": 37,
   "metadata": {
    "scrolled": true
   },
   "outputs": [
    {
     "data": {
      "text/html": [
       "<table>\n",
       "<thead><tr><th scope=col>Name</th><th scope=col>Age</th><th scope=col>Graduated</th></tr></thead>\n",
       "<tbody>\n",
       "\t<tr><td>Amin </td><td>35   </td><td> TRUE</td></tr>\n",
       "\t<tr><td>Nur  </td><td>18   </td><td>FALSE</td></tr>\n",
       "\t<tr><td>John </td><td>53   </td><td>FALSE</td></tr>\n",
       "\t<tr><td>Sara </td><td>28   </td><td> TRUE</td></tr>\n",
       "</tbody>\n",
       "</table>\n"
      ],
      "text/latex": [
       "\\begin{tabular}{r|lll}\n",
       " Name & Age & Graduated\\\\\n",
       "\\hline\n",
       "\t Amin  & 35    &  TRUE\\\\\n",
       "\t Nur   & 18    & FALSE\\\\\n",
       "\t John  & 53    & FALSE\\\\\n",
       "\t Sara  & 28    &  TRUE\\\\\n",
       "\\end{tabular}\n"
      ],
      "text/markdown": [
       "\n",
       "Name | Age | Graduated | \n",
       "|---|---|---|---|\n",
       "| Amin  | 35    |  TRUE | \n",
       "| Nur   | 18    | FALSE | \n",
       "| John  | 53    | FALSE | \n",
       "| Sara  | 28    |  TRUE | \n",
       "\n",
       "\n"
      ],
      "text/plain": [
       "  Name Age Graduated\n",
       "1 Amin 35   TRUE    \n",
       "2 Nur  18  FALSE    \n",
       "3 John 53  FALSE    \n",
       "4 Sara 28   TRUE    "
      ]
     },
     "metadata": {},
     "output_type": "display_data"
    }
   ],
   "source": [
    "# To make a DataFrame\n",
    "# 1. Putting some vectors together using data.frame() function\n",
    "Name = c(\"Amin\", \"Nur\", \"John\", \"Sara\")\n",
    "Age = c(35, 18, 53, 28)\n",
    "Graduated = c(TRUE, FALSE, FALSE, TRUE)\n",
    "students = data.frame(Name, Age, Graduated)# Strings will be stored as factors\n",
    "\n",
    "students"
   ]
  },
  {
   "cell_type": "code",
   "execution_count": 38,
   "metadata": {
    "scrolled": true
   },
   "outputs": [
    {
     "name": "stdout",
     "output_type": "stream",
     "text": [
      "'data.frame':\t4 obs. of  3 variables:\n",
      " $ Name     : Factor w/ 4 levels \"Amin\",\"John\",..: 1 3 2 4\n",
      " $ Age      : num  35 18 53 28\n",
      " $ Graduated: logi  TRUE FALSE FALSE TRUE\n"
     ]
    }
   ],
   "source": [
    "str(students)"
   ]
  },
  {
   "cell_type": "code",
   "execution_count": 39,
   "metadata": {
    "scrolled": true
   },
   "outputs": [
    {
     "name": "stdout",
     "output_type": "stream",
     "text": [
      "'data.frame':\t4 obs. of  3 variables:\n",
      " $ Name     : chr  \"Amin\" \"Nur\" \"John\" \"Sara\"\n",
      " $ Age      : num  35 18 53 28\n",
      " $ Graduated: logi  TRUE FALSE FALSE TRUE\n"
     ]
    }
   ],
   "source": [
    "students2 = data.frame(Name, Age, Graduated,  stringsAsFactors = FALSE)# Strings will NOT be stored as factors\n",
    "\n",
    "str(students2)"
   ]
  },
  {
   "cell_type": "code",
   "execution_count": 40,
   "metadata": {
    "scrolled": true
   },
   "outputs": [
    {
     "data": {
      "text/html": [
       "Nur"
      ],
      "text/latex": [
       "Nur"
      ],
      "text/markdown": [
       "Nur"
      ],
      "text/plain": [
       "[1] Nur\n",
       "Levels: Amin John Nur Sara"
      ]
     },
     "metadata": {},
     "output_type": "display_data"
    },
    {
     "data": {
      "text/html": [
       "<table>\n",
       "<thead><tr><th></th><th scope=col>Name</th><th scope=col>Graduated</th></tr></thead>\n",
       "<tbody>\n",
       "\t<tr><th scope=row>2</th><td>Nur  </td><td>FALSE</td></tr>\n",
       "</tbody>\n",
       "</table>\n"
      ],
      "text/latex": [
       "\\begin{tabular}{r|ll}\n",
       "  & Name & Graduated\\\\\n",
       "\\hline\n",
       "\t2 & Nur   & FALSE\\\\\n",
       "\\end{tabular}\n"
      ],
      "text/markdown": [
       "\n",
       "| <!--/--> | Name | Graduated | \n",
       "|---|\n",
       "| 2 | Nur   | FALSE | \n",
       "\n",
       "\n"
      ],
      "text/plain": [
       "  Name Graduated\n",
       "2 Nur  FALSE    "
      ]
     },
     "metadata": {},
     "output_type": "display_data"
    }
   ],
   "source": [
    "students[2, 1]\n",
    "students[2, c(1,3)]"
   ]
  },
  {
   "cell_type": "code",
   "execution_count": 41,
   "metadata": {
    "scrolled": true
   },
   "outputs": [
    {
     "data": {
      "text/html": [
       "<table>\n",
       "<thead><tr><th scope=col>Name</th></tr></thead>\n",
       "<tbody>\n",
       "\t<tr><td>Amin</td></tr>\n",
       "\t<tr><td>Nur </td></tr>\n",
       "\t<tr><td>John</td></tr>\n",
       "\t<tr><td>Sara</td></tr>\n",
       "</tbody>\n",
       "</table>\n"
      ],
      "text/latex": [
       "\\begin{tabular}{r|l}\n",
       " Name\\\\\n",
       "\\hline\n",
       "\t Amin\\\\\n",
       "\t Nur \\\\\n",
       "\t John\\\\\n",
       "\t Sara\\\\\n",
       "\\end{tabular}\n"
      ],
      "text/markdown": [
       "\n",
       "Name | \n",
       "|---|---|---|---|\n",
       "| Amin | \n",
       "| Nur  | \n",
       "| John | \n",
       "| Sara | \n",
       "\n",
       "\n"
      ],
      "text/plain": [
       "  Name\n",
       "1 Amin\n",
       "2 Nur \n",
       "3 John\n",
       "4 Sara"
      ]
     },
     "metadata": {},
     "output_type": "display_data"
    }
   ],
   "source": [
    "students[1]"
   ]
  },
  {
   "cell_type": "code",
   "execution_count": 42,
   "metadata": {
    "scrolled": true
   },
   "outputs": [
    {
     "data": {
      "text/html": [
       "<ol class=list-inline>\n",
       "\t<li>Amin</li>\n",
       "\t<li>Nur</li>\n",
       "\t<li>John</li>\n",
       "\t<li>Sara</li>\n",
       "</ol>\n"
      ],
      "text/latex": [
       "\\begin{enumerate*}\n",
       "\\item Amin\n",
       "\\item Nur\n",
       "\\item John\n",
       "\\item Sara\n",
       "\\end{enumerate*}\n"
      ],
      "text/markdown": [
       "1. Amin\n",
       "2. Nur\n",
       "3. John\n",
       "4. Sara\n",
       "\n",
       "\n"
      ],
      "text/plain": [
       "[1] Amin Nur  John Sara\n",
       "Levels: Amin John Nur Sara"
      ]
     },
     "metadata": {},
     "output_type": "display_data"
    }
   ],
   "source": [
    "students[[1]]"
   ]
  },
  {
   "cell_type": "code",
   "execution_count": 43,
   "metadata": {
    "scrolled": true
   },
   "outputs": [
    {
     "data": {
      "text/plain": [
       "NULL"
      ]
     },
     "metadata": {},
     "output_type": "display_data"
    },
    {
     "data": {
      "text/plain": [
       "NULL"
      ]
     },
     "metadata": {},
     "output_type": "display_data"
    }
   ],
   "source": [
    "students$age\n",
    "students[['age']]\n"
   ]
  },
  {
   "cell_type": "code",
   "execution_count": 44,
   "metadata": {
    "scrolled": true
   },
   "outputs": [
    {
     "data": {
      "text/html": [
       "<table>\n",
       "<thead><tr><th scope=col>Name</th><th scope=col>Age</th><th scope=col>Graduated</th></tr></thead>\n",
       "<tbody>\n",
       "\t<tr><td>Amin </td><td>35   </td><td> TRUE</td></tr>\n",
       "\t<tr><td>Nur  </td><td>18   </td><td>FALSE</td></tr>\n",
       "\t<tr><td>John </td><td>53   </td><td>FALSE</td></tr>\n",
       "\t<tr><td>Sara </td><td>28   </td><td> TRUE</td></tr>\n",
       "</tbody>\n",
       "</table>\n"
      ],
      "text/latex": [
       "\\begin{tabular}{r|lll}\n",
       " Name & Age & Graduated\\\\\n",
       "\\hline\n",
       "\t Amin  & 35    &  TRUE\\\\\n",
       "\t Nur   & 18    & FALSE\\\\\n",
       "\t John  & 53    & FALSE\\\\\n",
       "\t Sara  & 28    &  TRUE\\\\\n",
       "\\end{tabular}\n"
      ],
      "text/markdown": [
       "\n",
       "Name | Age | Graduated | \n",
       "|---|---|---|---|\n",
       "| Amin  | 35    |  TRUE | \n",
       "| Nur   | 18    | FALSE | \n",
       "| John  | 53    | FALSE | \n",
       "| Sara  | 28    |  TRUE | \n",
       "\n",
       "\n"
      ],
      "text/plain": [
       "  Name Age Graduated\n",
       "1 Amin 35   TRUE    \n",
       "2 Nur  18  FALSE    \n",
       "3 John 53  FALSE    \n",
       "4 Sara 28   TRUE    "
      ]
     },
     "metadata": {},
     "output_type": "display_data"
    }
   ],
   "source": [
    "students2"
   ]
  },
  {
   "cell_type": "code",
   "execution_count": 45,
   "metadata": {
    "collapsed": true,
    "scrolled": true
   },
   "outputs": [],
   "source": [
    "students2[1,] = list(Name = \"Amin_2\", Age = 36, Graduated = TRUE)# to change a row"
   ]
  },
  {
   "cell_type": "code",
   "execution_count": 46,
   "metadata": {
    "scrolled": true
   },
   "outputs": [
    {
     "data": {
      "text/html": [
       "<table>\n",
       "<thead><tr><th scope=col>Name</th><th scope=col>Age</th><th scope=col>Graduated</th></tr></thead>\n",
       "<tbody>\n",
       "\t<tr><td>Amin_2</td><td>36    </td><td> TRUE </td></tr>\n",
       "\t<tr><td>Nur   </td><td>18    </td><td>FALSE </td></tr>\n",
       "\t<tr><td>John  </td><td>53    </td><td>FALSE </td></tr>\n",
       "\t<tr><td>Sara  </td><td>28    </td><td> TRUE </td></tr>\n",
       "</tbody>\n",
       "</table>\n"
      ],
      "text/latex": [
       "\\begin{tabular}{r|lll}\n",
       " Name & Age & Graduated\\\\\n",
       "\\hline\n",
       "\t Amin\\_2 & 36       &  TRUE   \\\\\n",
       "\t Nur    & 18     & FALSE \\\\\n",
       "\t John   & 53     & FALSE \\\\\n",
       "\t Sara   & 28     &  TRUE \\\\\n",
       "\\end{tabular}\n"
      ],
      "text/markdown": [
       "\n",
       "Name | Age | Graduated | \n",
       "|---|---|---|---|\n",
       "| Amin_2 | 36     |  TRUE  | \n",
       "| Nur    | 18     | FALSE  | \n",
       "| John   | 53     | FALSE  | \n",
       "| Sara   | 28     |  TRUE  | \n",
       "\n",
       "\n"
      ],
      "text/plain": [
       "  Name   Age Graduated\n",
       "1 Amin_2 36   TRUE    \n",
       "2 Nur    18  FALSE    \n",
       "3 John   53  FALSE    \n",
       "4 Sara   28   TRUE    "
      ]
     },
     "metadata": {},
     "output_type": "display_data"
    }
   ],
   "source": [
    "students2"
   ]
  },
  {
   "cell_type": "code",
   "execution_count": 47,
   "metadata": {
    "collapsed": true,
    "scrolled": true
   },
   "outputs": [],
   "source": [
    "students2[, 2] = c(37, 29, 67, 19)# To change a column"
   ]
  },
  {
   "cell_type": "code",
   "execution_count": 48,
   "metadata": {
    "scrolled": true
   },
   "outputs": [
    {
     "data": {
      "text/html": [
       "<table>\n",
       "<thead><tr><th scope=col>Name</th><th scope=col>Age</th><th scope=col>Graduated</th></tr></thead>\n",
       "<tbody>\n",
       "\t<tr><td>Amin_2</td><td>37    </td><td> TRUE </td></tr>\n",
       "\t<tr><td>Nur   </td><td>29    </td><td>FALSE </td></tr>\n",
       "\t<tr><td>John  </td><td>67    </td><td>FALSE </td></tr>\n",
       "\t<tr><td>Sara  </td><td>19    </td><td> TRUE </td></tr>\n",
       "</tbody>\n",
       "</table>\n"
      ],
      "text/latex": [
       "\\begin{tabular}{r|lll}\n",
       " Name & Age & Graduated\\\\\n",
       "\\hline\n",
       "\t Amin\\_2 & 37       &  TRUE   \\\\\n",
       "\t Nur    & 29     & FALSE \\\\\n",
       "\t John   & 67     & FALSE \\\\\n",
       "\t Sara   & 19     &  TRUE \\\\\n",
       "\\end{tabular}\n"
      ],
      "text/markdown": [
       "\n",
       "Name | Age | Graduated | \n",
       "|---|---|---|---|\n",
       "| Amin_2 | 37     |  TRUE  | \n",
       "| Nur    | 29     | FALSE  | \n",
       "| John   | 67     | FALSE  | \n",
       "| Sara   | 19     |  TRUE  | \n",
       "\n",
       "\n"
      ],
      "text/plain": [
       "  Name   Age Graduated\n",
       "1 Amin_2 37   TRUE    \n",
       "2 Nur    29  FALSE    \n",
       "3 John   67  FALSE    \n",
       "4 Sara   19   TRUE    "
      ]
     },
     "metadata": {},
     "output_type": "display_data"
    }
   ],
   "source": [
    "students2"
   ]
  },
  {
   "cell_type": "code",
   "execution_count": 49,
   "metadata": {
    "collapsed": true,
    "scrolled": true
   },
   "outputs": [],
   "source": [
    "# To make a DataFrame - Continue\n",
    "# 2. Reading data from file (e.g. CSV file)\n",
    "# 3. Retreiving from database"
   ]
  },
  {
   "cell_type": "markdown",
   "metadata": {},
   "source": [
    "### 5.1. How to extend?\n",
    "\n",
    "#### 5.1.1. Adding a column"
   ]
  },
  {
   "cell_type": "code",
   "execution_count": 50,
   "metadata": {
    "scrolled": true
   },
   "outputs": [
    {
     "data": {
      "text/html": [
       "<table>\n",
       "<thead><tr><th scope=col>Name</th><th scope=col>Age</th><th scope=col>Graduated</th><th scope=col>Height</th></tr></thead>\n",
       "<tbody>\n",
       "\t<tr><td>Amin </td><td>35   </td><td> TRUE</td><td>177  </td></tr>\n",
       "\t<tr><td>Nur  </td><td>18   </td><td>FALSE</td><td>162  </td></tr>\n",
       "\t<tr><td>John </td><td>53   </td><td>FALSE</td><td>168  </td></tr>\n",
       "\t<tr><td>Sara </td><td>28   </td><td> TRUE</td><td>170  </td></tr>\n",
       "</tbody>\n",
       "</table>\n"
      ],
      "text/latex": [
       "\\begin{tabular}{r|llll}\n",
       " Name & Age & Graduated & Height\\\\\n",
       "\\hline\n",
       "\t Amin  & 35    &  TRUE & 177  \\\\\n",
       "\t Nur   & 18    & FALSE & 162  \\\\\n",
       "\t John  & 53    & FALSE & 168  \\\\\n",
       "\t Sara  & 28    &  TRUE & 170  \\\\\n",
       "\\end{tabular}\n"
      ],
      "text/markdown": [
       "\n",
       "Name | Age | Graduated | Height | \n",
       "|---|---|---|---|\n",
       "| Amin  | 35    |  TRUE | 177   | \n",
       "| Nur   | 18    | FALSE | 162   | \n",
       "| John  | 53    | FALSE | 168   | \n",
       "| Sara  | 28    |  TRUE | 170   | \n",
       "\n",
       "\n"
      ],
      "text/plain": [
       "  Name Age Graduated Height\n",
       "1 Amin 35   TRUE     177   \n",
       "2 Nur  18  FALSE     162   \n",
       "3 John 53  FALSE     168   \n",
       "4 Sara 28   TRUE     170   "
      ]
     },
     "metadata": {},
     "output_type": "display_data"
    }
   ],
   "source": [
    "\n",
    "height = c(177, 162, 168, 170)\n",
    "students$Height = height\n",
    "\n",
    "students"
   ]
  },
  {
   "cell_type": "code",
   "execution_count": 51,
   "metadata": {
    "scrolled": true
   },
   "outputs": [
    {
     "data": {
      "text/html": [
       "<table>\n",
       "<thead><tr><th scope=col>Name</th><th scope=col>Age</th><th scope=col>Graduated</th><th scope=col>Height</th><th scope=col>Weight</th></tr></thead>\n",
       "<tbody>\n",
       "\t<tr><td>Amin </td><td>35   </td><td> TRUE</td><td>177  </td><td>83   </td></tr>\n",
       "\t<tr><td>Nur  </td><td>18   </td><td>FALSE</td><td>162  </td><td>60   </td></tr>\n",
       "\t<tr><td>John </td><td>53   </td><td>FALSE</td><td>168  </td><td>75   </td></tr>\n",
       "\t<tr><td>Sara </td><td>28   </td><td> TRUE</td><td>170  </td><td>80   </td></tr>\n",
       "</tbody>\n",
       "</table>\n"
      ],
      "text/latex": [
       "\\begin{tabular}{r|lllll}\n",
       " Name & Age & Graduated & Height & Weight\\\\\n",
       "\\hline\n",
       "\t Amin  & 35    &  TRUE & 177   & 83   \\\\\n",
       "\t Nur   & 18    & FALSE & 162   & 60   \\\\\n",
       "\t John  & 53    & FALSE & 168   & 75   \\\\\n",
       "\t Sara  & 28    &  TRUE & 170   & 80   \\\\\n",
       "\\end{tabular}\n"
      ],
      "text/markdown": [
       "\n",
       "Name | Age | Graduated | Height | Weight | \n",
       "|---|---|---|---|\n",
       "| Amin  | 35    |  TRUE | 177   | 83    | \n",
       "| Nur   | 18    | FALSE | 162   | 60    | \n",
       "| John  | 53    | FALSE | 168   | 75    | \n",
       "| Sara  | 28    |  TRUE | 170   | 80    | \n",
       "\n",
       "\n"
      ],
      "text/plain": [
       "  Name Age Graduated Height Weight\n",
       "1 Amin 35   TRUE     177    83    \n",
       "2 Nur  18  FALSE     162    60    \n",
       "3 John 53  FALSE     168    75    \n",
       "4 Sara 28   TRUE     170    80    "
      ]
     },
     "metadata": {},
     "output_type": "display_data"
    }
   ],
   "source": [
    "Weight = c(83, 60, 75, 80)\n",
    "students = cbind(students, Weight)\n",
    "\n",
    "students"
   ]
  },
  {
   "cell_type": "markdown",
   "metadata": {},
   "source": [
    "#### 5.1.2. Adding an observation (row)"
   ]
  },
  {
   "cell_type": "code",
   "execution_count": 52,
   "metadata": {
    "scrolled": true
   },
   "outputs": [
    {
     "data": {
      "text/html": [
       "<table>\n",
       "<thead><tr><th scope=col>Name</th><th scope=col>Age</th><th scope=col>Graduated</th><th scope=col>Height</th><th scope=col>Weight</th></tr></thead>\n",
       "<tbody>\n",
       "\t<tr><td>Amin  </td><td>35    </td><td> TRUE </td><td>177   </td><td>83    </td></tr>\n",
       "\t<tr><td>Nur   </td><td>18    </td><td>FALSE </td><td>162   </td><td>60    </td></tr>\n",
       "\t<tr><td>John  </td><td>53    </td><td>FALSE </td><td>168   </td><td>75    </td></tr>\n",
       "\t<tr><td>Sara  </td><td>28    </td><td> TRUE </td><td>170   </td><td>80    </td></tr>\n",
       "\t<tr><td>Ali   </td><td>21    </td><td>FALSE </td><td>169   </td><td>68    </td></tr>\n",
       "\t<tr><td>Marcus</td><td>24    </td><td> TRUE </td><td>173   </td><td>75    </td></tr>\n",
       "</tbody>\n",
       "</table>\n"
      ],
      "text/latex": [
       "\\begin{tabular}{r|lllll}\n",
       " Name & Age & Graduated & Height & Weight\\\\\n",
       "\\hline\n",
       "\t Amin   & 35     &  TRUE  & 177    & 83    \\\\\n",
       "\t Nur    & 18     & FALSE  & 162    & 60    \\\\\n",
       "\t John   & 53     & FALSE  & 168    & 75    \\\\\n",
       "\t Sara   & 28     &  TRUE  & 170    & 80    \\\\\n",
       "\t Ali    & 21     & FALSE  & 169    & 68    \\\\\n",
       "\t Marcus & 24     &  TRUE  & 173    & 75    \\\\\n",
       "\\end{tabular}\n"
      ],
      "text/markdown": [
       "\n",
       "Name | Age | Graduated | Height | Weight | \n",
       "|---|---|---|---|---|---|\n",
       "| Amin   | 35     |  TRUE  | 177    | 83     | \n",
       "| Nur    | 18     | FALSE  | 162    | 60     | \n",
       "| John   | 53     | FALSE  | 168    | 75     | \n",
       "| Sara   | 28     |  TRUE  | 170    | 80     | \n",
       "| Ali    | 21     | FALSE  | 169    | 68     | \n",
       "| Marcus | 24     |  TRUE  | 173    | 75     | \n",
       "\n",
       "\n"
      ],
      "text/plain": [
       "  Name   Age Graduated Height Weight\n",
       "1 Amin   35   TRUE     177    83    \n",
       "2 Nur    18  FALSE     162    60    \n",
       "3 John   53  FALSE     168    75    \n",
       "4 Sara   28   TRUE     170    80    \n",
       "5 Ali    21  FALSE     169    68    \n",
       "6 Marcus 24   TRUE     173    75    "
      ]
     },
     "metadata": {},
     "output_type": "display_data"
    }
   ],
   "source": [
    "\n",
    "tmp1 = data.frame(Name = \"Ali\" , Age = 21, Graduated = FALSE, Height = 169, Weight = 68)\n",
    "students = rbind(students, tmp1)\n",
    "\n",
    "tmp2 = data.frame(Name = \"Marcus\" , Age = 24, Graduated = TRUE, Height = 173, Weight = 75)\n",
    "students = rbind(students, tmp2)\n",
    "\n",
    "students"
   ]
  },
  {
   "cell_type": "code",
   "execution_count": 59,
   "metadata": {
    "scrolled": true
   },
   "outputs": [
    {
     "name": "stdout",
     "output_type": "stream",
     "text": [
      "[1] \"Number of rows of students:  6\"\n",
      "[1] \"Number of rows of students:  5\"\n",
      "[1] \"Dimensions of students are: 6 rows, 5 cols\"\n"
     ]
    }
   ],
   "source": [
    "# Number of rows?\n",
    "print (paste(\"Number of rows of students: \", nrow(students)))\n",
    "\n",
    "# Number of columns?\n",
    "print (paste(\"Number of rows of students: \", ncol(students)))\n",
    "\n",
    "# Dimensions?\n",
    "print (paste(\"Dimensions of students are:\", dim(students)[1], \"rows,\", dim(students)[2], \"cols\", sep=\" \"))"
   ]
  },
  {
   "cell_type": "markdown",
   "metadata": {
    "collapsed": true
   },
   "source": [
    "- How to sort a DataFrame based on one of its columns?\n",
    "  <br><b>order()</b> function helps"
   ]
  },
  {
   "cell_type": "code",
   "execution_count": 60,
   "metadata": {
    "scrolled": true
   },
   "outputs": [
    {
     "data": {
      "text/html": [
       "<ol class=list-inline>\n",
       "\t<li>2</li>\n",
       "\t<li>5</li>\n",
       "\t<li>6</li>\n",
       "\t<li>4</li>\n",
       "\t<li>1</li>\n",
       "\t<li>3</li>\n",
       "</ol>\n"
      ],
      "text/latex": [
       "\\begin{enumerate*}\n",
       "\\item 2\n",
       "\\item 5\n",
       "\\item 6\n",
       "\\item 4\n",
       "\\item 1\n",
       "\\item 3\n",
       "\\end{enumerate*}\n"
      ],
      "text/markdown": [
       "1. 2\n",
       "2. 5\n",
       "3. 6\n",
       "4. 4\n",
       "5. 1\n",
       "6. 3\n",
       "\n",
       "\n"
      ],
      "text/plain": [
       "[1] 2 5 6 4 1 3"
      ]
     },
     "metadata": {},
     "output_type": "display_data"
    },
    {
     "data": {
      "text/html": [
       "<table>\n",
       "<thead><tr><th></th><th scope=col>Name</th><th scope=col>Age</th><th scope=col>Graduated</th><th scope=col>Height</th><th scope=col>Weight</th></tr></thead>\n",
       "<tbody>\n",
       "\t<tr><th scope=row>2</th><td>Nur   </td><td>18    </td><td>FALSE </td><td>162   </td><td>60    </td></tr>\n",
       "\t<tr><th scope=row>5</th><td>Ali   </td><td>21    </td><td>FALSE </td><td>169   </td><td>68    </td></tr>\n",
       "\t<tr><th scope=row>6</th><td>Marcus</td><td>24    </td><td> TRUE </td><td>173   </td><td>75    </td></tr>\n",
       "\t<tr><th scope=row>4</th><td>Sara  </td><td>28    </td><td> TRUE </td><td>170   </td><td>80    </td></tr>\n",
       "\t<tr><th scope=row>1</th><td>Amin  </td><td>35    </td><td> TRUE </td><td>177   </td><td>83    </td></tr>\n",
       "\t<tr><th scope=row>3</th><td>John  </td><td>53    </td><td>FALSE </td><td>168   </td><td>75    </td></tr>\n",
       "</tbody>\n",
       "</table>\n"
      ],
      "text/latex": [
       "\\begin{tabular}{r|lllll}\n",
       "  & Name & Age & Graduated & Height & Weight\\\\\n",
       "\\hline\n",
       "\t2 & Nur    & 18     & FALSE  & 162    & 60    \\\\\n",
       "\t5 & Ali    & 21     & FALSE  & 169    & 68    \\\\\n",
       "\t6 & Marcus & 24     &  TRUE  & 173    & 75    \\\\\n",
       "\t4 & Sara   & 28     &  TRUE  & 170    & 80    \\\\\n",
       "\t1 & Amin   & 35     &  TRUE  & 177    & 83    \\\\\n",
       "\t3 & John   & 53     & FALSE  & 168    & 75    \\\\\n",
       "\\end{tabular}\n"
      ],
      "text/markdown": [
       "\n",
       "| <!--/--> | Name | Age | Graduated | Height | Weight | \n",
       "|---|---|---|---|---|---|\n",
       "| 2 | Nur    | 18     | FALSE  | 162    | 60     | \n",
       "| 5 | Ali    | 21     | FALSE  | 169    | 68     | \n",
       "| 6 | Marcus | 24     |  TRUE  | 173    | 75     | \n",
       "| 4 | Sara   | 28     |  TRUE  | 170    | 80     | \n",
       "| 1 | Amin   | 35     |  TRUE  | 177    | 83     | \n",
       "| 3 | John   | 53     | FALSE  | 168    | 75     | \n",
       "\n",
       "\n"
      ],
      "text/plain": [
       "  Name   Age Graduated Height Weight\n",
       "2 Nur    18  FALSE     162    60    \n",
       "5 Ali    21  FALSE     169    68    \n",
       "6 Marcus 24   TRUE     173    75    \n",
       "4 Sara   28   TRUE     170    80    \n",
       "1 Amin   35   TRUE     177    83    \n",
       "3 John   53  FALSE     168    75    "
      ]
     },
     "metadata": {},
     "output_type": "display_data"
    }
   ],
   "source": [
    "# To sort a dataFrame\n",
    "\n",
    "# We want to sort students based on their age descending\n",
    "# We have to find students rank first\n",
    "\n",
    "rank = order(students$Age)\n",
    "rank\n",
    "\n",
    "students[rank,]"
   ]
  },
  {
   "cell_type": "markdown",
   "metadata": {},
   "source": [
    "- The obtained result is not satisfying because it's not descending."
   ]
  },
  {
   "cell_type": "code",
   "execution_count": 61,
   "metadata": {
    "scrolled": true
   },
   "outputs": [
    {
     "data": {
      "text/html": [
       "<table>\n",
       "<thead><tr><th></th><th scope=col>Name</th><th scope=col>Age</th><th scope=col>Graduated</th><th scope=col>Height</th><th scope=col>Weight</th></tr></thead>\n",
       "<tbody>\n",
       "\t<tr><th scope=row>3</th><td>John  </td><td>53    </td><td>FALSE </td><td>168   </td><td>75    </td></tr>\n",
       "\t<tr><th scope=row>1</th><td>Amin  </td><td>35    </td><td> TRUE </td><td>177   </td><td>83    </td></tr>\n",
       "\t<tr><th scope=row>4</th><td>Sara  </td><td>28    </td><td> TRUE </td><td>170   </td><td>80    </td></tr>\n",
       "\t<tr><th scope=row>6</th><td>Marcus</td><td>24    </td><td> TRUE </td><td>173   </td><td>75    </td></tr>\n",
       "\t<tr><th scope=row>5</th><td>Ali   </td><td>21    </td><td>FALSE </td><td>169   </td><td>68    </td></tr>\n",
       "\t<tr><th scope=row>2</th><td>Nur   </td><td>18    </td><td>FALSE </td><td>162   </td><td>60    </td></tr>\n",
       "</tbody>\n",
       "</table>\n"
      ],
      "text/latex": [
       "\\begin{tabular}{r|lllll}\n",
       "  & Name & Age & Graduated & Height & Weight\\\\\n",
       "\\hline\n",
       "\t3 & John   & 53     & FALSE  & 168    & 75    \\\\\n",
       "\t1 & Amin   & 35     &  TRUE  & 177    & 83    \\\\\n",
       "\t4 & Sara   & 28     &  TRUE  & 170    & 80    \\\\\n",
       "\t6 & Marcus & 24     &  TRUE  & 173    & 75    \\\\\n",
       "\t5 & Ali    & 21     & FALSE  & 169    & 68    \\\\\n",
       "\t2 & Nur    & 18     & FALSE  & 162    & 60    \\\\\n",
       "\\end{tabular}\n"
      ],
      "text/markdown": [
       "\n",
       "| <!--/--> | Name | Age | Graduated | Height | Weight | \n",
       "|---|---|---|---|---|---|\n",
       "| 3 | John   | 53     | FALSE  | 168    | 75     | \n",
       "| 1 | Amin   | 35     |  TRUE  | 177    | 83     | \n",
       "| 4 | Sara   | 28     |  TRUE  | 170    | 80     | \n",
       "| 6 | Marcus | 24     |  TRUE  | 173    | 75     | \n",
       "| 5 | Ali    | 21     | FALSE  | 169    | 68     | \n",
       "| 2 | Nur    | 18     | FALSE  | 162    | 60     | \n",
       "\n",
       "\n"
      ],
      "text/plain": [
       "  Name   Age Graduated Height Weight\n",
       "3 John   53  FALSE     168    75    \n",
       "1 Amin   35   TRUE     177    83    \n",
       "4 Sara   28   TRUE     170    80    \n",
       "6 Marcus 24   TRUE     173    75    \n",
       "5 Ali    21  FALSE     169    68    \n",
       "2 Nur    18  FALSE     162    60    "
      ]
     },
     "metadata": {},
     "output_type": "display_data"
    }
   ],
   "source": [
    "students[order(students$Age, decreasing = TRUE),]"
   ]
  },
  {
   "cell_type": "markdown",
   "metadata": {},
   "source": [
    "R comes with some built-in data frames helping us to enhance our analysis skills.\n",
    "<br>Try looking into the following data frames:\n",
    "- women\n",
    "- mtcars\n",
    "- USArrests\n",
    "- chickwts\n",
    "- airquality"
   ]
  },
  {
   "cell_type": "code",
   "execution_count": 62,
   "metadata": {
    "scrolled": true
   },
   "outputs": [
    {
     "data": {
      "text/html": [
       "<table>\n",
       "<thead><tr><th></th><th scope=col>mpg</th><th scope=col>cyl</th><th scope=col>disp</th><th scope=col>hp</th><th scope=col>drat</th><th scope=col>wt</th><th scope=col>qsec</th><th scope=col>vs</th><th scope=col>am</th><th scope=col>gear</th><th scope=col>carb</th></tr></thead>\n",
       "<tbody>\n",
       "\t<tr><th scope=row>Mazda RX4</th><td>21.0 </td><td>6    </td><td>160  </td><td>110  </td><td>3.90 </td><td>2.620</td><td>16.46</td><td>0    </td><td>1    </td><td>4    </td><td>4    </td></tr>\n",
       "\t<tr><th scope=row>Mazda RX4 Wag</th><td>21.0 </td><td>6    </td><td>160  </td><td>110  </td><td>3.90 </td><td>2.875</td><td>17.02</td><td>0    </td><td>1    </td><td>4    </td><td>4    </td></tr>\n",
       "\t<tr><th scope=row>Datsun 710</th><td>22.8 </td><td>4    </td><td>108  </td><td> 93  </td><td>3.85 </td><td>2.320</td><td>18.61</td><td>1    </td><td>1    </td><td>4    </td><td>1    </td></tr>\n",
       "\t<tr><th scope=row>Hornet 4 Drive</th><td>21.4 </td><td>6    </td><td>258  </td><td>110  </td><td>3.08 </td><td>3.215</td><td>19.44</td><td>1    </td><td>0    </td><td>3    </td><td>1    </td></tr>\n",
       "\t<tr><th scope=row>Hornet Sportabout</th><td>18.7 </td><td>8    </td><td>360  </td><td>175  </td><td>3.15 </td><td>3.440</td><td>17.02</td><td>0    </td><td>0    </td><td>3    </td><td>2    </td></tr>\n",
       "</tbody>\n",
       "</table>\n"
      ],
      "text/latex": [
       "\\begin{tabular}{r|lllllllllll}\n",
       "  & mpg & cyl & disp & hp & drat & wt & qsec & vs & am & gear & carb\\\\\n",
       "\\hline\n",
       "\tMazda RX4 & 21.0  & 6     & 160   & 110   & 3.90  & 2.620 & 16.46 & 0     & 1     & 4     & 4    \\\\\n",
       "\tMazda RX4 Wag & 21.0  & 6     & 160   & 110   & 3.90  & 2.875 & 17.02 & 0     & 1     & 4     & 4    \\\\\n",
       "\tDatsun 710 & 22.8  & 4     & 108   &  93   & 3.85  & 2.320 & 18.61 & 1     & 1     & 4     & 1    \\\\\n",
       "\tHornet 4 Drive & 21.4  & 6     & 258   & 110   & 3.08  & 3.215 & 19.44 & 1     & 0     & 3     & 1    \\\\\n",
       "\tHornet Sportabout & 18.7  & 8     & 360   & 175   & 3.15  & 3.440 & 17.02 & 0     & 0     & 3     & 2    \\\\\n",
       "\\end{tabular}\n"
      ],
      "text/markdown": [
       "\n",
       "| <!--/--> | mpg | cyl | disp | hp | drat | wt | qsec | vs | am | gear | carb | \n",
       "|---|---|---|---|---|\n",
       "| Mazda RX4 | 21.0  | 6     | 160   | 110   | 3.90  | 2.620 | 16.46 | 0     | 1     | 4     | 4     | \n",
       "| Mazda RX4 Wag | 21.0  | 6     | 160   | 110   | 3.90  | 2.875 | 17.02 | 0     | 1     | 4     | 4     | \n",
       "| Datsun 710 | 22.8  | 4     | 108   |  93   | 3.85  | 2.320 | 18.61 | 1     | 1     | 4     | 1     | \n",
       "| Hornet 4 Drive | 21.4  | 6     | 258   | 110   | 3.08  | 3.215 | 19.44 | 1     | 0     | 3     | 1     | \n",
       "| Hornet Sportabout | 18.7  | 8     | 360   | 175   | 3.15  | 3.440 | 17.02 | 0     | 0     | 3     | 2     | \n",
       "\n",
       "\n"
      ],
      "text/plain": [
       "                  mpg  cyl disp hp  drat wt    qsec  vs am gear carb\n",
       "Mazda RX4         21.0 6   160  110 3.90 2.620 16.46 0  1  4    4   \n",
       "Mazda RX4 Wag     21.0 6   160  110 3.90 2.875 17.02 0  1  4    4   \n",
       "Datsun 710        22.8 4   108   93 3.85 2.320 18.61 1  1  4    1   \n",
       "Hornet 4 Drive    21.4 6   258  110 3.08 3.215 19.44 1  0  3    1   \n",
       "Hornet Sportabout 18.7 8   360  175 3.15 3.440 17.02 0  0  3    2   "
      ]
     },
     "metadata": {},
     "output_type": "display_data"
    }
   ],
   "source": [
    "head(mtcars, 5)# First 5 rows of mtcars"
   ]
  },
  {
   "cell_type": "code",
   "execution_count": 63,
   "metadata": {
    "scrolled": true
   },
   "outputs": [
    {
     "data": {
      "text/html": [
       "<table>\n",
       "<thead><tr><th></th><th scope=col>Murder</th><th scope=col>Assault</th><th scope=col>UrbanPop</th><th scope=col>Rape</th></tr></thead>\n",
       "<tbody>\n",
       "\t<tr><th scope=row>Washington</th><td>4.0 </td><td>145 </td><td>73  </td><td>26.2</td></tr>\n",
       "\t<tr><th scope=row>West Virginia</th><td>5.7 </td><td> 81 </td><td>39  </td><td> 9.3</td></tr>\n",
       "\t<tr><th scope=row>Wisconsin</th><td>2.6 </td><td> 53 </td><td>66  </td><td>10.8</td></tr>\n",
       "\t<tr><th scope=row>Wyoming</th><td>6.8 </td><td>161 </td><td>60  </td><td>15.6</td></tr>\n",
       "</tbody>\n",
       "</table>\n"
      ],
      "text/latex": [
       "\\begin{tabular}{r|llll}\n",
       "  & Murder & Assault & UrbanPop & Rape\\\\\n",
       "\\hline\n",
       "\tWashington & 4.0  & 145  & 73   & 26.2\\\\\n",
       "\tWest Virginia & 5.7  &  81  & 39   &  9.3\\\\\n",
       "\tWisconsin & 2.6  &  53  & 66   & 10.8\\\\\n",
       "\tWyoming & 6.8  & 161  & 60   & 15.6\\\\\n",
       "\\end{tabular}\n"
      ],
      "text/markdown": [
       "\n",
       "| <!--/--> | Murder | Assault | UrbanPop | Rape | \n",
       "|---|---|---|---|\n",
       "| Washington | 4.0  | 145  | 73   | 26.2 | \n",
       "| West Virginia | 5.7  |  81  | 39   |  9.3 | \n",
       "| Wisconsin | 2.6  |  53  | 66   | 10.8 | \n",
       "| Wyoming | 6.8  | 161  | 60   | 15.6 | \n",
       "\n",
       "\n"
      ],
      "text/plain": [
       "              Murder Assault UrbanPop Rape\n",
       "Washington    4.0    145     73       26.2\n",
       "West Virginia 5.7     81     39        9.3\n",
       "Wisconsin     2.6     53     66       10.8\n",
       "Wyoming       6.8    161     60       15.6"
      ]
     },
     "metadata": {},
     "output_type": "display_data"
    }
   ],
   "source": [
    "tail(USArrests, 4)# Last 4 rows of USArrests"
   ]
  },
  {
   "cell_type": "code",
   "execution_count": 64,
   "metadata": {
    "scrolled": true
   },
   "outputs": [
    {
     "data": {
      "text/html": [
       "<ol class=list-inline>\n",
       "\t<li>'Murder'</li>\n",
       "\t<li>'Assault'</li>\n",
       "\t<li>'UrbanPop'</li>\n",
       "\t<li>'Rape'</li>\n",
       "</ol>\n"
      ],
      "text/latex": [
       "\\begin{enumerate*}\n",
       "\\item 'Murder'\n",
       "\\item 'Assault'\n",
       "\\item 'UrbanPop'\n",
       "\\item 'Rape'\n",
       "\\end{enumerate*}\n"
      ],
      "text/markdown": [
       "1. 'Murder'\n",
       "2. 'Assault'\n",
       "3. 'UrbanPop'\n",
       "4. 'Rape'\n",
       "\n",
       "\n"
      ],
      "text/plain": [
       "[1] \"Murder\"   \"Assault\"  \"UrbanPop\" \"Rape\"    "
      ]
     },
     "metadata": {},
     "output_type": "display_data"
    }
   ],
   "source": [
    "colnames(USArrests)"
   ]
  },
  {
   "cell_type": "code",
   "execution_count": 65,
   "metadata": {
    "scrolled": true
   },
   "outputs": [
    {
     "data": {
      "text/html": [
       "<ol class=list-inline>\n",
       "\t<li>'Fiat X1-9'</li>\n",
       "\t<li>'Porsche 914-2'</li>\n",
       "\t<li>'Lotus Europa'</li>\n",
       "\t<li>'Ford Pantera L'</li>\n",
       "\t<li>'Ferrari Dino'</li>\n",
       "\t<li>'Maserati Bora'</li>\n",
       "\t<li>'Volvo 142E'</li>\n",
       "</ol>\n"
      ],
      "text/latex": [
       "\\begin{enumerate*}\n",
       "\\item 'Fiat X1-9'\n",
       "\\item 'Porsche 914-2'\n",
       "\\item 'Lotus Europa'\n",
       "\\item 'Ford Pantera L'\n",
       "\\item 'Ferrari Dino'\n",
       "\\item 'Maserati Bora'\n",
       "\\item 'Volvo 142E'\n",
       "\\end{enumerate*}\n"
      ],
      "text/markdown": [
       "1. 'Fiat X1-9'\n",
       "2. 'Porsche 914-2'\n",
       "3. 'Lotus Europa'\n",
       "4. 'Ford Pantera L'\n",
       "5. 'Ferrari Dino'\n",
       "6. 'Maserati Bora'\n",
       "7. 'Volvo 142E'\n",
       "\n",
       "\n"
      ],
      "text/plain": [
       "[1] \"Fiat X1-9\"      \"Porsche 914-2\"  \"Lotus Europa\"   \"Ford Pantera L\"\n",
       "[5] \"Ferrari Dino\"   \"Maserati Bora\"  \"Volvo 142E\"    "
      ]
     },
     "metadata": {},
     "output_type": "display_data"
    }
   ],
   "source": [
    "rownames(tail(mtcars, 7))"
   ]
  },
  {
   "cell_type": "markdown",
   "metadata": {},
   "source": [
    "## 6. Hash Table\n",
    "\n",
    "A hash table (hash map) is a data structure used to implement an associative array, a structure that can <b>map keys to values</b>.<br>A hash table uses a hash function to compute an index into an array of buckets or slots, from which the desired value can be found.\n",
    "\n",
    "There is a package in R called <b>hash</b> to implement hash tables."
   ]
  },
  {
   "cell_type": "code",
   "execution_count": 71,
   "metadata": {
    "scrolled": false
   },
   "outputs": [
    {
     "data": {
      "text/html": [
       "<strong>Amin:</strong> TRUE"
      ],
      "text/latex": [
       "\\textbf{Amin:} TRUE"
      ],
      "text/markdown": [
       "**Amin:** TRUE"
      ],
      "text/plain": [
       "Amin \n",
       "TRUE "
      ]
     },
     "metadata": {},
     "output_type": "display_data"
    },
    {
     "data": {
      "text/html": [
       "1"
      ],
      "text/latex": [
       "1"
      ],
      "text/markdown": [
       "1"
      ],
      "text/plain": [
       "[1] 1"
      ]
     },
     "metadata": {},
     "output_type": "display_data"
    },
    {
     "data": {
      "text/html": [
       "<strong>TK:</strong> TRUE"
      ],
      "text/latex": [
       "\\textbf{TK:} TRUE"
      ],
      "text/markdown": [
       "**TK:** TRUE"
      ],
      "text/plain": [
       "  TK \n",
       "TRUE "
      ]
     },
     "metadata": {},
     "output_type": "display_data"
    },
    {
     "data": {
      "text/html": [
       "3"
      ],
      "text/latex": [
       "3"
      ],
      "text/markdown": [
       "3"
      ],
      "text/plain": [
       "[1] 3"
      ]
     },
     "metadata": {},
     "output_type": "display_data"
    },
    {
     "data": {
      "text/html": [
       "<strong>Pui:</strong> FALSE"
      ],
      "text/latex": [
       "\\textbf{Pui:} FALSE"
      ],
      "text/markdown": [
       "**Pui:** FALSE"
      ],
      "text/plain": [
       "  Pui \n",
       "FALSE "
      ]
     },
     "metadata": {},
     "output_type": "display_data"
    },
    {
     "data": {
      "text/plain": [
       "NULL"
      ]
     },
     "metadata": {},
     "output_type": "display_data"
    }
   ],
   "source": [
    "# How to use hash package\n",
    "\n",
    "# 1. To install the package\n",
    "#install.packages('hash', repos=\"http://cran.us.r-project.org\")\n",
    "\n",
    "# 2. To load a package\n",
    "library('hash')\n",
    "\n",
    "# 3. To define and use\n",
    "ht = hash()\n",
    "ht$Amin = 1\n",
    "ht$John = 2\n",
    "ht[['TK']] = 3\n",
    "\n",
    "# To find a key\n",
    "has.key('Amin', ht)\n",
    "ht[['Amin']]\n",
    "has.key('TK', ht)\n",
    "ht[['TK']]\n",
    "has.key('Pui', ht)\n",
    "ht[['Pui']]"
   ]
  },
  {
   "cell_type": "code",
   "execution_count": 72,
   "metadata": {
    "scrolled": true
   },
   "outputs": [
    {
     "data": {
      "text/plain": [
       "NULL"
      ]
     },
     "metadata": {},
     "output_type": "display_data"
    },
    {
     "data": {
      "text/html": [
       "'==========='"
      ],
      "text/latex": [
       "'==========='"
      ],
      "text/markdown": [
       "'==========='"
      ],
      "text/plain": [
       "[1] \"===========\""
      ]
     },
     "metadata": {},
     "output_type": "display_data"
    },
    {
     "ename": "ERROR",
     "evalue": "Error in eval(expr, envir, enclos): object 'ht' not found\n",
     "output_type": "error",
     "traceback": [
      "Error in eval(expr, envir, enclos): object 'ht' not found\nTraceback:\n"
     ]
    }
   ],
   "source": [
    "# 4. To delete a hash table\n",
    "clear(ht)\n",
    "ht$Amin\n",
    "\"===========\"\n",
    "# To check whether it's deleted\n",
    "rm(ht)\n",
    "ht$Amin"
   ]
  },
  {
   "cell_type": "markdown",
   "metadata": {},
   "source": [
    "## 7. Missing values\n",
    "\n",
    "- Missing values in R are denoted by either <font color=red><b>NA</b></font> or <font color=red><b>NaN</b></font>. \n",
    "- <b>NaN</b> is used for undefined mathematical operations.\n",
    "    - <font color=green>is.nan()</font> can be used to check for it.\n",
    "- <b>NA</b> is usually used for everything else\n",
    "    - <font color=green>is.na()</font> can be used to check for it.\n",
    "\n",
    "\n",
    "- <font color=red>NaN value is also NA, but the converse is not true.</font>"
   ]
  },
  {
   "cell_type": "code",
   "execution_count": 73,
   "metadata": {
    "scrolled": true
   },
   "outputs": [
    {
     "name": "stdout",
     "output_type": "stream",
     "text": [
      "[1]   4   0  -7 NaN  23  NA -60\n"
     ]
    },
    {
     "data": {
      "text/html": [
       "'========================='"
      ],
      "text/latex": [
       "'========================='"
      ],
      "text/markdown": [
       "'========================='"
      ],
      "text/plain": [
       "[1] \"=========================\""
      ]
     },
     "metadata": {},
     "output_type": "display_data"
    },
    {
     "data": {
      "text/html": [
       "<ol class=list-inline>\n",
       "\t<li>FALSE</li>\n",
       "\t<li>FALSE</li>\n",
       "\t<li>FALSE</li>\n",
       "\t<li>TRUE</li>\n",
       "\t<li>FALSE</li>\n",
       "\t<li>FALSE</li>\n",
       "\t<li>FALSE</li>\n",
       "</ol>\n"
      ],
      "text/latex": [
       "\\begin{enumerate*}\n",
       "\\item FALSE\n",
       "\\item FALSE\n",
       "\\item FALSE\n",
       "\\item TRUE\n",
       "\\item FALSE\n",
       "\\item FALSE\n",
       "\\item FALSE\n",
       "\\end{enumerate*}\n"
      ],
      "text/markdown": [
       "1. FALSE\n",
       "2. FALSE\n",
       "3. FALSE\n",
       "4. TRUE\n",
       "5. FALSE\n",
       "6. FALSE\n",
       "7. FALSE\n",
       "\n",
       "\n"
      ],
      "text/plain": [
       "[1] FALSE FALSE FALSE  TRUE FALSE FALSE FALSE"
      ]
     },
     "metadata": {},
     "output_type": "display_data"
    },
    {
     "data": {
      "text/html": [
       "'========================='"
      ],
      "text/latex": [
       "'========================='"
      ],
      "text/markdown": [
       "'========================='"
      ],
      "text/plain": [
       "[1] \"=========================\""
      ]
     },
     "metadata": {},
     "output_type": "display_data"
    },
    {
     "data": {
      "text/html": [
       "<ol class=list-inline>\n",
       "\t<li>FALSE</li>\n",
       "\t<li>FALSE</li>\n",
       "\t<li>FALSE</li>\n",
       "\t<li>TRUE</li>\n",
       "\t<li>FALSE</li>\n",
       "\t<li>TRUE</li>\n",
       "\t<li>FALSE</li>\n",
       "</ol>\n"
      ],
      "text/latex": [
       "\\begin{enumerate*}\n",
       "\\item FALSE\n",
       "\\item FALSE\n",
       "\\item FALSE\n",
       "\\item TRUE\n",
       "\\item FALSE\n",
       "\\item TRUE\n",
       "\\item FALSE\n",
       "\\end{enumerate*}\n"
      ],
      "text/markdown": [
       "1. FALSE\n",
       "2. FALSE\n",
       "3. FALSE\n",
       "4. TRUE\n",
       "5. FALSE\n",
       "6. TRUE\n",
       "7. FALSE\n",
       "\n",
       "\n"
      ],
      "text/plain": [
       "[1] FALSE FALSE FALSE  TRUE FALSE  TRUE FALSE"
      ]
     },
     "metadata": {},
     "output_type": "display_data"
    }
   ],
   "source": [
    "testvals = c(4, 0 , -7, NaN, 23, NA, -60)\n",
    "print (testvals)\n",
    "\"=========================\"\n",
    "is.nan(testvals)\n",
    "\"=========================\"\n",
    "is.na(testvals)"
   ]
  },
  {
   "cell_type": "markdown",
   "metadata": {},
   "source": [
    "### 7.1. How to remove NA values?\n",
    "\n",
    "#### 7.1.1. using is.na() function:"
   ]
  },
  {
   "cell_type": "code",
   "execution_count": 74,
   "metadata": {
    "scrolled": true
   },
   "outputs": [
    {
     "data": {
      "text/html": [
       "<ol class=list-inline>\n",
       "\t<li>FALSE</li>\n",
       "\t<li>FALSE</li>\n",
       "\t<li>FALSE</li>\n",
       "\t<li>TRUE</li>\n",
       "\t<li>FALSE</li>\n",
       "\t<li>TRUE</li>\n",
       "\t<li>FALSE</li>\n",
       "</ol>\n"
      ],
      "text/latex": [
       "\\begin{enumerate*}\n",
       "\\item FALSE\n",
       "\\item FALSE\n",
       "\\item FALSE\n",
       "\\item TRUE\n",
       "\\item FALSE\n",
       "\\item TRUE\n",
       "\\item FALSE\n",
       "\\end{enumerate*}\n"
      ],
      "text/markdown": [
       "1. FALSE\n",
       "2. FALSE\n",
       "3. FALSE\n",
       "4. TRUE\n",
       "5. FALSE\n",
       "6. TRUE\n",
       "7. FALSE\n",
       "\n",
       "\n"
      ],
      "text/plain": [
       "[1] FALSE FALSE FALSE  TRUE FALSE  TRUE FALSE"
      ]
     },
     "metadata": {},
     "output_type": "display_data"
    },
    {
     "data": {
      "text/html": [
       "<ol class=list-inline>\n",
       "\t<li>TRUE</li>\n",
       "\t<li>TRUE</li>\n",
       "\t<li>TRUE</li>\n",
       "\t<li>FALSE</li>\n",
       "\t<li>TRUE</li>\n",
       "\t<li>FALSE</li>\n",
       "\t<li>TRUE</li>\n",
       "</ol>\n"
      ],
      "text/latex": [
       "\\begin{enumerate*}\n",
       "\\item TRUE\n",
       "\\item TRUE\n",
       "\\item TRUE\n",
       "\\item FALSE\n",
       "\\item TRUE\n",
       "\\item FALSE\n",
       "\\item TRUE\n",
       "\\end{enumerate*}\n"
      ],
      "text/markdown": [
       "1. TRUE\n",
       "2. TRUE\n",
       "3. TRUE\n",
       "4. FALSE\n",
       "5. TRUE\n",
       "6. FALSE\n",
       "7. TRUE\n",
       "\n",
       "\n"
      ],
      "text/plain": [
       "[1]  TRUE  TRUE  TRUE FALSE  TRUE FALSE  TRUE"
      ]
     },
     "metadata": {},
     "output_type": "display_data"
    },
    {
     "data": {
      "text/html": [
       "<ol class=list-inline>\n",
       "\t<li>4</li>\n",
       "\t<li>0</li>\n",
       "\t<li>-7</li>\n",
       "\t<li>23</li>\n",
       "\t<li>-60</li>\n",
       "</ol>\n"
      ],
      "text/latex": [
       "\\begin{enumerate*}\n",
       "\\item 4\n",
       "\\item 0\n",
       "\\item -7\n",
       "\\item 23\n",
       "\\item -60\n",
       "\\end{enumerate*}\n"
      ],
      "text/markdown": [
       "1. 4\n",
       "2. 0\n",
       "3. -7\n",
       "4. 23\n",
       "5. -60\n",
       "\n",
       "\n"
      ],
      "text/plain": [
       "[1]   4   0  -7  23 -60"
      ]
     },
     "metadata": {},
     "output_type": "display_data"
    }
   ],
   "source": [
    "bads = is.na(testvals)\n",
    "bads\n",
    "!bads\n",
    "testvals[!bads]"
   ]
  },
  {
   "cell_type": "markdown",
   "metadata": {},
   "source": [
    "#### 7.1.2. using complete.cases() function:"
   ]
  },
  {
   "cell_type": "code",
   "execution_count": 75,
   "metadata": {
    "scrolled": true
   },
   "outputs": [
    {
     "name": "stdout",
     "output_type": "stream",
     "text": [
      "[1]  TRUE  TRUE  TRUE FALSE  TRUE FALSE  TRUE\n"
     ]
    },
    {
     "data": {
      "text/html": [
       "'================================'"
      ],
      "text/latex": [
       "'================================'"
      ],
      "text/markdown": [
       "'================================'"
      ],
      "text/plain": [
       "[1] \"================================\""
      ]
     },
     "metadata": {},
     "output_type": "display_data"
    },
    {
     "data": {
      "text/html": [
       "<ol class=list-inline>\n",
       "\t<li>4</li>\n",
       "\t<li>0</li>\n",
       "\t<li>-7</li>\n",
       "\t<li>23</li>\n",
       "\t<li>-60</li>\n",
       "</ol>\n"
      ],
      "text/latex": [
       "\\begin{enumerate*}\n",
       "\\item 4\n",
       "\\item 0\n",
       "\\item -7\n",
       "\\item 23\n",
       "\\item -60\n",
       "\\end{enumerate*}\n"
      ],
      "text/markdown": [
       "1. 4\n",
       "2. 0\n",
       "3. -7\n",
       "4. 23\n",
       "5. -60\n",
       "\n",
       "\n"
      ],
      "text/plain": [
       "[1]   4   0  -7  23 -60"
      ]
     },
     "metadata": {},
     "output_type": "display_data"
    }
   ],
   "source": [
    "goods = complete.cases(testvals)\n",
    "print (goods)\n",
    "\"================================\"\n",
    "testvals[goods]"
   ]
  },
  {
   "cell_type": "code",
   "execution_count": 76,
   "metadata": {
    "scrolled": true
   },
   "outputs": [
    {
     "data": {
      "text/html": [
       "<ol class=list-inline>\n",
       "\t<li>TRUE</li>\n",
       "\t<li>FALSE</li>\n",
       "\t<li>TRUE</li>\n",
       "\t<li>FALSE</li>\n",
       "\t<li>TRUE</li>\n",
       "\t<li>FALSE</li>\n",
       "\t<li>TRUE</li>\n",
       "</ol>\n"
      ],
      "text/latex": [
       "\\begin{enumerate*}\n",
       "\\item TRUE\n",
       "\\item FALSE\n",
       "\\item TRUE\n",
       "\\item FALSE\n",
       "\\item TRUE\n",
       "\\item FALSE\n",
       "\\item TRUE\n",
       "\\end{enumerate*}\n"
      ],
      "text/markdown": [
       "1. TRUE\n",
       "2. FALSE\n",
       "3. TRUE\n",
       "4. FALSE\n",
       "5. TRUE\n",
       "6. FALSE\n",
       "7. TRUE\n",
       "\n",
       "\n"
      ],
      "text/plain": [
       "[1]  TRUE FALSE  TRUE FALSE  TRUE FALSE  TRUE"
      ]
     },
     "metadata": {},
     "output_type": "display_data"
    }
   ],
   "source": [
    "testvals1 = c( 4 , 0 ,  -7,  NaN, 23,  NA, -60)\n",
    "\n",
    "testvals2 = c(\"a\", NA , \"b\", \"c\", \"d\", NA, \"e\")\n",
    "\n",
    "goods = complete.cases(testvals1, testvals2)\n",
    "goods"
   ]
  },
  {
   "cell_type": "code",
   "execution_count": 78,
   "metadata": {
    "scrolled": true
   },
   "outputs": [
    {
     "data": {
      "text/html": [
       "<table>\n",
       "<thead><tr><th scope=col>Ozone</th><th scope=col>Solar.R</th><th scope=col>Wind</th><th scope=col>Temp</th><th scope=col>Month</th><th scope=col>Day</th></tr></thead>\n",
       "<tbody>\n",
       "\t<tr><td>41  </td><td>190 </td><td> 7.4</td><td>67  </td><td>5   </td><td>1   </td></tr>\n",
       "\t<tr><td>36  </td><td>118 </td><td> 8.0</td><td>72  </td><td>5   </td><td>2   </td></tr>\n",
       "\t<tr><td>12  </td><td>149 </td><td>12.6</td><td>74  </td><td>5   </td><td>3   </td></tr>\n",
       "\t<tr><td>18  </td><td>313 </td><td>11.5</td><td>62  </td><td>5   </td><td>4   </td></tr>\n",
       "\t<tr><td>NA  </td><td> NA </td><td>14.3</td><td>56  </td><td>5   </td><td>5   </td></tr>\n",
       "\t<tr><td>28  </td><td> NA </td><td>14.9</td><td>66  </td><td>5   </td><td>6   </td></tr>\n",
       "</tbody>\n",
       "</table>\n"
      ],
      "text/latex": [
       "\\begin{tabular}{r|llllll}\n",
       " Ozone & Solar.R & Wind & Temp & Month & Day\\\\\n",
       "\\hline\n",
       "\t 41   & 190  &  7.4 & 67   & 5    & 1   \\\\\n",
       "\t 36   & 118  &  8.0 & 72   & 5    & 2   \\\\\n",
       "\t 12   & 149  & 12.6 & 74   & 5    & 3   \\\\\n",
       "\t 18   & 313  & 11.5 & 62   & 5    & 4   \\\\\n",
       "\t NA   &  NA  & 14.3 & 56   & 5    & 5   \\\\\n",
       "\t 28   &  NA  & 14.9 & 66   & 5    & 6   \\\\\n",
       "\\end{tabular}\n"
      ],
      "text/markdown": [
       "\n",
       "Ozone | Solar.R | Wind | Temp | Month | Day | \n",
       "|---|---|---|---|---|---|\n",
       "| 41   | 190  |  7.4 | 67   | 5    | 1    | \n",
       "| 36   | 118  |  8.0 | 72   | 5    | 2    | \n",
       "| 12   | 149  | 12.6 | 74   | 5    | 3    | \n",
       "| 18   | 313  | 11.5 | 62   | 5    | 4    | \n",
       "| NA   |  NA  | 14.3 | 56   | 5    | 5    | \n",
       "| 28   |  NA  | 14.9 | 66   | 5    | 6    | \n",
       "\n",
       "\n"
      ],
      "text/plain": [
       "  Ozone Solar.R Wind Temp Month Day\n",
       "1 41    190      7.4 67   5     1  \n",
       "2 36    118      8.0 72   5     2  \n",
       "3 12    149     12.6 74   5     3  \n",
       "4 18    313     11.5 62   5     4  \n",
       "5 NA     NA     14.3 56   5     5  \n",
       "6 28     NA     14.9 66   5     6  "
      ]
     },
     "metadata": {},
     "output_type": "display_data"
    }
   ],
   "source": [
    "head(airquality)"
   ]
  },
  {
   "cell_type": "markdown",
   "metadata": {},
   "source": [
    "## <font color=red><b>Quiz:</b></font>\n",
    "\n",
    "Write a part of code to show following results:\n",
    "1. Using USArrests dataset, those 3 states having highest Murder rate.\n",
    "2. Using mtcars dataset, the strongest car that has 3 gears.\n",
    "3. Using mtcars dataset, average of horse power (hp) of those cars having 4 gears and 6 cylindars (cyl).\n",
    "3. You can download WHO dataset and store it as a DataFrame using following code.<br>\n",
    "   whodata = read.csv(\"WHO.csv\")\n",
    "   Then, find those 5 countris having the least mortality rate."
   ]
  },
  {
   "cell_type": "markdown",
   "metadata": {},
   "source": [
    "# II. Control Structures\n",
    "\n",
    "A control structure is a block of programming that <font color=red>analyzes variables and chooses a direction</font> in which to go based on given parameters.<br>\n",
    "Control Structures can be divided into two main categories:\n",
    "- Conditional statements\n",
    "- Repeat Loops\n",
    "\n",
    "## 1. Conditional statements\n",
    "\n",
    "In R, as the other programing languages, <b>if-else statement</b> is used to evaluate a condition (simple or complex) to decise which parts of code should be executed.<br>\n",
    "\n",
    "if (condition) {<br>\n",
    " statement1<br>\n",
    "} else {<br>\n",
    "    statement2\n",
    "}"
   ]
  },
  {
   "cell_type": "code",
   "execution_count": 79,
   "metadata": {
    "scrolled": true
   },
   "outputs": [
    {
     "data": {
      "text/html": [
       "<table>\n",
       "<thead><tr><th scope=col>Name</th><th scope=col>Age</th><th scope=col>Graduated</th><th scope=col>Height</th><th scope=col>Weight</th></tr></thead>\n",
       "<tbody>\n",
       "\t<tr><td>Amin  </td><td>35    </td><td> TRUE </td><td>177   </td><td>83    </td></tr>\n",
       "\t<tr><td>Nur   </td><td>18    </td><td>FALSE </td><td>162   </td><td>60    </td></tr>\n",
       "\t<tr><td>John  </td><td>53    </td><td>FALSE </td><td>168   </td><td>75    </td></tr>\n",
       "\t<tr><td>Sara  </td><td>28    </td><td> TRUE </td><td>170   </td><td>80    </td></tr>\n",
       "\t<tr><td>Ali   </td><td>21    </td><td>FALSE </td><td>169   </td><td>68    </td></tr>\n",
       "\t<tr><td>Marcus</td><td>24    </td><td> TRUE </td><td>173   </td><td>75    </td></tr>\n",
       "</tbody>\n",
       "</table>\n"
      ],
      "text/latex": [
       "\\begin{tabular}{r|lllll}\n",
       " Name & Age & Graduated & Height & Weight\\\\\n",
       "\\hline\n",
       "\t Amin   & 35     &  TRUE  & 177    & 83    \\\\\n",
       "\t Nur    & 18     & FALSE  & 162    & 60    \\\\\n",
       "\t John   & 53     & FALSE  & 168    & 75    \\\\\n",
       "\t Sara   & 28     &  TRUE  & 170    & 80    \\\\\n",
       "\t Ali    & 21     & FALSE  & 169    & 68    \\\\\n",
       "\t Marcus & 24     &  TRUE  & 173    & 75    \\\\\n",
       "\\end{tabular}\n"
      ],
      "text/markdown": [
       "\n",
       "Name | Age | Graduated | Height | Weight | \n",
       "|---|---|---|---|---|---|\n",
       "| Amin   | 35     |  TRUE  | 177    | 83     | \n",
       "| Nur    | 18     | FALSE  | 162    | 60     | \n",
       "| John   | 53     | FALSE  | 168    | 75     | \n",
       "| Sara   | 28     |  TRUE  | 170    | 80     | \n",
       "| Ali    | 21     | FALSE  | 169    | 68     | \n",
       "| Marcus | 24     |  TRUE  | 173    | 75     | \n",
       "\n",
       "\n"
      ],
      "text/plain": [
       "  Name   Age Graduated Height Weight\n",
       "1 Amin   35   TRUE     177    83    \n",
       "2 Nur    18  FALSE     162    60    \n",
       "3 John   53  FALSE     168    75    \n",
       "4 Sara   28   TRUE     170    80    \n",
       "5 Ali    21  FALSE     169    68    \n",
       "6 Marcus 24   TRUE     173    75    "
      ]
     },
     "metadata": {},
     "output_type": "display_data"
    }
   ],
   "source": [
    "head(students)"
   ]
  },
  {
   "cell_type": "code",
   "execution_count": 80,
   "metadata": {
    "scrolled": true
   },
   "outputs": [
    {
     "data": {
      "text/html": [
       "35"
      ],
      "text/latex": [
       "35"
      ],
      "text/markdown": [
       "35"
      ],
      "text/plain": [
       "[1] 35"
      ]
     },
     "metadata": {},
     "output_type": "display_data"
    },
    {
     "data": {
      "text/html": [
       "TRUE"
      ],
      "text/latex": [
       "TRUE"
      ],
      "text/markdown": [
       "TRUE"
      ],
      "text/plain": [
       "[1] TRUE"
      ]
     },
     "metadata": {},
     "output_type": "display_data"
    },
    {
     "data": {
      "text/html": [
       "'========================'"
      ],
      "text/latex": [
       "'========================'"
      ],
      "text/markdown": [
       "'========================'"
      ],
      "text/plain": [
       "[1] \"========================\""
      ]
     },
     "metadata": {},
     "output_type": "display_data"
    },
    {
     "name": "stdout",
     "output_type": "stream",
     "text": [
      "[1] \"Is eligible!!\"\n"
     ]
    }
   ],
   "source": [
    "students[1,]$Age\n",
    "students[1,]$Graduated\n",
    "\"========================\"\n",
    "if(students[1,]$Age > 40 | students[1,]$Graduated == FALSE){\n",
    "        print (\"Is not eligible!!\")\n",
    "}else{\n",
    "        print (\"Is eligible!!\")\n",
    "    }"
   ]
  },
  {
   "cell_type": "code",
   "execution_count": 81,
   "metadata": {
    "scrolled": true
   },
   "outputs": [
    {
     "name": "stdout",
     "output_type": "stream",
     "text": [
      "[1] \"M3\"\n"
     ]
    }
   ],
   "source": [
    "# Nested if\n",
    "\n",
    "x = -5\n",
    "y = 0\n",
    "z = -3\n",
    "\n",
    "if(x > 0){\n",
    "    if(y == 10){\n",
    "        print (\"M1_1\")\n",
    "    }else{\n",
    "        print (\"M1_2\")\n",
    "    }\n",
    "}else if(x == 0){\n",
    "    if(y <= 0){\n",
    "        print (\"M2_1\")\n",
    "    }\n",
    "    else{\n",
    "        print (\"M2_2\")\n",
    "    }\n",
    "}else{\n",
    "    print(\"M3\")\n",
    "}"
   ]
  },
  {
   "cell_type": "code",
   "execution_count": 82,
   "metadata": {
    "scrolled": true
   },
   "outputs": [
    {
     "name": "stdout",
     "output_type": "stream",
     "text": [
      "[1] 1\n"
     ]
    },
    {
     "data": {
      "text/html": [
       "'================'"
      ],
      "text/latex": [
       "'================'"
      ],
      "text/markdown": [
       "'================'"
      ],
      "text/plain": [
       "[1] \"================\""
      ]
     },
     "metadata": {},
     "output_type": "display_data"
    },
    {
     "name": "stdout",
     "output_type": "stream",
     "text": [
      "[1] -1\n"
     ]
    }
   ],
   "source": [
    "# ifelse\n",
    "\n",
    "x = 5\n",
    "z = ifelse(x == 5, 1, -1)\n",
    "print (z)\n",
    "\"================\"\n",
    "z = ifelse(x != 5, 1, -1)\n",
    "print (z)"
   ]
  },
  {
   "cell_type": "markdown",
   "metadata": {},
   "source": [
    "## 2. Repeat Loops\n",
    "\n",
    "These structures repeats given statements for <b>specified</b> or <b>unspecified number</b> of repetition.\n",
    "\n",
    "### 2.1. for\n",
    "\n",
    "- implements a loop with specified number of repetitions.<br>\n",
    "\n",
    "for (<i>variable</i> in <i>sequence</i>){<br>\n",
    "<tab>statements<br>\n",
    "}"
   ]
  },
  {
   "cell_type": "code",
   "execution_count": 83,
   "metadata": {
    "scrolled": true
   },
   "outputs": [
    {
     "name": "stdout",
     "output_type": "stream",
     "text": [
      "[1] \"1 ) Hello World !\"\n",
      "[1] \"2 ) Hello World !\"\n",
      "[1] \"3 ) Hello World !\"\n",
      "[1] \"4 ) Hello World !\"\n",
      "[1] \"5 ) Hello World !\"\n"
     ]
    }
   ],
   "source": [
    "for(i in 1:5){\n",
    "    print (paste(i, \") Hello World !\"))\n",
    "}"
   ]
  },
  {
   "cell_type": "code",
   "execution_count": 84,
   "metadata": {
    "scrolled": true
   },
   "outputs": [
    {
     "name": "stdout",
     "output_type": "stream",
     "text": [
      "[1] \"Column  Name : \"\n",
      "[1] Amin   Nur    John   Sara   Ali    Marcus\n",
      "Levels: Amin John Nur Sara Ali Marcus\n",
      "[1] \"Column  Age : \"\n",
      "[1] 35 18 53 28 21 24\n",
      "[1] \"Column  Graduated : \"\n",
      "[1]  TRUE FALSE FALSE  TRUE FALSE  TRUE\n",
      "[1] \"Column  Height : \"\n",
      "[1] 177 162 168 170 169 173\n",
      "[1] \"Column  Weight : \"\n",
      "[1] 83 60 75 80 68 75\n"
     ]
    }
   ],
   "source": [
    "for(name in names(students)){\n",
    "    print (paste(\"Column \", name, \": \"))\n",
    "    print (students[[name]])\n",
    "}"
   ]
  },
  {
   "cell_type": "code",
   "execution_count": 85,
   "metadata": {
    "scrolled": true
   },
   "outputs": [
    {
     "name": "stdout",
     "output_type": "stream",
     "text": [
      "[1] \"Amin is 35 Years old  and is graduated.\"\n",
      "[1] \"Nur is 18 Years old  but is not graduated.\"\n",
      "[1] \"John is 53 Years old  but is not graduated.\"\n",
      "[1] \"Sara is 28 Years old  and is graduated.\"\n",
      "[1] \"Ali is 21 Years old  but is not graduated.\"\n",
      "[1] \"Marcus is 24 Years old  and is graduated.\"\n"
     ]
    }
   ],
   "source": [
    "for(i in 1:nrow(students)){\n",
    "    str = paste(students[i,]$Name, \"is\", students[i, ]$Age, \"Years old\", sep = ' ')\n",
    "    if(students[i,]$Graduated == TRUE)\n",
    "        str = paste(str , \" and is graduated.\")\n",
    "    else\n",
    "        str = paste(str , \" but is not graduated.\")\n",
    "    print(str)\n",
    "}"
   ]
  },
  {
   "cell_type": "markdown",
   "metadata": {},
   "source": [
    "### 2.2. while\n",
    "\n",
    "- implements unspecified loops\n",
    "- It repeats statement(s)while the given condition is true.\n",
    "\n",
    "while(condition){<br>\n",
    "statements<br>\n",
    "}"
   ]
  },
  {
   "cell_type": "code",
   "execution_count": 86,
   "metadata": {
    "scrolled": true
   },
   "outputs": [
    {
     "name": "stdout",
     "output_type": "stream",
     "text": [
      "  Name Age Graduated Height Weight\n",
      "1 Amin  35      TRUE    177     83\n"
     ]
    }
   ],
   "source": [
    "cnt = 1\n",
    "while(students[cnt,]$Graduated == TRUE){\n",
    "    print (students[cnt,])\n",
    "    cnt = cnt + 1\n",
    "    }"
   ]
  },
  {
   "cell_type": "code",
   "execution_count": 87,
   "metadata": {
    "scrolled": true
   },
   "outputs": [
    {
     "name": "stdout",
     "output_type": "stream",
     "text": [
      "  Name Age Graduated Height Weight\n",
      "1 Amin  35      TRUE    177     83\n",
      "  Name Age Graduated Height Weight\n",
      "2  Nur  18     FALSE    162     60\n"
     ]
    }
   ],
   "source": [
    "cnt = 1\n",
    "while(students[cnt,]$Graduated == TRUE | students[cnt,]$Age < 20){\n",
    "    print (students[cnt,])\n",
    "    cnt = cnt + 1\n",
    "    }"
   ]
  },
  {
   "cell_type": "markdown",
   "metadata": {},
   "source": [
    "### 2.3. Repeating Functions\n",
    "\n",
    "- <font color=red><b>Will be tought after functions</b></font>"
   ]
  },
  {
   "cell_type": "markdown",
   "metadata": {},
   "source": [
    "# 3. Functions\n",
    "\n",
    "- Two kinds of functions are being used in R:\n",
    "1. Built-in function (e.g. c(), data.frame(), print() )\n",
    "2. User-defined functions\n",
    "\n",
    "The structure of a function is as below:\n",
    "\n",
    "<b>\n",
    "myfunction <- function(arg1, arg2, ... ){<br>\n",
    "statements<br>\n",
    "return (object)<br>\n",
    "}</b>"
   ]
  },
  {
   "cell_type": "code",
   "execution_count": 88,
   "metadata": {
    "scrolled": true
   },
   "outputs": [
    {
     "data": {
      "text/html": [
       "480"
      ],
      "text/latex": [
       "480"
      ],
      "text/markdown": [
       "480"
      ],
      "text/plain": [
       "[1] 480"
      ]
     },
     "metadata": {},
     "output_type": "display_data"
    },
    {
     "data": {
      "text/plain": [
       "NULL"
      ]
     },
     "metadata": {},
     "output_type": "display_data"
    }
   ],
   "source": [
    "# A simple function to multiply a vector of numbers\n",
    "\n",
    "multiply <- function (x){\n",
    "    if(length(x) == 0 | is.vector(x) == FALSE){\n",
    "        NULL\n",
    "    }\n",
    "    else{\n",
    "        m = 1\n",
    "        for ( num in x){\n",
    "            m = m * num\n",
    "        }\n",
    "        return(m)\n",
    "    }\n",
    "}\n",
    "\n",
    "numbers = c(2, 4, 6, 10)\n",
    "multiply(numbers)\n",
    "multiply(c())"
   ]
  },
  {
   "cell_type": "markdown",
   "metadata": {},
   "source": [
    "## <font color=red><b>Quiz:</b></font>\n",
    "\n",
    "- Write a function to find the second greatest number of a list of numbers."
   ]
  },
  {
   "cell_type": "code",
   "execution_count": 89,
   "metadata": {
    "scrolled": true
   },
   "outputs": [
    {
     "data": {
      "text/html": [
       "7"
      ],
      "text/latex": [
       "7"
      ],
      "text/markdown": [
       "7"
      ],
      "text/plain": [
       "[1] 7"
      ]
     },
     "metadata": {},
     "output_type": "display_data"
    },
    {
     "data": {
      "text/plain": [
       "NULL"
      ]
     },
     "metadata": {},
     "output_type": "display_data"
    },
    {
     "data": {
      "text/html": [
       "5"
      ],
      "text/latex": [
       "5"
      ],
      "text/markdown": [
       "5"
      ],
      "text/plain": [
       "[1] 5"
      ]
     },
     "metadata": {},
     "output_type": "display_data"
    }
   ],
   "source": [
    "second_max <- function (x){\n",
    "    if(length(x) <= 1){\n",
    "        NULL\n",
    "    }else{\n",
    "        fmax = -.Machine$double.xmax#-99999\n",
    "        smax = -.Machine$double.xmax#-99999\n",
    "        \n",
    "        for(num in x){\n",
    "            if(num > fmax){\n",
    "                smax = fmax\n",
    "                fmax = num\n",
    "            }else if(num > smax){\n",
    "                smax = num\n",
    "            }\n",
    "        }\n",
    "        smax\n",
    "    }\n",
    "}\n",
    "\n",
    "second_max(c(1,2,4,7,5,9,3))\n",
    "second_max(c(2))\n",
    "second_max(c(5,5))"
   ]
  },
  {
   "cell_type": "markdown",
   "metadata": {},
   "source": [
    "- <font color=red>Example:</font> Write a function to return x^y (x powered by y)."
   ]
  },
  {
   "cell_type": "code",
   "execution_count": 90,
   "metadata": {
    "scrolled": true
   },
   "outputs": [
    {
     "data": {
      "text/html": [
       "32"
      ],
      "text/latex": [
       "32"
      ],
      "text/markdown": [
       "32"
      ],
      "text/plain": [
       "[1] 32"
      ]
     },
     "metadata": {},
     "output_type": "display_data"
    },
    {
     "data": {
      "text/html": [
       "25"
      ],
      "text/latex": [
       "25"
      ],
      "text/markdown": [
       "25"
      ],
      "text/plain": [
       "[1] 25"
      ]
     },
     "metadata": {},
     "output_type": "display_data"
    },
    {
     "data": {
      "text/html": [
       "32"
      ],
      "text/latex": [
       "32"
      ],
      "text/markdown": [
       "32"
      ],
      "text/plain": [
       "[1] 32"
      ]
     },
     "metadata": {},
     "output_type": "display_data"
    },
    {
     "data": {
      "text/html": [
       "1024"
      ],
      "text/latex": [
       "1024"
      ],
      "text/markdown": [
       "1024"
      ],
      "text/plain": [
       "[1] 1024"
      ]
     },
     "metadata": {},
     "output_type": "display_data"
    },
    {
     "data": {
      "text/html": [
       "1"
      ],
      "text/latex": [
       "1"
      ],
      "text/markdown": [
       "1"
      ],
      "text/plain": [
       "[1] 1"
      ]
     },
     "metadata": {},
     "output_type": "display_data"
    }
   ],
   "source": [
    "powerxy <- function(base=2, pow=0){\n",
    "    if(base == 0){\n",
    "        0\n",
    "    }else if(pow == 0){\n",
    "        1\n",
    "    }else{\n",
    "        res = 1\n",
    "        for(i in 1:pow){\n",
    "            res = res * base\n",
    "        }\n",
    "        return (res)\n",
    "    }\n",
    "}\n",
    "    \n",
    "powerxy(2, 5)\n",
    "powerxy(5, 2)\n",
    "powerxy(pow=5, base=2)\n",
    "powerxy(pow=10)\n",
    "powerxy(base=10)"
   ]
  },
  {
   "cell_type": "markdown",
   "metadata": {},
   "source": [
    "# 4. Statistics\n",
    "\n",
    "## 4.1. How to generate random numbers\n",
    "\n",
    "- There are some functions in R for generating random numbers with particular distribution.\n"
   ]
  },
  {
   "cell_type": "code",
   "execution_count": 91,
   "metadata": {
    "scrolled": true
   },
   "outputs": [
    {
     "data": {
      "text/html": [
       "<ol class=list-inline>\n",
       "\t<li>4</li>\n",
       "\t<li>1</li>\n",
       "\t<li>3</li>\n",
       "\t<li>3</li>\n",
       "\t<li>2</li>\n",
       "\t<li>2</li>\n",
       "\t<li>2</li>\n",
       "\t<li>1</li>\n",
       "\t<li>1</li>\n",
       "\t<li>1</li>\n",
       "</ol>\n"
      ],
      "text/latex": [
       "\\begin{enumerate*}\n",
       "\\item 4\n",
       "\\item 1\n",
       "\\item 3\n",
       "\\item 3\n",
       "\\item 2\n",
       "\\item 2\n",
       "\\item 2\n",
       "\\item 1\n",
       "\\item 1\n",
       "\\item 1\n",
       "\\end{enumerate*}\n"
      ],
      "text/markdown": [
       "1. 4\n",
       "2. 1\n",
       "3. 3\n",
       "4. 3\n",
       "5. 2\n",
       "6. 2\n",
       "7. 2\n",
       "8. 1\n",
       "9. 1\n",
       "10. 1\n",
       "\n",
       "\n"
      ],
      "text/plain": [
       " [1] 4 1 3 3 2 2 2 1 1 1"
      ]
     },
     "metadata": {},
     "output_type": "display_data"
    },
    {
     "data": {
      "text/html": [
       "<ol class=list-inline>\n",
       "\t<li>1</li>\n",
       "\t<li>2</li>\n",
       "\t<li>0</li>\n",
       "\t<li>0</li>\n",
       "\t<li>2</li>\n",
       "\t<li>3</li>\n",
       "\t<li>3</li>\n",
       "\t<li>3</li>\n",
       "\t<li>2</li>\n",
       "\t<li>3</li>\n",
       "</ol>\n"
      ],
      "text/latex": [
       "\\begin{enumerate*}\n",
       "\\item 1\n",
       "\\item 2\n",
       "\\item 0\n",
       "\\item 0\n",
       "\\item 2\n",
       "\\item 3\n",
       "\\item 3\n",
       "\\item 3\n",
       "\\item 2\n",
       "\\item 3\n",
       "\\end{enumerate*}\n"
      ],
      "text/markdown": [
       "1. 1\n",
       "2. 2\n",
       "3. 0\n",
       "4. 0\n",
       "5. 2\n",
       "6. 3\n",
       "7. 3\n",
       "8. 3\n",
       "9. 2\n",
       "10. 3\n",
       "\n",
       "\n"
      ],
      "text/plain": [
       " [1] 1 2 0 0 2 3 3 3 2 3"
      ]
     },
     "metadata": {},
     "output_type": "display_data"
    },
    {
     "data": {
      "text/html": [
       "<ol class=list-inline>\n",
       "\t<li>2</li>\n",
       "\t<li>1</li>\n",
       "\t<li>4</li>\n",
       "\t<li>3</li>\n",
       "\t<li>2</li>\n",
       "\t<li>2</li>\n",
       "\t<li>2</li>\n",
       "\t<li>2</li>\n",
       "\t<li>4</li>\n",
       "\t<li>3</li>\n",
       "</ol>\n"
      ],
      "text/latex": [
       "\\begin{enumerate*}\n",
       "\\item 2\n",
       "\\item 1\n",
       "\\item 4\n",
       "\\item 3\n",
       "\\item 2\n",
       "\\item 2\n",
       "\\item 2\n",
       "\\item 2\n",
       "\\item 4\n",
       "\\item 3\n",
       "\\end{enumerate*}\n"
      ],
      "text/markdown": [
       "1. 2\n",
       "2. 1\n",
       "3. 4\n",
       "4. 3\n",
       "5. 2\n",
       "6. 2\n",
       "7. 2\n",
       "8. 2\n",
       "9. 4\n",
       "10. 3\n",
       "\n",
       "\n"
      ],
      "text/plain": [
       " [1] 2 1 4 3 2 2 2 2 4 3"
      ]
     },
     "metadata": {},
     "output_type": "display_data"
    }
   ],
   "source": [
    "# ● BINOMIAL Distribution\n",
    "\n",
    "# rbinom(n, size, prob)\n",
    "# n: number of observations\n",
    "# size: number of trials (zero or more)\n",
    "# prob: probability of success on each trial\n",
    "\n",
    "rbinom(10, 4, 0.5)\n",
    "rbinom(10, 4, 0.5)\n",
    "rbinom(10, 4, 0.5)"
   ]
  },
  {
   "cell_type": "code",
   "execution_count": 92,
   "metadata": {
    "scrolled": true
   },
   "outputs": [
    {
     "data": {
      "text/html": [
       "<ol class=list-inline>\n",
       "\t<li>0</li>\n",
       "\t<li>1</li>\n",
       "\t<li>2</li>\n",
       "\t<li>3</li>\n",
       "\t<li>1</li>\n",
       "\t<li>0</li>\n",
       "\t<li>1</li>\n",
       "\t<li>0</li>\n",
       "\t<li>3</li>\n",
       "\t<li>1</li>\n",
       "</ol>\n"
      ],
      "text/latex": [
       "\\begin{enumerate*}\n",
       "\\item 0\n",
       "\\item 1\n",
       "\\item 2\n",
       "\\item 3\n",
       "\\item 1\n",
       "\\item 0\n",
       "\\item 1\n",
       "\\item 0\n",
       "\\item 3\n",
       "\\item 1\n",
       "\\end{enumerate*}\n"
      ],
      "text/markdown": [
       "1. 0\n",
       "2. 1\n",
       "3. 2\n",
       "4. 3\n",
       "5. 1\n",
       "6. 0\n",
       "7. 1\n",
       "8. 0\n",
       "9. 3\n",
       "10. 1\n",
       "\n",
       "\n"
      ],
      "text/plain": [
       " [1] 0 1 2 3 1 0 1 0 3 1"
      ]
     },
     "metadata": {},
     "output_type": "display_data"
    },
    {
     "data": {
      "text/html": [
       "<ol class=list-inline>\n",
       "\t<li>2</li>\n",
       "\t<li>2</li>\n",
       "\t<li>1</li>\n",
       "\t<li>3</li>\n",
       "\t<li>0</li>\n",
       "\t<li>1</li>\n",
       "\t<li>0</li>\n",
       "\t<li>1</li>\n",
       "\t<li>0</li>\n",
       "\t<li>0</li>\n",
       "</ol>\n"
      ],
      "text/latex": [
       "\\begin{enumerate*}\n",
       "\\item 2\n",
       "\\item 2\n",
       "\\item 1\n",
       "\\item 3\n",
       "\\item 0\n",
       "\\item 1\n",
       "\\item 0\n",
       "\\item 1\n",
       "\\item 0\n",
       "\\item 0\n",
       "\\end{enumerate*}\n"
      ],
      "text/markdown": [
       "1. 2\n",
       "2. 2\n",
       "3. 1\n",
       "4. 3\n",
       "5. 0\n",
       "6. 1\n",
       "7. 0\n",
       "8. 1\n",
       "9. 0\n",
       "10. 0\n",
       "\n",
       "\n"
      ],
      "text/plain": [
       " [1] 2 2 1 3 0 1 0 1 0 0"
      ]
     },
     "metadata": {},
     "output_type": "display_data"
    },
    {
     "data": {
      "text/html": [
       "<ol class=list-inline>\n",
       "\t<li>1</li>\n",
       "\t<li>0</li>\n",
       "\t<li>0</li>\n",
       "\t<li>0</li>\n",
       "\t<li>0</li>\n",
       "\t<li>0</li>\n",
       "\t<li>2</li>\n",
       "\t<li>0</li>\n",
       "\t<li>3</li>\n",
       "\t<li>1</li>\n",
       "</ol>\n"
      ],
      "text/latex": [
       "\\begin{enumerate*}\n",
       "\\item 1\n",
       "\\item 0\n",
       "\\item 0\n",
       "\\item 0\n",
       "\\item 0\n",
       "\\item 0\n",
       "\\item 2\n",
       "\\item 0\n",
       "\\item 3\n",
       "\\item 1\n",
       "\\end{enumerate*}\n"
      ],
      "text/markdown": [
       "1. 1\n",
       "2. 0\n",
       "3. 0\n",
       "4. 0\n",
       "5. 0\n",
       "6. 0\n",
       "7. 2\n",
       "8. 0\n",
       "9. 3\n",
       "10. 1\n",
       "\n",
       "\n"
      ],
      "text/plain": [
       " [1] 1 0 0 0 0 0 2 0 3 1"
      ]
     },
     "metadata": {},
     "output_type": "display_data"
    }
   ],
   "source": [
    "# ● Geometric Distribution\n",
    "\n",
    "# rgeom(n, prob)\n",
    "# n: number of observations\n",
    "# prob: probability of success on each trial\n",
    "\n",
    "rgeom(10, 0.5)\n",
    "rgeom(10, 0.5)\n",
    "rgeom(10, 0.5)"
   ]
  },
  {
   "cell_type": "code",
   "execution_count": 93,
   "metadata": {
    "scrolled": true
   },
   "outputs": [
    {
     "data": {
      "text/html": [
       "<ol class=list-inline>\n",
       "\t<li>1</li>\n",
       "\t<li>0</li>\n",
       "\t<li>0</li>\n",
       "\t<li>1</li>\n",
       "\t<li>1</li>\n",
       "\t<li>0</li>\n",
       "\t<li>0</li>\n",
       "\t<li>0</li>\n",
       "\t<li>0</li>\n",
       "\t<li>1</li>\n",
       "</ol>\n"
      ],
      "text/latex": [
       "\\begin{enumerate*}\n",
       "\\item 1\n",
       "\\item 0\n",
       "\\item 0\n",
       "\\item 1\n",
       "\\item 1\n",
       "\\item 0\n",
       "\\item 0\n",
       "\\item 0\n",
       "\\item 0\n",
       "\\item 1\n",
       "\\end{enumerate*}\n"
      ],
      "text/markdown": [
       "1. 1\n",
       "2. 0\n",
       "3. 0\n",
       "4. 1\n",
       "5. 1\n",
       "6. 0\n",
       "7. 0\n",
       "8. 0\n",
       "9. 0\n",
       "10. 1\n",
       "\n",
       "\n"
      ],
      "text/plain": [
       " [1] 1 0 0 1 1 0 0 0 0 1"
      ]
     },
     "metadata": {},
     "output_type": "display_data"
    },
    {
     "data": {
      "text/html": [
       "<ol class=list-inline>\n",
       "\t<li>2</li>\n",
       "\t<li>3</li>\n",
       "\t<li>2</li>\n",
       "\t<li>0</li>\n",
       "\t<li>0</li>\n",
       "\t<li>0</li>\n",
       "\t<li>1</li>\n",
       "\t<li>1</li>\n",
       "\t<li>0</li>\n",
       "\t<li>0</li>\n",
       "</ol>\n"
      ],
      "text/latex": [
       "\\begin{enumerate*}\n",
       "\\item 2\n",
       "\\item 3\n",
       "\\item 2\n",
       "\\item 0\n",
       "\\item 0\n",
       "\\item 0\n",
       "\\item 1\n",
       "\\item 1\n",
       "\\item 0\n",
       "\\item 0\n",
       "\\end{enumerate*}\n"
      ],
      "text/markdown": [
       "1. 2\n",
       "2. 3\n",
       "3. 2\n",
       "4. 0\n",
       "5. 0\n",
       "6. 0\n",
       "7. 1\n",
       "8. 1\n",
       "9. 0\n",
       "10. 0\n",
       "\n",
       "\n"
      ],
      "text/plain": [
       " [1] 2 3 2 0 0 0 1 1 0 0"
      ]
     },
     "metadata": {},
     "output_type": "display_data"
    },
    {
     "data": {
      "text/html": [
       "<ol class=list-inline>\n",
       "\t<li>1</li>\n",
       "\t<li>1</li>\n",
       "\t<li>1</li>\n",
       "\t<li>2</li>\n",
       "\t<li>0</li>\n",
       "\t<li>0</li>\n",
       "\t<li>0</li>\n",
       "\t<li>0</li>\n",
       "\t<li>0</li>\n",
       "\t<li>0</li>\n",
       "</ol>\n"
      ],
      "text/latex": [
       "\\begin{enumerate*}\n",
       "\\item 1\n",
       "\\item 1\n",
       "\\item 1\n",
       "\\item 2\n",
       "\\item 0\n",
       "\\item 0\n",
       "\\item 0\n",
       "\\item 0\n",
       "\\item 0\n",
       "\\item 0\n",
       "\\end{enumerate*}\n"
      ],
      "text/markdown": [
       "1. 1\n",
       "2. 1\n",
       "3. 1\n",
       "4. 2\n",
       "5. 0\n",
       "6. 0\n",
       "7. 0\n",
       "8. 0\n",
       "9. 0\n",
       "10. 0\n",
       "\n",
       "\n"
      ],
      "text/plain": [
       " [1] 1 1 1 2 0 0 0 0 0 0"
      ]
     },
     "metadata": {},
     "output_type": "display_data"
    }
   ],
   "source": [
    "# ● Poisson Distribution\n",
    "\n",
    "# rpois(n, lambda)\n",
    "# n: number of observations\n",
    "# lambda: vector of (non-negative) means\n",
    "\n",
    "rpois(10, 0.5)\n",
    "rpois(10, 0.5)\n",
    "rpois(10, c(0.75, 0.5, 0.25))"
   ]
  },
  {
   "cell_type": "code",
   "execution_count": 94,
   "metadata": {
    "scrolled": true
   },
   "outputs": [
    {
     "data": {
      "text/html": [
       "<ol class=list-inline>\n",
       "\t<li>2.22320198194524</li>\n",
       "\t<li>0.487742950674146</li>\n",
       "\t<li>4.11685067953026</li>\n",
       "\t<li>2.23806640306923</li>\n",
       "\t<li>1.42844784382947</li>\n",
       "\t<li>1.09817839595945</li>\n",
       "\t<li>0.169936589431018</li>\n",
       "\t<li>0.5505690285936</li>\n",
       "\t<li>2.28084836701367</li>\n",
       "\t<li>1.97206256902757</li>\n",
       "</ol>\n"
      ],
      "text/latex": [
       "\\begin{enumerate*}\n",
       "\\item 2.22320198194524\n",
       "\\item 0.487742950674146\n",
       "\\item 4.11685067953026\n",
       "\\item 2.23806640306923\n",
       "\\item 1.42844784382947\n",
       "\\item 1.09817839595945\n",
       "\\item 0.169936589431018\n",
       "\\item 0.5505690285936\n",
       "\\item 2.28084836701367\n",
       "\\item 1.97206256902757\n",
       "\\end{enumerate*}\n"
      ],
      "text/markdown": [
       "1. 2.22320198194524\n",
       "2. 0.487742950674146\n",
       "3. 4.11685067953026\n",
       "4. 2.23806640306923\n",
       "5. 1.42844784382947\n",
       "6. 1.09817839595945\n",
       "7. 0.169936589431018\n",
       "8. 0.5505690285936\n",
       "9. 2.28084836701367\n",
       "10. 1.97206256902757\n",
       "\n",
       "\n"
      ],
      "text/plain": [
       " [1] 2.2232020 0.4877430 4.1168507 2.2380664 1.4284478 1.0981784 0.1699366\n",
       " [8] 0.5505690 2.2808484 1.9720626"
      ]
     },
     "metadata": {},
     "output_type": "display_data"
    },
    {
     "data": {
      "text/html": [
       "<ol class=list-inline>\n",
       "\t<li>0.00139964801311346</li>\n",
       "\t<li>0.286199181137567</li>\n",
       "\t<li>0.182136944976201</li>\n",
       "\t<li>0.0814211687073112</li>\n",
       "\t<li>0.135205550678074</li>\n",
       "\t<li>0.0378657231107354</li>\n",
       "\t<li>0.18398744816983</li>\n",
       "\t<li>0.100812201201916</li>\n",
       "\t<li>0.148542137378681</li>\n",
       "\t<li>0.0409858196973801</li>\n",
       "</ol>\n"
      ],
      "text/latex": [
       "\\begin{enumerate*}\n",
       "\\item 0.00139964801311346\n",
       "\\item 0.286199181137567\n",
       "\\item 0.182136944976201\n",
       "\\item 0.0814211687073112\n",
       "\\item 0.135205550678074\n",
       "\\item 0.0378657231107354\n",
       "\\item 0.18398744816983\n",
       "\\item 0.100812201201916\n",
       "\\item 0.148542137378681\n",
       "\\item 0.0409858196973801\n",
       "\\end{enumerate*}\n"
      ],
      "text/markdown": [
       "1. 0.00139964801311346\n",
       "2. 0.286199181137567\n",
       "3. 0.182136944976201\n",
       "4. 0.0814211687073112\n",
       "5. 0.135205550678074\n",
       "6. 0.0378657231107354\n",
       "7. 0.18398744816983\n",
       "8. 0.100812201201916\n",
       "9. 0.148542137378681\n",
       "10. 0.0409858196973801\n",
       "\n",
       "\n"
      ],
      "text/plain": [
       " [1] 0.001399648 0.286199181 0.182136945 0.081421169 0.135205551 0.037865723\n",
       " [7] 0.183987448 0.100812201 0.148542137 0.040985820"
      ]
     },
     "metadata": {},
     "output_type": "display_data"
    },
    {
     "data": {
      "text/html": [
       "<ol class=list-inline>\n",
       "\t<li>0.944</li>\n",
       "\t<li>0.478</li>\n",
       "\t<li>0.074</li>\n",
       "\t<li>4.574</li>\n",
       "\t<li>0.077</li>\n",
       "\t<li>0.22</li>\n",
       "\t<li>2.263</li>\n",
       "\t<li>0.225</li>\n",
       "\t<li>1.07</li>\n",
       "\t<li>0.906</li>\n",
       "</ol>\n"
      ],
      "text/latex": [
       "\\begin{enumerate*}\n",
       "\\item 0.944\n",
       "\\item 0.478\n",
       "\\item 0.074\n",
       "\\item 4.574\n",
       "\\item 0.077\n",
       "\\item 0.22\n",
       "\\item 2.263\n",
       "\\item 0.225\n",
       "\\item 1.07\n",
       "\\item 0.906\n",
       "\\end{enumerate*}\n"
      ],
      "text/markdown": [
       "1. 0.944\n",
       "2. 0.478\n",
       "3. 0.074\n",
       "4. 4.574\n",
       "5. 0.077\n",
       "6. 0.22\n",
       "7. 2.263\n",
       "8. 0.225\n",
       "9. 1.07\n",
       "10. 0.906\n",
       "\n",
       "\n"
      ],
      "text/plain": [
       " [1] 0.944 0.478 0.074 4.574 0.077 0.220 2.263 0.225 1.070 0.906"
      ]
     },
     "metadata": {},
     "output_type": "display_data"
    }
   ],
   "source": [
    "# ● Exponential Distribution\n",
    "\n",
    "# rexp(n, rate)\n",
    "# n: number of observations\n",
    "# rate: vector of rates\n",
    "\n",
    "rexp(10, rate = 1)\n",
    "rexp(10, rate = 5)\n",
    "round(rexp(10, rate = c(1, 3, 2)), 3)"
   ]
  },
  {
   "cell_type": "code",
   "execution_count": 95,
   "metadata": {
    "scrolled": true
   },
   "outputs": [
    {
     "data": {
      "text/html": [
       "<ol class=list-inline>\n",
       "\t<li>-1.6586951919114</li>\n",
       "\t<li>-0.816500342820905</li>\n",
       "\t<li>0.88882640315598</li>\n",
       "\t<li>1.63098280993924</li>\n",
       "\t<li>-1.41097866329466</li>\n",
       "\t<li>0.852548730540698</li>\n",
       "\t<li>-0.653764799148507</li>\n",
       "\t<li>0.217239991858518</li>\n",
       "\t<li>-1.41554159015949</li>\n",
       "\t<li>-1.75846569231264</li>\n",
       "</ol>\n"
      ],
      "text/latex": [
       "\\begin{enumerate*}\n",
       "\\item -1.6586951919114\n",
       "\\item -0.816500342820905\n",
       "\\item 0.88882640315598\n",
       "\\item 1.63098280993924\n",
       "\\item -1.41097866329466\n",
       "\\item 0.852548730540698\n",
       "\\item -0.653764799148507\n",
       "\\item 0.217239991858518\n",
       "\\item -1.41554159015949\n",
       "\\item -1.75846569231264\n",
       "\\end{enumerate*}\n"
      ],
      "text/markdown": [
       "1. -1.6586951919114\n",
       "2. -0.816500342820905\n",
       "3. 0.88882640315598\n",
       "4. 1.63098280993924\n",
       "5. -1.41097866329466\n",
       "6. 0.852548730540698\n",
       "7. -0.653764799148507\n",
       "8. 0.217239991858518\n",
       "9. -1.41554159015949\n",
       "10. -1.75846569231264\n",
       "\n",
       "\n"
      ],
      "text/plain": [
       " [1] -1.6586952 -0.8165003  0.8888264  1.6309828 -1.4109787  0.8525487\n",
       " [7] -0.6537648  0.2172400 -1.4155416 -1.7584657"
      ]
     },
     "metadata": {},
     "output_type": "display_data"
    },
    {
     "data": {
      "text/html": [
       "<ol class=list-inline>\n",
       "\t<li>8.85656847398146</li>\n",
       "\t<li>1.3639295855746</li>\n",
       "\t<li>6.46141626759776</li>\n",
       "\t<li>4.72544574871126</li>\n",
       "\t<li>5.98193701292445</li>\n",
       "\t<li>2.86430841384381</li>\n",
       "\t<li>5.48546121319286</li>\n",
       "\t<li>7.46484998590319</li>\n",
       "\t<li>3.21125105543259</li>\n",
       "\t<li>4.4924543800025</li>\n",
       "</ol>\n"
      ],
      "text/latex": [
       "\\begin{enumerate*}\n",
       "\\item 8.85656847398146\n",
       "\\item 1.3639295855746\n",
       "\\item 6.46141626759776\n",
       "\\item 4.72544574871126\n",
       "\\item 5.98193701292445\n",
       "\\item 2.86430841384381\n",
       "\\item 5.48546121319286\n",
       "\\item 7.46484998590319\n",
       "\\item 3.21125105543259\n",
       "\\item 4.4924543800025\n",
       "\\end{enumerate*}\n"
      ],
      "text/markdown": [
       "1. 8.85656847398146\n",
       "2. 1.3639295855746\n",
       "3. 6.46141626759776\n",
       "4. 4.72544574871126\n",
       "5. 5.98193701292445\n",
       "6. 2.86430841384381\n",
       "7. 5.48546121319286\n",
       "8. 7.46484998590319\n",
       "9. 3.21125105543259\n",
       "10. 4.4924543800025\n",
       "\n",
       "\n"
      ],
      "text/plain": [
       " [1] 8.856568 1.363930 6.461416 4.725446 5.981937 2.864308 5.485461 7.464850\n",
       " [9] 3.211251 4.492454"
      ]
     },
     "metadata": {},
     "output_type": "display_data"
    },
    {
     "data": {
      "text/html": [
       "<ol class=list-inline>\n",
       "\t<li>4.89607380250917</li>\n",
       "\t<li>5.11515239424346</li>\n",
       "\t<li>5.09943973262769</li>\n",
       "\t<li>5.18867184289475</li>\n",
       "\t<li>4.93183309069421</li>\n",
       "\t<li>4.80585267198554</li>\n",
       "\t<li>4.7747922858685</li>\n",
       "\t<li>4.59249789164207</li>\n",
       "\t<li>5.04513579750502</li>\n",
       "\t<li>4.93629188060442</li>\n",
       "</ol>\n"
      ],
      "text/latex": [
       "\\begin{enumerate*}\n",
       "\\item 4.89607380250917\n",
       "\\item 5.11515239424346\n",
       "\\item 5.09943973262769\n",
       "\\item 5.18867184289475\n",
       "\\item 4.93183309069421\n",
       "\\item 4.80585267198554\n",
       "\\item 4.7747922858685\n",
       "\\item 4.59249789164207\n",
       "\\item 5.04513579750502\n",
       "\\item 4.93629188060442\n",
       "\\end{enumerate*}\n"
      ],
      "text/markdown": [
       "1. 4.89607380250917\n",
       "2. 5.11515239424346\n",
       "3. 5.09943973262769\n",
       "4. 5.18867184289475\n",
       "5. 4.93183309069421\n",
       "6. 4.80585267198554\n",
       "7. 4.7747922858685\n",
       "8. 4.59249789164207\n",
       "9. 5.04513579750502\n",
       "10. 4.93629188060442\n",
       "\n",
       "\n"
      ],
      "text/plain": [
       " [1] 4.896074 5.115152 5.099440 5.188672 4.931833 4.805853 4.774792 4.592498\n",
       " [9] 5.045136 4.936292"
      ]
     },
     "metadata": {},
     "output_type": "display_data"
    }
   ],
   "source": [
    "# ● Normal Distribution\n",
    "\n",
    "# rnorm(n, mean, sd)\n",
    "# n: number of observations\n",
    "# mean: vector of means\n",
    "# sd: vector of Standard Deviations\n",
    "\n",
    "rnorm(10, mean = 0, sd = 1)\n",
    "rnorm(10, 5, 2)\n",
    "rnorm(10, 5, 0.2)"
   ]
  },
  {
   "cell_type": "code",
   "execution_count": 96,
   "metadata": {
    "scrolled": true
   },
   "outputs": [
    {
     "data": {
      "text/html": [
       "<ol class=list-inline>\n",
       "\t<li>0.294215440750122</li>\n",
       "\t<li>0.442472000606358</li>\n",
       "\t<li>0.688939896877855</li>\n",
       "\t<li>0.0478158935438842</li>\n",
       "\t<li>0.595229743747041</li>\n",
       "\t<li>0.814818833488971</li>\n",
       "\t<li>0.820147268008441</li>\n",
       "\t<li>0.0884157416876405</li>\n",
       "\t<li>0.991482853656635</li>\n",
       "\t<li>0.304809170076624</li>\n",
       "</ol>\n"
      ],
      "text/latex": [
       "\\begin{enumerate*}\n",
       "\\item 0.294215440750122\n",
       "\\item 0.442472000606358\n",
       "\\item 0.688939896877855\n",
       "\\item 0.0478158935438842\n",
       "\\item 0.595229743747041\n",
       "\\item 0.814818833488971\n",
       "\\item 0.820147268008441\n",
       "\\item 0.0884157416876405\n",
       "\\item 0.991482853656635\n",
       "\\item 0.304809170076624\n",
       "\\end{enumerate*}\n"
      ],
      "text/markdown": [
       "1. 0.294215440750122\n",
       "2. 0.442472000606358\n",
       "3. 0.688939896877855\n",
       "4. 0.0478158935438842\n",
       "5. 0.595229743747041\n",
       "6. 0.814818833488971\n",
       "7. 0.820147268008441\n",
       "8. 0.0884157416876405\n",
       "9. 0.991482853656635\n",
       "10. 0.304809170076624\n",
       "\n",
       "\n"
      ],
      "text/plain": [
       " [1] 0.29421544 0.44247200 0.68893990 0.04781589 0.59522974 0.81481883\n",
       " [7] 0.82014727 0.08841574 0.99148285 0.30480917"
      ]
     },
     "metadata": {},
     "output_type": "display_data"
    },
    {
     "data": {
      "text/html": [
       "<ol class=list-inline>\n",
       "\t<li>4.63370769517496</li>\n",
       "\t<li>3.14938060939312</li>\n",
       "\t<li>0.689935109112412</li>\n",
       "\t<li>4.86452204524539</li>\n",
       "\t<li>0.325278226519004</li>\n",
       "\t<li>3.26117882970721</li>\n",
       "\t<li>2.46674318099394</li>\n",
       "\t<li>2.87047792808153</li>\n",
       "\t<li>1.12233334220946</li>\n",
       "\t<li>2.51759644714184</li>\n",
       "</ol>\n"
      ],
      "text/latex": [
       "\\begin{enumerate*}\n",
       "\\item 4.63370769517496\n",
       "\\item 3.14938060939312\n",
       "\\item 0.689935109112412\n",
       "\\item 4.86452204524539\n",
       "\\item 0.325278226519004\n",
       "\\item 3.26117882970721\n",
       "\\item 2.46674318099394\n",
       "\\item 2.87047792808153\n",
       "\\item 1.12233334220946\n",
       "\\item 2.51759644714184\n",
       "\\end{enumerate*}\n"
      ],
      "text/markdown": [
       "1. 4.63370769517496\n",
       "2. 3.14938060939312\n",
       "3. 0.689935109112412\n",
       "4. 4.86452204524539\n",
       "5. 0.325278226519004\n",
       "6. 3.26117882970721\n",
       "7. 2.46674318099394\n",
       "8. 2.87047792808153\n",
       "9. 1.12233334220946\n",
       "10. 2.51759644714184\n",
       "\n",
       "\n"
      ],
      "text/plain": [
       " [1] 4.6337077 3.1493806 0.6899351 4.8645220 0.3252782 3.2611788 2.4667432\n",
       " [8] 2.8704779 1.1223333 2.5175964"
      ]
     },
     "metadata": {},
     "output_type": "display_data"
    },
    {
     "data": {
      "text/html": [
       "<ol class=list-inline>\n",
       "\t<li>5.383</li>\n",
       "\t<li>5.4063</li>\n",
       "\t<li>4.6881</li>\n",
       "\t<li>5.1194</li>\n",
       "\t<li>5.3626</li>\n",
       "\t<li>5.9456</li>\n",
       "\t<li>5.6566</li>\n",
       "\t<li>5.6431</li>\n",
       "\t<li>4.5449</li>\n",
       "\t<li>4.3467</li>\n",
       "</ol>\n"
      ],
      "text/latex": [
       "\\begin{enumerate*}\n",
       "\\item 5.383\n",
       "\\item 5.4063\n",
       "\\item 4.6881\n",
       "\\item 5.1194\n",
       "\\item 5.3626\n",
       "\\item 5.9456\n",
       "\\item 5.6566\n",
       "\\item 5.6431\n",
       "\\item 4.5449\n",
       "\\item 4.3467\n",
       "\\end{enumerate*}\n"
      ],
      "text/markdown": [
       "1. 5.383\n",
       "2. 5.4063\n",
       "3. 4.6881\n",
       "4. 5.1194\n",
       "5. 5.3626\n",
       "6. 5.9456\n",
       "7. 5.6566\n",
       "8. 5.6431\n",
       "9. 4.5449\n",
       "10. 4.3467\n",
       "\n",
       "\n"
      ],
      "text/plain": [
       " [1] 5.3830 5.4063 4.6881 5.1194 5.3626 5.9456 5.6566 5.6431 4.5449 4.3467"
      ]
     },
     "metadata": {},
     "output_type": "display_data"
    }
   ],
   "source": [
    "# ● Uniform Distribution\n",
    "\n",
    "# runif(n, min, max)\n",
    "# n: number of observations\n",
    "# min: lower limit of the distribution. Must be finite.\n",
    "# max: upper limit of the distribution. Must be finite.\n",
    "\n",
    "runif(10, min = 0, max = 1)\n",
    "runif(10, min = 0, max = 5)\n",
    "round(runif(10, min = 4, max = 6), 4)"
   ]
  },
  {
   "cell_type": "markdown",
   "metadata": {},
   "source": [
    "## <font color=red>Exercise</font>\n",
    "\n",
    "- Make a list of 3 sets of 25 random values following normal, uniform and poisson distribution respectively."
   ]
  },
  {
   "cell_type": "markdown",
   "metadata": {},
   "source": [
    "## 4.2. How to guess which distribution fits a set of values?\n",
    "\n",
    "- <font color=green><b>fitdistrplus package</b></font> is a good tool to do so."
   ]
  },
  {
   "cell_type": "code",
   "execution_count": 98,
   "metadata": {
    "scrolled": true
   },
   "outputs": [
    {
     "name": "stderr",
     "output_type": "stream",
     "text": [
      "Installing package into 'C:/Users/nadav.rindler/Documents/R/win-library/3.2'\n",
      "(as 'lib' is unspecified)\n"
     ]
    },
    {
     "name": "stdout",
     "output_type": "stream",
     "text": [
      "package 'fitdistrplus' successfully unpacked and MD5 sums checked\n",
      "\n",
      "The downloaded binary packages are in\n",
      "\tC:\\Users\\nadav.rindler\\AppData\\Local\\Temp\\2\\RtmpoTP9Xs\\downloaded_packages\n"
     ]
    },
    {
     "name": "stderr",
     "output_type": "stream",
     "text": [
      "Loading required package: MASS\n",
      "Loading required package: survival\n"
     ]
    },
    {
     "data": {
      "text/plain": [
       "summary statistics\n",
       "------\n",
       "min:  0.3603674   max:  15.12789 \n",
       "median:  7.952893 \n",
       "mean:  7.921095 \n",
       "estimated sd:  1.966821 \n",
       "estimated skewness:  -0.006885872 \n",
       "estimated kurtosis:  3.095157 "
      ]
     },
     "metadata": {},
     "output_type": "display_data"
    },
    {
     "data": {
      "image/png": "[encoded data removed]",
      "text/plain": [
       "Plot with title \"Cullen and Frey graph\""
      ]
     },
     "metadata": {},
     "output_type": "display_data"
    }
   ],
   "source": [
    "data = rnorm(1000, 8, 2)\n",
    "\n",
    "#install.packages('fitdistrplus', repos = \"https://cloud.r-project.org\")\n",
    "library('fitdistrplus')\n",
    "\n",
    "descdist(data, discrete = FALSE) # If discrete is TRUE, the distribution is considered as discrete"
   ]
  },
  {
   "cell_type": "code",
   "execution_count": 99,
   "metadata": {
    "collapsed": true,
    "scrolled": true
   },
   "outputs": [],
   "source": [
    "fit.weibull = fitdist(data, \"weibull\")\n",
    "fit.norm = fitdist(data, \"norm\")"
   ]
  },
  {
   "cell_type": "code",
   "execution_count": 100,
   "metadata": {
    "scrolled": true
   },
   "outputs": [
    {
     "data": {
      "image/png": "[encoded data removed]",
      "text/plain": [
       "Plot with title \"P-P plot\""
      ]
     },
     "metadata": {},
     "output_type": "display_data"
    }
   ],
   "source": [
    "plot(fit.norm)"
   ]
  },
  {
   "cell_type": "code",
   "execution_count": 101,
   "metadata": {
    "scrolled": true
   },
   "outputs": [
    {
     "data": {
      "image/png": "[encoded data removed]",
      "text/plain": [
       "Plot with title \"P-P plot\""
      ]
     },
     "metadata": {},
     "output_type": "display_data"
    }
   ],
   "source": [
    "plot(fit.weibull)"
   ]
  },
  {
   "cell_type": "code",
   "execution_count": 102,
   "metadata": {
    "scrolled": true
   },
   "outputs": [
    {
     "data": {
      "text/plain": [
       "summary statistics\n",
       "------\n",
       "min:  8.028043   max:  19.97238 \n",
       "median:  13.88258 \n",
       "mean:  14.00901 \n",
       "estimated sd:  3.475331 \n",
       "estimated skewness:  0.01513791 \n",
       "estimated kurtosis:  1.776197 "
      ]
     },
     "metadata": {},
     "output_type": "display_data"
    },
    {
     "data": {
      "image/png": "[encoded data removed]",
      "text/plain": [
       "Plot with title \"Cullen and Frey graph\""
      ]
     },
     "metadata": {},
     "output_type": "display_data"
    }
   ],
   "source": [
    "data = runif(1000, 8, 20)\n",
    "\n",
    "descdist(data, discrete = FALSE) "
   ]
  },
  {
   "cell_type": "code",
   "execution_count": 104,
   "metadata": {
    "scrolled": true
   },
   "outputs": [
    {
     "ename": "ERROR",
     "evalue": "Error in data$Population: $ operator is invalid for atomic vectors\n",
     "output_type": "error",
     "traceback": [
      "Error in data$Population: $ operator is invalid for atomic vectors\nTraceback:\n",
      "1. descdist(data$Population, discrete = FALSE)",
      "2. is.vector(data, mode = \"numeric\")"
     ]
    }
   ],
   "source": [
    "descdist(data$Population, discrete = FALSE) "
   ]
  },
  {
   "cell_type": "code",
   "execution_count": 105,
   "metadata": {
    "scrolled": false
   },
   "outputs": [
    {
     "data": {
      "text/plain": [
       "summary statistics\n",
       "------\n",
       "min:  162   max:  180 \n",
       "median:  174 \n",
       "mean:  172.6875 \n",
       "estimated sd:  4.392702 \n",
       "estimated skewness:  -0.8927428 \n",
       "estimated kurtosis:  4.058641 "
      ]
     },
     "metadata": {},
     "output_type": "display_data"
    },
    {
     "data": {
      "image/png": "[encoded data removed]",
      "text/plain": [
       "Plot with title \"Cullen and Frey graph\""
      ]
     },
     "metadata": {},
     "output_type": "display_data"
    }
   ],
   "source": [
    "classHeight = c(168, 173, 176, 171, 168, 176, 175, 176, 168, 162, 175, 174, 180, 172, 175, 174)\n",
    "descdist(classHeight, discrete = FALSE) "
   ]
  },
  {
   "cell_type": "code",
   "execution_count": 106,
   "metadata": {
    "scrolled": true
   },
   "outputs": [
    {
     "name": "stderr",
     "output_type": "stream",
     "text": [
      "Warning message in file(file, \"rt\"):\n",
      "\"cannot open file 'Weight_Height.csv': No such file or directory\""
     ]
    },
    {
     "ename": "ERROR",
     "evalue": "Error in file(file, \"rt\"): cannot open the connection\n",
     "output_type": "error",
     "traceback": [
      "Error in file(file, \"rt\"): cannot open the connection\nTraceback:\n",
      "1. read.csv(\"Weight_Height.csv\")",
      "2. read.table(file = file, header = header, sep = sep, quote = quote, \n .     dec = dec, fill = fill, comment.char = comment.char, ...)",
      "3. file(file, \"rt\")"
     ]
    }
   ],
   "source": [
    "wh = read.csv(\"Weight_Height.csv\")\n",
    "head(wh)\n",
    "descdist(wh$Height, discrete = FALSE) "
   ]
  },
  {
   "cell_type": "markdown",
   "metadata": {},
   "source": [
    "## 4.3. Statistical Tests\n",
    "\n",
    "- Suppose that there are two sets of data. Using Statistical Tests it is possible for us to know whether those sets are significantly different or not.\n",
    "- Statistical tests give a p-value.\n",
    "- If <b>p-value < 0.05</b>, the given sets are significantly different.\n",
    "\n",
    "I. t.test\n",
    "performs one and two sample t-tests(student test) on vector(s) of <b>Normal distributed</b> data."
   ]
  },
  {
   "cell_type": "code",
   "execution_count": 107,
   "metadata": {
    "scrolled": true
   },
   "outputs": [
    {
     "data": {
      "text/plain": [
       "\n",
       "\tPaired t-test\n",
       "\n",
       "data:  x and y\n",
       "t = -1.927, df = 999, p-value = 0.05426\n",
       "alternative hypothesis: true difference in means is not equal to 0\n",
       "95 percent confidence interval:\n",
       " -0.449903767  0.004084034\n",
       "sample estimates:\n",
       "mean of the differences \n",
       "             -0.2229099 \n"
      ]
     },
     "metadata": {},
     "output_type": "display_data"
    }
   ],
   "source": [
    "x = rnorm(1000, 10, 2)\n",
    "y = rnorm(1000, 10, 3)\n",
    "\n",
    "t.test(x, y, paired=TRUE)"
   ]
  },
  {
   "cell_type": "code",
   "execution_count": 108,
   "metadata": {
    "scrolled": false
   },
   "outputs": [
    {
     "data": {
      "text/html": [
       "<ol class=list-inline>\n",
       "\t<li>'statistic'</li>\n",
       "\t<li>'parameter'</li>\n",
       "\t<li>'p.value'</li>\n",
       "\t<li>'conf.int'</li>\n",
       "\t<li>'estimate'</li>\n",
       "\t<li>'null.value'</li>\n",
       "\t<li>'alternative'</li>\n",
       "\t<li>'method'</li>\n",
       "\t<li>'data.name'</li>\n",
       "</ol>\n"
      ],
      "text/latex": [
       "\\begin{enumerate*}\n",
       "\\item 'statistic'\n",
       "\\item 'parameter'\n",
       "\\item 'p.value'\n",
       "\\item 'conf.int'\n",
       "\\item 'estimate'\n",
       "\\item 'null.value'\n",
       "\\item 'alternative'\n",
       "\\item 'method'\n",
       "\\item 'data.name'\n",
       "\\end{enumerate*}\n"
      ],
      "text/markdown": [
       "1. 'statistic'\n",
       "2. 'parameter'\n",
       "3. 'p.value'\n",
       "4. 'conf.int'\n",
       "5. 'estimate'\n",
       "6. 'null.value'\n",
       "7. 'alternative'\n",
       "8. 'method'\n",
       "9. 'data.name'\n",
       "\n",
       "\n"
      ],
      "text/plain": [
       "[1] \"statistic\"   \"parameter\"   \"p.value\"     \"conf.int\"    \"estimate\"   \n",
       "[6] \"null.value\"  \"alternative\" \"method\"      \"data.name\"  "
      ]
     },
     "metadata": {},
     "output_type": "display_data"
    },
    {
     "data": {
      "text/html": [
       "0.054258565246938"
      ],
      "text/latex": [
       "0.054258565246938"
      ],
      "text/markdown": [
       "0.054258565246938"
      ],
      "text/plain": [
       "[1] 0.05425857"
      ]
     },
     "metadata": {},
     "output_type": "display_data"
    },
    {
     "data": {
      "text/html": [
       "0.0543"
      ],
      "text/latex": [
       "0.0543"
      ],
      "text/markdown": [
       "0.0543"
      ],
      "text/plain": [
       "[1] 0.0543"
      ]
     },
     "metadata": {},
     "output_type": "display_data"
    },
    {
     "name": "stdout",
     "output_type": "stream",
     "text": [
      "[1] \"Two sets are NOT significantly different.\"\n"
     ]
    }
   ],
   "source": [
    "ttest.res = t.test(x, y, paired=TRUE)\n",
    "names(ttest.res)\n",
    "\n",
    "ttest.res$p.value\n",
    "round(ttest.res$p.value, 4)\n",
    "\n",
    "if(ttest.res$p.value < 0.05){\n",
    "    print (\"Two sets are significantly different.\")\n",
    "}else{\n",
    "    print (\"Two sets are NOT significantly different.\")\n",
    "}"
   ]
  },
  {
   "cell_type": "markdown",
   "metadata": {},
   "source": [
    "# 5. Graphing\n",
    "\n",
    "- Data Visualization plays an important role in making data and data analysis results more understandable.\n",
    "- R provides strong packages providing various types of graphs for different purposes.\n",
    "<br>Template: <font color=red>function_name {package_name}</font>\n",
    "\n",
    "I. <b>plot {graphics}</b>"
   ]
  },
  {
   "cell_type": "code",
   "execution_count": 109,
   "metadata": {
    "scrolled": true
   },
   "outputs": [
    {
     "data": {
      "image/png": "[encoded data removed]",
      "text/plain": [
       "plot without title"
      ]
     },
     "metadata": {},
     "output_type": "display_data"
    }
   ],
   "source": [
    "x = seq(-pi, pi, 0.05)\n",
    "plot(x)"
   ]
  },
  {
   "cell_type": "code",
   "execution_count": 110,
   "metadata": {
    "scrolled": true
   },
   "outputs": [
    {
     "data": {
      "image/png": "[encoded data removed]",
      "text/plain": [
       "plot without title"
      ]
     },
     "metadata": {},
     "output_type": "display_data"
    }
   ],
   "source": [
    "x = seq(-10*pi, 10*pi, 0.05)\n",
    "y = x * cos(x)\n",
    "plot(x, y)"
   ]
  },
  {
   "cell_type": "code",
   "execution_count": 111,
   "metadata": {
    "scrolled": true
   },
   "outputs": [
    {
     "data": {
      "image/png": "[encoded data removed]",
      "text/plain": [
       "plot without title"
      ]
     },
     "metadata": {},
     "output_type": "display_data"
    }
   ],
   "source": [
    "y = sin(x)\n",
    "plot(x, y, col=\"red\", lwd = 7)"
   ]
  },
  {
   "cell_type": "code",
   "execution_count": 112,
   "metadata": {
    "scrolled": true
   },
   "outputs": [
    {
     "data": {
      "image/png": "[encoded data removed]",
      "text/plain": [
       "Plot with title \"Y = SIN (X); -3.14<= X <=3.14\""
      ]
     },
     "metadata": {},
     "output_type": "display_data"
    }
   ],
   "source": [
    "plot(x, y, col=\"red\", lwd = 2, type=\"s\", main=\"Y = SIN (X); -3.14<= X <=3.14\", fg = \"blue\", bty = \"n\", \n",
    "     sub = paste(R.version.string, \"\\nBy ADAX\", sep=' '))"
   ]
  },
  {
   "cell_type": "code",
   "execution_count": 114,
   "metadata": {
    "collapsed": true,
    "scrolled": true
   },
   "outputs": [],
   "source": [
    "?plot"
   ]
  },
  {
   "cell_type": "code",
   "execution_count": 113,
   "metadata": {
    "scrolled": true
   },
   "outputs": [
    {
     "data": {
      "text/html": [
       "<ol class=list-inline>\n",
       "\t<li>'mpg'</li>\n",
       "\t<li>'cyl'</li>\n",
       "\t<li>'disp'</li>\n",
       "\t<li>'hp'</li>\n",
       "\t<li>'drat'</li>\n",
       "</ol>\n"
      ],
      "text/latex": [
       "\\begin{enumerate*}\n",
       "\\item 'mpg'\n",
       "\\item 'cyl'\n",
       "\\item 'disp'\n",
       "\\item 'hp'\n",
       "\\item 'drat'\n",
       "\\end{enumerate*}\n"
      ],
      "text/markdown": [
       "1. 'mpg'\n",
       "2. 'cyl'\n",
       "3. 'disp'\n",
       "4. 'hp'\n",
       "5. 'drat'\n",
       "\n",
       "\n"
      ],
      "text/plain": [
       "[1] \"mpg\"  \"cyl\"  \"disp\" \"hp\"   \"drat\""
      ]
     },
     "metadata": {},
     "output_type": "display_data"
    },
    {
     "data": {
      "image/png": "[encoded data removed]",
      "text/plain": [
       "plot without title"
      ]
     },
     "metadata": {},
     "output_type": "display_data"
    }
   ],
   "source": [
    "names(mtcars[1:5])\n",
    "plot(mtcars[1:5])"
   ]
  },
  {
   "cell_type": "markdown",
   "metadata": {},
   "source": [
    "<font color=green>** we favor <b>ggplot2</b> package. Here's why:\n",
    "- More elegent & compact code\n",
    "- More aesthetically pleasing\n",
    "- More powerful and flexible</font>\n",
    "<br><br>\n",
    "In ggplot2, the focus is not on drawing lines and points, but on creating data visualisations, and it shines in rapid data exploration. In fact, it has become the go-to tool for flexible and professional plots in R.\n",
    "<br><br>\n",
    "<font color=green>** A basic ggplot2 plot consists of:<br>\n",
    "<b>- data:</b> Must be a data.frame<br>\n",
    "<b>- aesthetics:</b> In ggplit jargon, aesthetics means \"something you can see\", and it's used to describe visual<br> <b>- characteristics</b> that represent data, such as: color, size, shape, and position of x, y.<br>\n",
    "<b>- geometry:</b> Geometries of plotted objects (points, lines, polygones, etc.)</font>\n",
    "<br><br>\n",
    "II. <b>qplot {ggplot2}</b>\n",
    "\n",
    "- It is easy to use if you are familiar with plot().\n",
    "- It provides more user-satisfying graphs than plot()."
   ]
  },
  {
   "cell_type": "code",
   "execution_count": 115,
   "metadata": {
    "scrolled": true
   },
   "outputs": [
    {
     "data": {},
     "metadata": {},
     "output_type": "display_data"
    },
    {
     "data": {
      "image/png": "[encoded data removed]",
      "text/plain": [
       "plot without title"
      ]
     },
     "metadata": {},
     "output_type": "display_data"
    }
   ],
   "source": [
    "library('ggplot2')\n",
    "x = seq(1, 100, 0.5)\n",
    "y= x^3\n",
    "qplot(x, y, colour=x, main=\"Main Title\", xlab=\"Horisontal Axis\", ylab=\"Vertical Axis\")"
   ]
  },
  {
   "cell_type": "code",
   "execution_count": 116,
   "metadata": {
    "scrolled": true
   },
   "outputs": [
    {
     "data": {
      "text/html": [
       "<ol class=list-inline>\n",
       "\t<li>'mpg'</li>\n",
       "\t<li>'cyl'</li>\n",
       "\t<li>'disp'</li>\n",
       "\t<li>'hp'</li>\n",
       "\t<li>'drat'</li>\n",
       "\t<li>'wt'</li>\n",
       "\t<li>'qsec'</li>\n",
       "\t<li>'vs'</li>\n",
       "\t<li>'am'</li>\n",
       "\t<li>'gear'</li>\n",
       "\t<li>'carb'</li>\n",
       "</ol>\n"
      ],
      "text/latex": [
       "\\begin{enumerate*}\n",
       "\\item 'mpg'\n",
       "\\item 'cyl'\n",
       "\\item 'disp'\n",
       "\\item 'hp'\n",
       "\\item 'drat'\n",
       "\\item 'wt'\n",
       "\\item 'qsec'\n",
       "\\item 'vs'\n",
       "\\item 'am'\n",
       "\\item 'gear'\n",
       "\\item 'carb'\n",
       "\\end{enumerate*}\n"
      ],
      "text/markdown": [
       "1. 'mpg'\n",
       "2. 'cyl'\n",
       "3. 'disp'\n",
       "4. 'hp'\n",
       "5. 'drat'\n",
       "6. 'wt'\n",
       "7. 'qsec'\n",
       "8. 'vs'\n",
       "9. 'am'\n",
       "10. 'gear'\n",
       "11. 'carb'\n",
       "\n",
       "\n"
      ],
      "text/plain": [
       " [1] \"mpg\"  \"cyl\"  \"disp\" \"hp\"   \"drat\" \"wt\"   \"qsec\" \"vs\"   \"am\"   \"gear\"\n",
       "[11] \"carb\""
      ]
     },
     "metadata": {},
     "output_type": "display_data"
    },
    {
     "data": {},
     "metadata": {},
     "output_type": "display_data"
    },
    {
     "data": {
      "image/png": "[encoded data removed]",
      "text/plain": [
       "plot without title"
      ]
     },
     "metadata": {},
     "output_type": "display_data"
    }
   ],
   "source": [
    "names(mtcars)\n",
    "qplot(mpg, wt, data = mtcars, geom = \"auto\")"
   ]
  },
  {
   "cell_type": "code",
   "execution_count": 117,
   "metadata": {
    "scrolled": true
   },
   "outputs": [
    {
     "data": {},
     "metadata": {},
     "output_type": "display_data"
    },
    {
     "data": {
      "image/png": "[encoded data removed]",
      "text/plain": [
       "plot without title"
      ]
     },
     "metadata": {},
     "output_type": "display_data"
    }
   ],
   "source": [
    "qplot(factor(cyl), hp, data = mtcars, geom = \"boxplot\")"
   ]
  }
 ],
 "metadata": {
  "anaconda-cloud": {},
  "kernelspec": {
   "display_name": "R",
   "language": "R",
   "name": "ir"
  },
  "language_info": {
   "codemirror_mode": "r",
   "file_extension": ".r",
   "mimetype": "text/x-r-source",
   "name": "R",
   "pygments_lexer": "r",
   "version": "3.2.5"
  }
 },
 "nbformat": 4,
 "nbformat_minor": 1
}
