{
 "cells": [
  {
   "cell_type": "markdown",
   "metadata": {},
   "source": [
    "# Intro to R Programming\n",
    "\n",
    "- R is a software environment for data analysis, statistical computing, and graphics. \n",
    "- It is also a programming language. \n",
    "- Like Python, R is free and open-source. \n",
    "- Compared to Python, R's syntax is more natural to use and allows you to complete data analyses in fewer lines of code.\n",
    "- It comes with <b>base</b> package and the rest should be installed\n",
    "- More than 10,000 packages are available in CRAN\n",
    "\n",
    "<b>Author</b>: Geoffrey Kee, modified by Nadav Rindler\n",
    "\n",
    "# Installation\n",
    "\n",
    "- conda install -c r r-essentials\n",
    "\n",
    "\n",
    "# Basics\n",
    "\n"
   ]
  },
  {
   "cell_type": "code",
   "execution_count": null,
   "metadata": {
    "collapsed": true
   },
   "outputs": [],
   "source": [
    "# To get Working Directory -- which folder are you working from?\n",
    "getwd()"
   ]
  },
  {
   "cell_type": "code",
   "execution_count": null,
   "metadata": {
    "collapsed": true
   },
   "outputs": [],
   "source": [
    "# To change workind directory\n",
    "setwd('Your/FilePath/Here')\n",
    "    #Note that for Windows users, you MUST use backslashes ('/') in all file paths"
   ]
  },
  {
   "cell_type": "code",
   "execution_count": null,
   "metadata": {
    "collapsed": true,
    "scrolled": true
   },
   "outputs": [],
   "source": [
    "# To assign values to an object\n",
    "num1 <- 5  #Using a carrot \"<-\"\n",
    "name = 'John' #Using a single equals sign \"=\"\n",
    "x = 1:20"
   ]
  },
  {
   "cell_type": "code",
   "execution_count": null,
   "metadata": {
    "collapsed": true
   },
   "outputs": [],
   "source": [
    "# To reurn the values of R objects, just type the object name\n",
    "num1\n",
    "name\n",
    "x"
   ]
  },
  {
   "cell_type": "code",
   "execution_count": null,
   "metadata": {
    "collapsed": true
   },
   "outputs": [],
   "source": [
    "# NOTE: R is case sensitive:\n",
    "NUM1"
   ]
  },
  {
   "cell_type": "code",
   "execution_count": null,
   "metadata": {
    "collapsed": true
   },
   "outputs": [],
   "source": [
    "# NOTE: A single equals sign \"=\" is for variable assignment. A double equals sign \"==\" tests for equivalence\n",
    "num1 == 4"
   ]
  },
  {
   "cell_type": "code",
   "execution_count": null,
   "metadata": {
    "collapsed": true
   },
   "outputs": [],
   "source": [
    "# Your turn: Create an object called \"z\" and set it equal to a sequence of integers from 5 to 15\n"
   ]
  },
  {
   "cell_type": "code",
   "execution_count": null,
   "metadata": {
    "collapsed": true
   },
   "outputs": [],
   "source": [
    "# Concatenate two or more strings\n",
    "greeting = paste('Hello', name, '!!', sep=\" \")\n",
    "greeting\n",
    "    #What does the \"sep=\" argument do?"
   ]
  },
  {
   "cell_type": "code",
   "execution_count": null,
   "metadata": {
    "collapsed": true
   },
   "outputs": [],
   "source": [
    "# List all defined objects\n",
    "ls()"
   ]
  },
  {
   "cell_type": "code",
   "execution_count": null,
   "metadata": {
    "collapsed": true
   },
   "outputs": [],
   "source": [
    "# Remove an object\n",
    "rm(num2)"
   ]
  },
  {
   "cell_type": "markdown",
   "metadata": {},
   "source": [
    "# I. Data Types\n",
    "\n",
    "Elements of R objects can be one of 5 data types: \n",
    "1. **character**: \"a\", \"swc\"\n",
    "2. **numeric**: 2, 15.5\n",
    "3. **integer**: 2L (the L tells R to store this as an integer)\n",
    "4. **logical**: TRUE, FALSE\n",
    "5. **complex**: 1+4i (complex numbers with real and imaginary parts)\n",
    "\n",
    "# II. Data Structures\n",
    "\n",
    "- All data in R is stored as in objects\n",
    "- Objects can be various **data structures**, such as:\n",
    "    - vector\n",
    "    - list\n",
    "    - matrix\n",
    "    - data frame\n",
    "    - factors\n",
    "\n",
    "\n",
    "- Base data structures can be organized by their dimensionality and \n",
    "  whether they are homogeneous or heterogeneous\n",
    "  - <font color=blue><b>Homogeneous</b></font>: all elements must be of the same type\n",
    "  - <font color=blue><b>Heterogeneous</b></font>: the elements can be of diﬀerent type\n",
    "  \n",
    "## 1. Vector\n",
    "\n",
    "- A vector is a series of elements, stored together as a single object. \n",
    "- Vectors can be created in R using the <b>c()</b> function, which stands for combine.\n",
    "- Vectors are **ordered**, so you can select elements from a vector by their position.\n",
    "\n",
    "**Note: All elements of a vector should be of the same data-type.**"
   ]
  },
  {
   "cell_type": "code",
   "execution_count": null,
   "metadata": {
    "collapsed": true
   },
   "outputs": [],
   "source": [
    "# Create  a vector\n",
    "weights = c(4, 2, 0, 8.65, 93, 4, 9, 3)\n",
    "countries = c(\"Malaysia\", \"Japan\", \"Iran\", \"Singapore\", \"Germany\")\n",
    "\n",
    "countries\n",
    "weights"
   ]
  },
  {
   "cell_type": "code",
   "execution_count": null,
   "metadata": {
    "collapsed": true
   },
   "outputs": [],
   "source": [
    "# Select the 3rd element from the countries vector\n",
    "countries[3]"
   ]
  },
  {
   "cell_type": "code",
   "execution_count": null,
   "metadata": {
    "collapsed": true
   },
   "outputs": [],
   "source": [
    "# Select the 2nd, 3rd, and 4th elements from the countries vector\n",
    "countries[2:4]\n",
    "countries[4:2]"
   ]
  },
  {
   "cell_type": "code",
   "execution_count": null,
   "metadata": {
    "collapsed": true
   },
   "outputs": [],
   "source": [
    "# To show 1st and 4th elements of the weights vector\n",
    "weights[c(1, 4)]"
   ]
  },
  {
   "cell_type": "code",
   "execution_count": null,
   "metadata": {
    "collapsed": true
   },
   "outputs": [],
   "source": [
    "#To show all elements of the countries vector EXCEPT the 1st and 4th\n",
    "countries[-c(1, 4)]"
   ]
  },
  {
   "cell_type": "code",
   "execution_count": null,
   "metadata": {
    "collapsed": true
   },
   "outputs": [],
   "source": [
    "# Show information about an object\n",
    "\n",
    "# What Data Type?\n",
    "typeof(weights)\n",
    "typeof(countries)\n",
    "\n",
    "class(weights)\n",
    "class(countries)\n",
    "\n",
    "print (\"=================\")\n",
    "\n",
    "# How many elements\n",
    "length(countries)"
   ]
  },
  {
   "cell_type": "code",
   "execution_count": null,
   "metadata": {
    "collapsed": true
   },
   "outputs": [],
   "source": [
    "# To name elements of a vector\n",
    "names(weights) = c(\"Apple\", \"Orange\", \"Kivi\", \"Watermelon\", \"Strawberry\", \"Blueberry\", \"Banana\", \"Durian\")\n",
    "\n",
    "weights\n",
    "weights[\"Watermelon\"]"
   ]
  },
  {
   "cell_type": "code",
   "execution_count": null,
   "metadata": {
    "collapsed": true
   },
   "outputs": [],
   "source": [
    "animals = c(Lion = 3, Horse = 12, Fish = 53, Eagle = 6)\n",
    "is.vector(animals)\n",
    "animals"
   ]
  },
  {
   "cell_type": "code",
   "execution_count": null,
   "metadata": {
    "collapsed": true
   },
   "outputs": [],
   "source": [
    "animals[!animals < 10]\n",
    "    # What does the \"!\" mean?"
   ]
  },
  {
   "cell_type": "code",
   "execution_count": null,
   "metadata": {
    "collapsed": true
   },
   "outputs": [],
   "source": [
    "# Your turn: Change the names of the animals vector -- pick 4 new animal names\n"
   ]
  },
  {
   "cell_type": "code",
   "execution_count": null,
   "metadata": {
    "collapsed": true
   },
   "outputs": [],
   "source": [
    "# Computations on vectors are performed element-wise\n",
    "a = seq(20, 30)\n",
    "b = seq(1, 6, by = 0.5)\n",
    "c = seq(1, 10, by = 2)\n",
    "\n",
    "a\n",
    "b\n",
    "c"
   ]
  },
  {
   "cell_type": "code",
   "execution_count": null,
   "metadata": {
    "collapsed": true
   },
   "outputs": [],
   "source": [
    "# Computations on vectors are performed element-wise - Continue\n",
    "a - b\n",
    "\"============\"\n",
    "a + c"
   ]
  },
  {
   "cell_type": "code",
   "execution_count": null,
   "metadata": {
    "collapsed": true
   },
   "outputs": [],
   "source": [
    "# Computations on vectors are performed element-wise - Continue\n",
    "d = c * 3\n",
    "c\n",
    "d\n",
    "sum(c)\n",
    "sum(d)"
   ]
  },
  {
   "cell_type": "markdown",
   "metadata": {},
   "source": [
    "### 1.1. Add elements to a vector\n",
    "\n",
    "To add additional elements to a vector, use the **c()** function to combine the elements."
   ]
  },
  {
   "cell_type": "code",
   "execution_count": null,
   "metadata": {
    "collapsed": true,
    "scrolled": true
   },
   "outputs": [],
   "source": [
    "e  <- c(a,b)\n",
    "e\n",
    "\n",
    "e  <- c(e,1)"
   ]
  },
  {
   "cell_type": "code",
   "execution_count": null,
   "metadata": {
    "collapsed": true
   },
   "outputs": [],
   "source": [
    "# Your turn: Select the 4th and 6th elements of vector 'e'"
   ]
  },
  {
   "cell_type": "markdown",
   "metadata": {},
   "source": [
    "## 2. List\n",
    "\n",
    "- A list can be considered a vector where its **elements can be of any data type**, including lists.\n",
    "- Lists can be defined by <b>list()</b> function.\n",
    "- Lists sometimes called “recursive” vectors, because **lists can contain other lists**.\n",
    "- List elements often have names.\n",
    "- <b>[[ and $ to subset and extend lists</b>"
   ]
  },
  {
   "cell_type": "code",
   "execution_count": null,
   "metadata": {
    "collapsed": true
   },
   "outputs": [],
   "source": [
    "mylist = list(attr1 = 3, attr2 = TRUE, attr3 = NA, attr4 = \"Kuala Lumpur\")\n",
    "\n",
    "names(mylist)\n",
    "'============'\n",
    "mylist$attr1\n",
    "mylist[[1]]\n",
    "mylist[1]\n",
    "'============'\n",
    "mylist$attr4\n",
    "mylist[[4]]\n",
    "mylist[4]"
   ]
  },
  {
   "cell_type": "code",
   "execution_count": null,
   "metadata": {
    "collapsed": true
   },
   "outputs": [],
   "source": [
    "mylist2 = list(attr1 = 3, attr2 = TRUE, attr3 = NA, attr4 = \"Kuala Lumpur\", city=list(city1=\"KL\", city2=\"PJ\", city3=\"JB\"))\n",
    "mylist2"
   ]
  },
  {
   "cell_type": "code",
   "execution_count": null,
   "metadata": {
    "collapsed": true
   },
   "outputs": [],
   "source": [
    "mylist2$city$city2"
   ]
  },
  {
   "cell_type": "markdown",
   "metadata": {},
   "source": [
    "## 3. Matrix\n",
    "\n",
    "A matrix is a collection of data elements of the <font color=red>same data type</font> arranged in a <b>two-dimensional rectangular layout</b>.<br>\n",
    "In mathematics, a matrix is shown by its name followed by Nrows * Ncols (e.g. A2 ** 3).<br>\n",
    "R can hold a matrix using <b>matrix()</b> function."
   ]
  },
  {
   "cell_type": "code",
   "execution_count": null,
   "metadata": {
    "collapsed": true
   },
   "outputs": [],
   "source": [
    "#Explore R's documentation / help page for the matrix() function\n",
    "?matrix"
   ]
  },
  {
   "cell_type": "code",
   "execution_count": null,
   "metadata": {
    "collapsed": true
   },
   "outputs": [],
   "source": [
    "# How to save a matrix?\n",
    "m = matrix(c(4, 7, 12, -5, 6, 0, 5, 7, 1, 103, 21, -9), \n",
    "           nrow = 3, \n",
    "           ncol = 4)\n",
    "m"
   ]
  },
  {
   "cell_type": "code",
   "execution_count": null,
   "metadata": {
    "collapsed": true
   },
   "outputs": [],
   "source": [
    "# Your turn: Copy the code from the cell above, and add a fourth argument \"byrow=TRUE\". What does the \"byrow\" argument do?\n"
   ]
  },
  {
   "cell_type": "code",
   "execution_count": null,
   "metadata": {
    "collapsed": true
   },
   "outputs": [],
   "source": [
    "# To name dimensions (rows and columns)\n",
    "dimnames(m) = list(\n",
    "                    c('r1', 'r2', 'r3'),\n",
    "                    c('col1', 'col2', 'col3', 'col4'))\n",
    "m"
   ]
  },
  {
   "cell_type": "code",
   "execution_count": null,
   "metadata": {
    "collapsed": true
   },
   "outputs": [],
   "source": [
    "# Select elements by their row and column indexes: matrix_name[row_number, col_number]\n",
    "m[2, 3]\n",
    "\n",
    "# Select all elements in 2nd row\n",
    "m[2,]\n",
    "\n",
    "# Select all elements in 3rd column\n",
    "m[, 3]\n",
    "\n",
    "# Select multiple rows and columns from matrix\n",
    "m[c(2, 3), c(1, 4)]"
   ]
  },
  {
   "cell_type": "code",
   "execution_count": null,
   "metadata": {
    "collapsed": true
   },
   "outputs": [],
   "source": [
    "# Transpose matrix\n",
    "t(m)"
   ]
  },
  {
   "cell_type": "code",
   "execution_count": null,
   "metadata": {
    "collapsed": true
   },
   "outputs": [],
   "source": [
    "# Matrix multiplication\n",
    "m %*% t(m)"
   ]
  },
  {
   "cell_type": "markdown",
   "metadata": {},
   "source": [
    "## 4. Factors\n",
    "\n",
    "Factors are used to represent <b>categorical variables</b>.<br>\n",
    "Factors are integer vectors.\n",
    "<br><b><font color=red>R sorts levels alphabetically</font></b>\n",
    "<br><b>factor()</b> function is being used in R to make a factor."
   ]
  },
  {
   "cell_type": "code",
   "execution_count": null,
   "metadata": {
    "collapsed": true
   },
   "outputs": [],
   "source": [
    "# How to make a vector in accordance to a vector of strings?\n",
    "day <- c('Mon', 'Tue', 'Wed', 'Thu', 'Fri', 'Sat', 'Sun') \n",
    "day_factor = factor(day) \n",
    "day_factor\n",
    "str(day_factor)"
   ]
  },
  {
   "cell_type": "code",
   "execution_count": null,
   "metadata": {
    "collapsed": true
   },
   "outputs": [],
   "source": [
    "# To make the vector values sorted as we want\n",
    "day <- c('Mon', 'Tue', 'Wed', 'Thu', 'Fri', 'Sat', 'Sun') \n",
    "day_factor = factor(day, levels = day) \n",
    "day_factor\n",
    "str(day_factor)"
   ]
  },
  {
   "cell_type": "markdown",
   "metadata": {},
   "source": [
    "## 5. DataFrame\n",
    "\n",
    "- To hold observations (entities) data, stronger data structure is needed.\n",
    "- <b>A DataFrame is used for storing data tables. \n",
    "- It is a list of vectors of equal length. </b>\n",
    "- In fact, we can create a DataFrame by combining vectors.\n",
    "- DataFrames are suitable to work with DataSets.\n",
    "\n",
    "In DataFrames:\n",
    "- every row represents an obsservation (entity)\n",
    "- every column represents value of an attribute of an observation (e.g. name, age, Gender, etc)\n",
    "- Can contain elements of diﬀerent types but **elements in the same column must have the same type**"
   ]
  },
  {
   "cell_type": "code",
   "execution_count": null,
   "metadata": {
    "collapsed": true
   },
   "outputs": [],
   "source": [
    "# To make a DataFrame\n",
    "# 1. Combine multiple vectors using data.frame() function\n",
    "Name = c(\"Amin\", \"Nur\", \"John\", \"Sara\")\n",
    "Age = c(35, 18, 53, 28)\n",
    "Graduated = c(TRUE, FALSE, FALSE, TRUE)\n",
    "students = data.frame(Name, Age, Graduated)# Strings will be stored as factors\n",
    "\n",
    "students"
   ]
  },
  {
   "cell_type": "code",
   "execution_count": null,
   "metadata": {
    "collapsed": true
   },
   "outputs": [],
   "source": [
    "# View structure of data frame\n",
    "str(students)\n",
    "    # What are the data types of each column in the data frame?"
   ]
  },
  {
   "cell_type": "code",
   "execution_count": null,
   "metadata": {
    "collapsed": true
   },
   "outputs": [],
   "source": [
    "# You can choose whether to store character variables as data type character or factor\n",
    "students2 = data.frame(Name, Age, Graduated,  stringsAsFactors = FALSE) # Strings will NOT be stored as factors\n",
    "str(students2)"
   ]
  },
  {
   "cell_type": "code",
   "execution_count": null,
   "metadata": {
    "collapsed": true
   },
   "outputs": [],
   "source": [
    "# Select specific rows and columns from the data frame: df_name[row_number, col_number]\n",
    "students[2, 1]\n",
    "students[2, c(1,3)]"
   ]
  },
  {
   "cell_type": "code",
   "execution_count": null,
   "metadata": {
    "collapsed": true
   },
   "outputs": [],
   "source": [
    "# There are many ways to select columns from a data frame \n",
    "\n",
    "students[,1]\n",
    "students[,'Name']\n",
    "students$Name\n",
    "students[1]\n",
    "students[[1]]\n",
    "students['Name']\n",
    "students[['Name']]"
   ]
  },
  {
   "cell_type": "code",
   "execution_count": null,
   "metadata": {
    "collapsed": true
   },
   "outputs": [],
   "source": [
    "# Select multiple data frame columns by *combining* them c()\n",
    "students[,c('Name','age')]"
   ]
  },
  {
   "cell_type": "code",
   "execution_count": null,
   "metadata": {
    "collapsed": true
   },
   "outputs": [],
   "source": [
    "# Select data frame rows where condition is TRUE\n",
    "students[students$age>30,]"
   ]
  },
  {
   "cell_type": "code",
   "execution_count": null,
   "metadata": {
    "collapsed": true
   },
   "outputs": [],
   "source": [
    "# Change values in a row of a data frame\n",
    "students2[1,] = list(Name = \"Amin_2\", Age = 36, Graduated = TRUE) \n",
    "students2"
   ]
  },
  {
   "cell_type": "code",
   "execution_count": null,
   "metadata": {
    "collapsed": true
   },
   "outputs": [],
   "source": [
    "# Change values in a column of a data frame. Remember, columns are just vectors!\n",
    "students2[, 2] = c(37, 29, 67, 19)\n",
    "students2"
   ]
  },
  {
   "cell_type": "code",
   "execution_count": null,
   "metadata": {
    "collapsed": true
   },
   "outputs": [],
   "source": [
    "# Add column to a data frame using assignment\n",
    "height = c(177, 162, 168, 170)\n",
    "students$Height = height\n",
    "students"
   ]
  },
  {
   "cell_type": "code",
   "execution_count": null,
   "metadata": {
    "collapsed": true
   },
   "outputs": [],
   "source": [
    "# Add column to a data frame using cbind()\n",
    "Weight = c(83, 60, 75, 80)\n",
    "students = cbind(students, Weight)\n",
    "students"
   ]
  },
  {
   "cell_type": "code",
   "execution_count": null,
   "metadata": {
    "collapsed": true
   },
   "outputs": [],
   "source": [
    "# Add row to a data frame using rbind()\n",
    "tmp1 = data.frame(Name = \"Ali\" , Age = 21, Graduated = FALSE, Height = 169, Weight = 68)\n",
    "students = rbind(students, tmp1)\n",
    "students"
   ]
  },
  {
   "cell_type": "code",
   "execution_count": null,
   "metadata": {
    "collapsed": true
   },
   "outputs": [],
   "source": [
    "# Number of rows?\n",
    "nrow(students)\n",
    "\n",
    "# Number of columns?\n",
    "ncol(students)\n",
    "\n",
    "# Dimensions?\n",
    "dim(students)"
   ]
  },
  {
   "cell_type": "markdown",
   "metadata": {
    "collapsed": true
   },
   "source": [
    "- How to sort a DataFrame based on one of its columns?\n",
    "  <br><b>order()</b> function helps"
   ]
  },
  {
   "cell_type": "code",
   "execution_count": null,
   "metadata": {
    "collapsed": true
   },
   "outputs": [],
   "source": [
    "# To sort a dataFrame\n",
    "\n",
    "# We want to sort students based on their age descending\n",
    "# We have to find students rank first\n",
    "\n",
    "rank = order(students$Age)\n",
    "rank\n",
    "\n",
    "students[rank,]"
   ]
  },
  {
   "cell_type": "code",
   "execution_count": null,
   "metadata": {
    "collapsed": true
   },
   "outputs": [],
   "source": [
    "# R's default is to sort ascending. To sort descending, add the \"decreasing=TRUE\" argument\n",
    "students[order(students$Age, decreasing = TRUE),]"
   ]
  },
  {
   "cell_type": "code",
   "execution_count": null,
   "metadata": {
    "collapsed": true
   },
   "outputs": [],
   "source": [
    "# Read data from file (e.g. CSV file)\n",
    "?read.csv()"
   ]
  },
  {
   "cell_type": "markdown",
   "metadata": {},
   "source": [
    "R comes with some built-in data frames helping us to enhance our analysis skills.\n",
    "<br>Try looking into the following data frames:\n",
    "- women\n",
    "- mtcars\n",
    "- USArrests\n",
    "- chickwts\n",
    "- airquality"
   ]
  },
  {
   "cell_type": "code",
   "execution_count": null,
   "metadata": {
    "collapsed": true
   },
   "outputs": [],
   "source": [
    "head(mtcars, 5) # Print first 5 rows of mtcars"
   ]
  },
  {
   "cell_type": "code",
   "execution_count": null,
   "metadata": {
    "collapsed": true
   },
   "outputs": [],
   "source": [
    "tail(USArrests, 4) # Print last 4 rows of USArrests"
   ]
  },
  {
   "cell_type": "code",
   "execution_count": null,
   "metadata": {
    "collapsed": true
   },
   "outputs": [],
   "source": [
    "colnames(USArrests) # column names"
   ]
  },
  {
   "cell_type": "code",
   "execution_count": null,
   "metadata": {
    "collapsed": true
   },
   "outputs": [],
   "source": [
    "rownames(tail(mtcars, 7)) # row names"
   ]
  },
  {
   "cell_type": "markdown",
   "metadata": {},
   "source": [
    "## 7. Missing values\n",
    "\n",
    "- Missing values in R are denoted by either <font color=red><b>NA</b></font> or <font color=red><b>NaN</b></font>. \n",
    "- <b>NaN</b> is used for undefined mathematical operations.\n",
    "    - <font color=green>is.nan()</font> can be used to check for it.\n",
    "- <b>NA</b> is usually used for everything else\n",
    "    - <font color=green>is.na()</font> can be used to check for it.\n",
    "\n",
    "\n",
    "- <font color=red>NaN value is also NA, but the converse is not true.</font>"
   ]
  },
  {
   "cell_type": "code",
   "execution_count": null,
   "metadata": {
    "collapsed": true
   },
   "outputs": [],
   "source": [
    "testvals = c(4, 0 , -7, NaN, 23, NA, -60)\n",
    "print (testvals)\n",
    "\"=========================\"\n",
    "is.nan(testvals)\n",
    "\"=========================\"\n",
    "is.na(testvals)"
   ]
  },
  {
   "cell_type": "markdown",
   "metadata": {},
   "source": [
    "### 7.1. How to remove NA values?\n",
    "\n",
    "#### 7.1.1. using is.na() function:"
   ]
  },
  {
   "cell_type": "code",
   "execution_count": null,
   "metadata": {
    "collapsed": true
   },
   "outputs": [],
   "source": [
    "bads = is.na(testvals)\n",
    "bads\n",
    "!bads\n",
    "testvals[!bads]"
   ]
  },
  {
   "cell_type": "markdown",
   "metadata": {},
   "source": [
    "#### 7.1.2. using complete.cases() function:"
   ]
  },
  {
   "cell_type": "code",
   "execution_count": null,
   "metadata": {
    "collapsed": true
   },
   "outputs": [],
   "source": [
    "goods = complete.cases(testvals)\n",
    "print (goods)\n",
    "\"================================\"\n",
    "testvals[goods]"
   ]
  },
  {
   "cell_type": "code",
   "execution_count": null,
   "metadata": {
    "collapsed": true
   },
   "outputs": [],
   "source": [
    "testvals1 = c( 4 , 0 ,  -7,  NaN, 23,  NA, -60)\n",
    "\n",
    "testvals2 = c(\"a\", NA , \"b\", \"c\", \"d\", NA, \"e\")\n",
    "\n",
    "goods = complete.cases(testvals1, testvals2)\n",
    "goods"
   ]
  },
  {
   "cell_type": "markdown",
   "metadata": {},
   "source": [
    "## <font color=red><b>Quiz:</b></font>\n",
    "\n",
    "Write a part of code to show following results:\n",
    "1. Using USArrests dataset, those 3 states having highest Murder rate.\n",
    "2. Using mtcars dataset, the strongest car that has 3 gears.\n",
    "3. Using mtcars dataset, average of horse power (hp) of those cars having 4 gears and 6 cylindars (cyl)."
   ]
  },
  {
   "cell_type": "markdown",
   "metadata": {},
   "source": [
    "# II. Control Structures\n",
    "\n",
    "A control structure is a block of programming that <font color=red>analyzes variables and chooses a direction</font> in which to go based on given parameters.<br>\n",
    "Control Structures can be divided into two main categories:\n",
    "- Conditional statements\n",
    "- Repeat Loops\n",
    "\n",
    "## 1. Conditional statements\n",
    "\n",
    "In R, as the other programing languages, <b>if-else statement</b> is used to evaluate a condition (simple or complex) to decise which parts of code should be executed.<br>\n",
    "\n",
    "if (condition) {<br>\n",
    " statement1<br>\n",
    "} else {<br>\n",
    "    statement2\n",
    "}"
   ]
  },
  {
   "cell_type": "code",
   "execution_count": null,
   "metadata": {
    "collapsed": true
   },
   "outputs": [],
   "source": [
    "head(students)"
   ]
  },
  {
   "cell_type": "code",
   "execution_count": null,
   "metadata": {
    "collapsed": true
   },
   "outputs": [],
   "source": [
    "students[1,]$Age\n",
    "students[1,]$Graduated\n",
    "\"========================\"\n",
    "if(students[1,]$Age > 40 | students[1,]$Graduated == FALSE){\n",
    "        print (\"Is not eligible!!\")\n",
    "}else{\n",
    "        print (\"Is eligible!!\")\n",
    "    }"
   ]
  },
  {
   "cell_type": "code",
   "execution_count": null,
   "metadata": {
    "collapsed": true
   },
   "outputs": [],
   "source": [
    "# Nested if\n",
    "\n",
    "x = -5\n",
    "y = 0\n",
    "z = -3\n",
    "\n",
    "if(x > 0){\n",
    "    if(y == 10){\n",
    "        print (\"M1_1\")\n",
    "    }else{\n",
    "        print (\"M1_2\")\n",
    "    }\n",
    "}else if(x == 0){\n",
    "    if(y <= 0){\n",
    "        print (\"M2_1\")\n",
    "    }\n",
    "    else{\n",
    "        print (\"M2_2\")\n",
    "    }\n",
    "}else{\n",
    "    print(\"M3\")\n",
    "}"
   ]
  },
  {
   "cell_type": "code",
   "execution_count": null,
   "metadata": {
    "collapsed": true
   },
   "outputs": [],
   "source": [
    "# ifelse\n",
    "\n",
    "x = 5\n",
    "z = ifelse(x == 5, 1, -1)\n",
    "print (z)\n",
    "\"================\"\n",
    "z = ifelse(x != 5, 1, -1)\n",
    "print (z)"
   ]
  },
  {
   "cell_type": "markdown",
   "metadata": {},
   "source": [
    "## 2. Repeat Loops\n",
    "\n",
    "These structures repeats given statements for <b>specified</b> or <b>unspecified number</b> of repetition.\n",
    "\n",
    "### 2.1. for\n",
    "\n",
    "- implements a loop with specified number of repetitions.<br>\n",
    "\n",
    "for (<i>variable</i> in <i>sequence</i>){<br>\n",
    "<tab>statements<br>\n",
    "}"
   ]
  },
  {
   "cell_type": "code",
   "execution_count": null,
   "metadata": {
    "collapsed": true
   },
   "outputs": [],
   "source": [
    "for(i in 1:5){\n",
    "    print (paste(i, \") Hello World !\"))\n",
    "}"
   ]
  },
  {
   "cell_type": "code",
   "execution_count": null,
   "metadata": {
    "collapsed": true
   },
   "outputs": [],
   "source": [
    "for(name in names(students)){\n",
    "    print (paste(\"Column \", name, \": \"))\n",
    "    print (students[[name]])\n",
    "}"
   ]
  },
  {
   "cell_type": "code",
   "execution_count": null,
   "metadata": {
    "collapsed": true
   },
   "outputs": [],
   "source": [
    "for(i in 1:nrow(students)){\n",
    "    str = paste(students[i,]$Name, \"is\", students[i, ]$Age, \"Years old\", sep = ' ')\n",
    "    if(students[i,]$Graduated == TRUE)\n",
    "        str = paste(str , \" and is graduated.\")\n",
    "    else\n",
    "        str = paste(str , \" but is not graduated.\")\n",
    "    print(str)\n",
    "}"
   ]
  },
  {
   "cell_type": "markdown",
   "metadata": {},
   "source": [
    "### 2.2. while\n",
    "\n",
    "- implements unspecified loops\n",
    "- It repeats statement(s)while the given condition is true.\n",
    "\n",
    "while(condition){<br>\n",
    "statements<br>\n",
    "}"
   ]
  },
  {
   "cell_type": "code",
   "execution_count": null,
   "metadata": {
    "collapsed": true
   },
   "outputs": [],
   "source": [
    "cnt = 1\n",
    "while(students[cnt,]$Graduated == TRUE){\n",
    "    print (students[cnt,])\n",
    "    cnt = cnt + 1\n",
    "    }"
   ]
  },
  {
   "cell_type": "code",
   "execution_count": null,
   "metadata": {
    "collapsed": true
   },
   "outputs": [],
   "source": [
    "cnt = 1\n",
    "while(students[cnt,]$Graduated == TRUE | students[cnt,]$Age < 20){\n",
    "    print (students[cnt,])\n",
    "    cnt = cnt + 1\n",
    "    }"
   ]
  },
  {
   "cell_type": "markdown",
   "metadata": {},
   "source": [
    "### 2.3. Repeating Functions\n",
    "\n",
    "- <font color=red><b>Will be tought after functions</b></font>"
   ]
  },
  {
   "cell_type": "markdown",
   "metadata": {},
   "source": [
    "# 3. Functions\n",
    "\n",
    "- Two kinds of functions are being used in R:\n",
    "1. Built-in function (e.g. c(), data.frame(), print() )\n",
    "2. User-defined functions\n",
    "\n",
    "The structure of a function is as below:\n",
    "\n",
    "<b>\n",
    "myfunction <- function(arg1, arg2, ... ){<br>\n",
    "statements<br>\n",
    "return (object)<br>\n",
    "}</b>"
   ]
  },
  {
   "cell_type": "code",
   "execution_count": null,
   "metadata": {
    "collapsed": true
   },
   "outputs": [],
   "source": [
    "# A simple function to multiply a vector of numbers\n",
    "\n",
    "multiply <- function (x){\n",
    "    if(length(x) == 0 | is.vector(x) == FALSE){\n",
    "        NULL\n",
    "    }\n",
    "    else{\n",
    "        m = 1\n",
    "        for ( num in x){\n",
    "            m = m * num\n",
    "        }\n",
    "        return(m)\n",
    "    }\n",
    "}\n",
    "\n",
    "numbers = c(2, 4, 6, 10)\n",
    "multiply(numbers)\n",
    "multiply(c())"
   ]
  },
  {
   "cell_type": "markdown",
   "metadata": {},
   "source": [
    "## <font color=red><b>Quiz:</b></font>\n",
    "\n",
    "- Write a function to find the second greatest number of a list of numbers."
   ]
  },
  {
   "cell_type": "code",
   "execution_count": null,
   "metadata": {
    "collapsed": true
   },
   "outputs": [],
   "source": [
    "second_max <- function (x){\n",
    "    if(length(x) <= 1){\n",
    "        NULL\n",
    "    }else{\n",
    "        fmax = -.Machine$double.xmax#-99999\n",
    "        smax = -.Machine$double.xmax#-99999\n",
    "        \n",
    "        for(num in x){\n",
    "            if(num > fmax){\n",
    "                smax = fmax\n",
    "                fmax = num\n",
    "            }else if(num > smax){\n",
    "                smax = num\n",
    "            }\n",
    "        }\n",
    "        smax\n",
    "    }\n",
    "}\n",
    "\n",
    "second_max(c(1,2,4,7,5,9,3))\n",
    "second_max(c(2))\n",
    "second_max(c(5,5))"
   ]
  },
  {
   "cell_type": "markdown",
   "metadata": {},
   "source": [
    "- <font color=red>Example:</font> Write a function to return x^y (x powered by y)."
   ]
  },
  {
   "cell_type": "code",
   "execution_count": null,
   "metadata": {
    "collapsed": true
   },
   "outputs": [],
   "source": [
    "powerxy <- function(base=2, pow=0){\n",
    "    if(base == 0){\n",
    "        0\n",
    "    }else if(pow == 0){\n",
    "        1\n",
    "    }else{\n",
    "        res = 1\n",
    "        for(i in 1:pow){\n",
    "            res = res * base\n",
    "        }\n",
    "        return (res)\n",
    "    }\n",
    "}\n",
    "    \n",
    "powerxy(2, 5)\n",
    "powerxy(5, 2)\n",
    "powerxy(pow=5, base=2)\n",
    "powerxy(pow=10)\n",
    "powerxy(base=10)"
   ]
  },
  {
   "cell_type": "markdown",
   "metadata": {},
   "source": [
    "# 4. Statistics\n",
    "\n",
    "## 4.1. How to generate random numbers\n",
    "\n",
    "- There are some functions in R for generating random numbers with particular distribution.\n"
   ]
  },
  {
   "cell_type": "code",
   "execution_count": null,
   "metadata": {
    "collapsed": true
   },
   "outputs": [],
   "source": [
    "# ● BINOMIAL Distribution\n",
    "\n",
    "# rbinom(n, size, prob)\n",
    "# n: number of observations\n",
    "# size: number of trials (zero or more)\n",
    "# prob: probability of success on each trial\n",
    "\n",
    "rbinom(10, 4, 0.5)\n",
    "rbinom(10, 4, 0.5)\n",
    "rbinom(10, 4, 0.5)"
   ]
  },
  {
   "cell_type": "code",
   "execution_count": null,
   "metadata": {
    "collapsed": true
   },
   "outputs": [],
   "source": [
    "# ● Geometric Distribution\n",
    "\n",
    "# rgeom(n, prob)\n",
    "# n: number of observations\n",
    "# prob: probability of success on each trial\n",
    "\n",
    "rgeom(10, 0.5)\n",
    "rgeom(10, 0.5)\n",
    "rgeom(10, 0.5)"
   ]
  },
  {
   "cell_type": "code",
   "execution_count": null,
   "metadata": {
    "collapsed": true
   },
   "outputs": [],
   "source": [
    "# ● Poisson Distribution\n",
    "\n",
    "# rpois(n, lambda)\n",
    "# n: number of observations\n",
    "# lambda: vector of (non-negative) means\n",
    "\n",
    "rpois(10, 0.5)\n",
    "rpois(10, 0.5)\n",
    "rpois(10, c(0.75, 0.5, 0.25))"
   ]
  },
  {
   "cell_type": "code",
   "execution_count": null,
   "metadata": {
    "collapsed": true
   },
   "outputs": [],
   "source": [
    "# ● Exponential Distribution\n",
    "\n",
    "# rexp(n, rate)\n",
    "# n: number of observations\n",
    "# rate: vector of rates\n",
    "\n",
    "rexp(10, rate = 1)\n",
    "rexp(10, rate = 5)\n",
    "round(rexp(10, rate = c(1, 3, 2)), 3)"
   ]
  },
  {
   "cell_type": "code",
   "execution_count": null,
   "metadata": {
    "collapsed": true
   },
   "outputs": [],
   "source": [
    "# ● Normal Distribution\n",
    "\n",
    "# rnorm(n, mean, sd)\n",
    "# n: number of observations\n",
    "# mean: vector of means\n",
    "# sd: vector of Standard Deviations\n",
    "\n",
    "rnorm(10, mean = 0, sd = 1)\n",
    "rnorm(10, 5, 2)\n",
    "rnorm(10, 5, 0.2)"
   ]
  },
  {
   "cell_type": "code",
   "execution_count": null,
   "metadata": {
    "collapsed": true
   },
   "outputs": [],
   "source": [
    "# ● Uniform Distribution\n",
    "\n",
    "# runif(n, min, max)\n",
    "# n: number of observations\n",
    "# min: lower limit of the distribution. Must be finite.\n",
    "# max: upper limit of the distribution. Must be finite.\n",
    "\n",
    "runif(10, min = 0, max = 1)\n",
    "runif(10, min = 0, max = 5)\n",
    "round(runif(10, min = 4, max = 6), 4)"
   ]
  },
  {
   "cell_type": "markdown",
   "metadata": {},
   "source": [
    "## <font color=red>Exercise</font>\n",
    "\n",
    "- Make a list of 3 sets of 25 random values following normal, uniform and poisson distribution respectively."
   ]
  },
  {
   "cell_type": "markdown",
   "metadata": {},
   "source": [
    "## 4.2. How to guess which distribution fits a set of values?\n",
    "\n",
    "- <font color=green><b>fitdistrplus package</b></font> is a good tool to do so."
   ]
  },
  {
   "cell_type": "code",
   "execution_count": null,
   "metadata": {
    "collapsed": true
   },
   "outputs": [],
   "source": [
    "data = rnorm(1000, 8, 2)\n",
    "\n",
    "#install.packages('fitdistrplus', repos = \"https://cloud.r-project.org\")\n",
    "library('fitdistrplus')\n",
    "\n",
    "descdist(data, discrete = FALSE) # If discrete is TRUE, the distribution is considered as discrete"
   ]
  },
  {
   "cell_type": "code",
   "execution_count": null,
   "metadata": {
    "collapsed": true
   },
   "outputs": [],
   "source": [
    "fit.weibull = fitdist(data, \"weibull\")\n",
    "fit.norm = fitdist(data, \"norm\")"
   ]
  },
  {
   "cell_type": "code",
   "execution_count": null,
   "metadata": {
    "collapsed": true
   },
   "outputs": [],
   "source": [
    "plot(fit.norm)"
   ]
  },
  {
   "cell_type": "code",
   "execution_count": null,
   "metadata": {
    "collapsed": true
   },
   "outputs": [],
   "source": [
    "plot(fit.weibull)"
   ]
  },
  {
   "cell_type": "code",
   "execution_count": null,
   "metadata": {
    "collapsed": true
   },
   "outputs": [],
   "source": [
    "data = runif(1000, 8, 20)\n",
    "\n",
    "descdist(data, discrete = FALSE) "
   ]
  },
  {
   "cell_type": "code",
   "execution_count": null,
   "metadata": {
    "collapsed": true
   },
   "outputs": [],
   "source": [
    "descdist(whodata$Population, discrete = FALSE) "
   ]
  },
  {
   "cell_type": "code",
   "execution_count": null,
   "metadata": {
    "collapsed": true,
    "scrolled": true
   },
   "outputs": [],
   "source": [
    "classHeight = c(168, 173, 176, 171, 168, 176, 175, 176, 168, 162, 175, 174, 180, 172, 175, 174)\n",
    "descdist(classHeight, discrete = FALSE) "
   ]
  },
  {
   "cell_type": "code",
   "execution_count": null,
   "metadata": {
    "collapsed": true
   },
   "outputs": [],
   "source": [
    "wh = read.csv(\"Weight_Height.csv\")\n",
    "head(wh)\n",
    "descdist(wh$Height, discrete = FALSE) "
   ]
  },
  {
   "cell_type": "markdown",
   "metadata": {},
   "source": [
    "## 4.3. Statistical Tests\n",
    "\n",
    "- Suppose that there are two sets of data. Using Statistical Tests it is possible for us to know whether those sets are significantly different or not.\n",
    "- Statistical tests give a p-value.\n",
    "- If <b>p-value < 0.05</b>, the given sets are significantly different.\n",
    "\n",
    "I. t.test\n",
    "performs one and two sample t-tests(student test) on vector(s) of <b>Normal distributed</b> data."
   ]
  },
  {
   "cell_type": "code",
   "execution_count": null,
   "metadata": {
    "collapsed": true
   },
   "outputs": [],
   "source": [
    "x = rnorm(1000, 10, 2)\n",
    "y = rnorm(1000, 10, 3)\n",
    "\n",
    "t.test(x, y, paired=TRUE)"
   ]
  },
  {
   "cell_type": "code",
   "execution_count": null,
   "metadata": {
    "collapsed": true,
    "scrolled": true
   },
   "outputs": [],
   "source": [
    "ttest.res = t.test(x, y, paired=TRUE)\n",
    "names(ttest.res)\n",
    "\n",
    "ttest.res$p.value\n",
    "round(ttest.res$p.value, 4)\n",
    "\n",
    "if(ttest.res$p.value < 0.05){\n",
    "    print (\"Two sets are significantly different.\")\n",
    "}else{\n",
    "    print (\"Two sets are NOT significantly different.\")\n",
    "}"
   ]
  },
  {
   "cell_type": "markdown",
   "metadata": {},
   "source": [
    "# 5. Graphing\n",
    "\n",
    "- Data Visualization plays an important role in making data and data analysis results more understandable.\n",
    "- R provides strong packages providing various types of graphs for different purposes.\n",
    "\n",
    "<font color=green>** we favor <b>ggplot2</b> package. Here's why:\n",
    "- More elegent & compact code\n",
    "- More aesthetically pleasing\n",
    "- More powerful and flexible</font>\n",
    "\n",
    "In ggplot2, the focus is not on drawing lines and points, but on creating data visualisations, and it shines in rapid data exploration. In fact, it has become the go-to tool for flexible and professional plots in R.\n",
    "\n",
    "<font color=green>** A basic ggplot2 plot consists of:<br>\n",
    "<b>- data:</b> Must be a data.frame<br>\n",
    "<b>- aesthetics:</b> In ggplit jargon, aesthetics means \"something you can see\", and it's used to describe visual<br> <b>- characteristics</b> that represent data, such as: color, size, shape, and position of x, y.<br>\n",
    "<b>- geometry:</b> Geometries of plotted objects (points, lines, polygons, etc.)</font>"
   ]
  },
  {
   "cell_type": "code",
   "execution_count": null,
   "metadata": {
    "scrolled": false
   },
   "outputs": [],
   "source": [
    "#install.packages('ggplot2')\n",
    "library('ggplot2')\n",
    "x = seq(1, 100, 0.5)\n",
    "y= x^3\n",
    "qplot(x, y, color=x, main=\"Main Title\", xlab=\"X axis label\", ylab=\"Y axis label\")"
   ]
  },
  {
   "cell_type": "code",
   "execution_count": null,
   "metadata": {
    "collapsed": true
   },
   "outputs": [],
   "source": [
    "qplot(mpg, wt, data = mtcars, geom = \"auto\")"
   ]
  },
  {
   "cell_type": "code",
   "execution_count": null,
   "metadata": {
    "collapsed": true
   },
   "outputs": [],
   "source": [
    "qplot(factor(cyl), hp, data = mtcars, geom = \"boxplot\")"
   ]
  },
  {
   "cell_type": "code",
   "execution_count": null,
   "metadata": {
    "collapsed": true
   },
   "outputs": [],
   "source": [
    "# For more advanced plots, use ggplot\n",
    "ggplot(data=mtcars) +\n",
    "  geom_point(aes(x=mpg, y=wt, color=cyl)) +\n",
    "  labs(title=\"Car Data\",\n",
    "       subtitle=\"MPG vs. Weight\",\n",
    "       x=\"MPG\", y=\"Weight\")"
   ]
  },
  {
   "cell_type": "markdown",
   "metadata": {},
   "source": [
    "# 6. Other Built-in R Functions"
   ]
  },
  {
   "cell_type": "code",
   "execution_count": null,
   "metadata": {
    "collapsed": true
   },
   "outputs": [],
   "source": [
    "# Constants\n",
    "letters\n",
    "month.name\n",
    "month.abb\n",
    "pi\n",
    "\n",
    "# Built-in functions\n",
    "sqrt(64)\n",
    "round(3.141593, digits=2)\n",
    "strsplit(\"dengue\", \"\")\n",
    "toupper(\"hello world\")\n",
    "paste(\"Today is\", date())\n",
    "\n",
    "# User input\n",
    "my.name <- readline(prompt=\"Enter your name: \")"
   ]
  }
 ],
 "metadata": {
  "anaconda-cloud": {},
  "kernelspec": {
   "display_name": "R",
   "language": "R",
   "name": "ir"
  },
  "language_info": {
   "codemirror_mode": "r",
   "file_extension": ".r",
   "mimetype": "text/x-r-source",
   "name": "R",
   "pygments_lexer": "r",
   "version": "3.2.5"
  }
 },
 "nbformat": 4,
 "nbformat_minor": 1
}
